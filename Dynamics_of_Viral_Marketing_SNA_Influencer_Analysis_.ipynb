{
  "cells": [
    {
      "cell_type": "code",
      "execution_count": null,
      "metadata": {
        "id": "4WHDbIvrPwCI"
      },
      "outputs": [],
      "source": [
        "import networkx as nx\n",
        "import pandas as pd\n",
        "import matplotlib.pyplot as plt\n",
        "%matplotlib notebook\n",
        "%matplotlib inline"
      ],
      "id": "4WHDbIvrPwCI"
    },
    {
      "cell_type": "code",
      "execution_count": null,
      "id": "86545df6",
      "metadata": {
        "execution": {
          "iopub.execute_input": "2022-04-23T06:31:00.861990Z",
          "iopub.status.busy": "2022-04-23T06:31:00.861503Z",
          "iopub.status.idle": "2022-04-23T06:31:01.899641Z",
          "shell.execute_reply": "2022-04-23T06:31:01.898823Z"
        },
        "papermill": {
          "duration": 1.109133,
          "end_time": "2022-04-23T06:31:01.901898",
          "exception": false,
          "start_time": "2022-04-23T06:31:00.792765",
          "status": "completed"
        },
        "tags": [],
        "id": "86545df6"
      },
      "outputs": [],
      "source": [
        "import matplotlib.pyplot as plt\n",
        "import seaborn as sns\n",
        "import numpy as np"
      ]
    },
    {
      "cell_type": "code",
      "source": [
        "from google.colab import drive\n",
        "drive.mount('/content/drive')"
      ],
      "metadata": {
        "colab": {
          "base_uri": "https://localhost:8080/"
        },
        "id": "p_PcRLMaunjv",
        "outputId": "ecb89355-8b94-4366-cac2-212b0c81158a"
      },
      "id": "p_PcRLMaunjv",
      "execution_count": null,
      "outputs": [
        {
          "output_type": "stream",
          "name": "stdout",
          "text": [
            "Drive already mounted at /content/drive; to attempt to forcibly remount, call drive.mount(\"/content/drive\", force_remount=True).\n"
          ]
        }
      ]
    },
    {
      "cell_type": "code",
      "execution_count": null,
      "id": "e55695e6",
      "metadata": {
        "execution": {
          "iopub.execute_input": "2022-04-23T06:31:02.172263Z",
          "iopub.status.busy": "2022-04-23T06:31:02.171953Z",
          "iopub.status.idle": "2022-04-23T06:31:02.204863Z",
          "shell.execute_reply": "2022-04-23T06:31:02.204207Z"
        },
        "papermill": {
          "duration": 0.103067,
          "end_time": "2022-04-23T06:31:02.206935",
          "exception": false,
          "start_time": "2022-04-23T06:31:02.103868",
          "status": "completed"
        },
        "tags": [],
        "id": "e55695e6"
      },
      "outputs": [],
      "source": [
        "df_t=pd.read_csv('/content/drive/MyDrive/TikTok.csv')\n",
        "df_i=pd.read_csv('/content/drive/MyDrive/Instagram.csv')\n",
        "df_y=pd.read_csv('/content/drive/MyDrive/Youtube.csv')\n",
        "df_tc=pd.read_csv('/content/drive/MyDrive/TikTok_Collab.csv')\n",
        "df_yc=pd.read_csv('/content/drive/MyDrive/Youtube_Collab.csv')\n",
        "df_ic=pd.read_csv('/content/drive/MyDrive/Instagram_Collab.csv')\n"
      ]
    },
    {
      "cell_type": "markdown",
      "id": "0e8691a7",
      "metadata": {
        "papermill": {
          "duration": 0.06647,
          "end_time": "2022-04-23T06:31:02.341369",
          "exception": false,
          "start_time": "2022-04-23T06:31:02.274899",
          "status": "completed"
        },
        "tags": [],
        "id": "0e8691a7"
      },
      "source": [
        "# Tiktok data set analysis"
      ]
    },
    {
      "cell_type": "code",
      "execution_count": null,
      "id": "7d5a197f",
      "metadata": {
        "execution": {
          "iopub.execute_input": "2022-04-23T06:31:02.480449Z",
          "iopub.status.busy": "2022-04-23T06:31:02.479930Z",
          "iopub.status.idle": "2022-04-23T06:31:02.499493Z",
          "shell.execute_reply": "2022-04-23T06:31:02.498896Z"
        },
        "papermill": {
          "duration": 0.092273,
          "end_time": "2022-04-23T06:31:02.501117",
          "exception": false,
          "start_time": "2022-04-23T06:31:02.408844",
          "status": "completed"
        },
        "tags": [],
        "colab": {
          "base_uri": "https://localhost:8080/",
          "height": 143
        },
        "id": "7d5a197f",
        "outputId": "e7d4b009-3ed1-41bd-a98a-33524c7330f6"
      },
      "outputs": [
        {
          "output_type": "execute_result",
          "data": {
            "text/plain": [
              "  Tiktoker_Name Tiktok_Name Subscribers_Count Avg_Views Avg_Likes  \\\n",
              "0      ekin.721      MOMO’s            221.7K       26M      2.8M   \n",
              "1       dojacat    Doja Cat             22.2M     25.4M        5M   \n",
              "2   kiet.ac.quy  Kiệt Ắk Wỷ              2.1M     20.7M      3.5M   \n",
              "\n",
              "  Avg_Comments Avg_Shares  \n",
              "0        29.4K     116.4K  \n",
              "1        36.7K      46.8K  \n",
              "2        38.8K      33.9K  "
            ],
            "text/html": [
              "\n",
              "  <div id=\"df-d4c4db3b-da4f-484c-93b5-a5ce1b868e43\">\n",
              "    <div class=\"colab-df-container\">\n",
              "      <div>\n",
              "<style scoped>\n",
              "    .dataframe tbody tr th:only-of-type {\n",
              "        vertical-align: middle;\n",
              "    }\n",
              "\n",
              "    .dataframe tbody tr th {\n",
              "        vertical-align: top;\n",
              "    }\n",
              "\n",
              "    .dataframe thead th {\n",
              "        text-align: right;\n",
              "    }\n",
              "</style>\n",
              "<table border=\"1\" class=\"dataframe\">\n",
              "  <thead>\n",
              "    <tr style=\"text-align: right;\">\n",
              "      <th></th>\n",
              "      <th>Tiktoker_Name</th>\n",
              "      <th>Tiktok_Name</th>\n",
              "      <th>Subscribers_Count</th>\n",
              "      <th>Avg_Views</th>\n",
              "      <th>Avg_Likes</th>\n",
              "      <th>Avg_Comments</th>\n",
              "      <th>Avg_Shares</th>\n",
              "    </tr>\n",
              "  </thead>\n",
              "  <tbody>\n",
              "    <tr>\n",
              "      <th>0</th>\n",
              "      <td>ekin.721</td>\n",
              "      <td>MOMO’s</td>\n",
              "      <td>221.7K</td>\n",
              "      <td>26M</td>\n",
              "      <td>2.8M</td>\n",
              "      <td>29.4K</td>\n",
              "      <td>116.4K</td>\n",
              "    </tr>\n",
              "    <tr>\n",
              "      <th>1</th>\n",
              "      <td>dojacat</td>\n",
              "      <td>Doja Cat</td>\n",
              "      <td>22.2M</td>\n",
              "      <td>25.4M</td>\n",
              "      <td>5M</td>\n",
              "      <td>36.7K</td>\n",
              "      <td>46.8K</td>\n",
              "    </tr>\n",
              "    <tr>\n",
              "      <th>2</th>\n",
              "      <td>kiet.ac.quy</td>\n",
              "      <td>Kiệt Ắk Wỷ</td>\n",
              "      <td>2.1M</td>\n",
              "      <td>20.7M</td>\n",
              "      <td>3.5M</td>\n",
              "      <td>38.8K</td>\n",
              "      <td>33.9K</td>\n",
              "    </tr>\n",
              "  </tbody>\n",
              "</table>\n",
              "</div>\n",
              "      <button class=\"colab-df-convert\" onclick=\"convertToInteractive('df-d4c4db3b-da4f-484c-93b5-a5ce1b868e43')\"\n",
              "              title=\"Convert this dataframe to an interactive table.\"\n",
              "              style=\"display:none;\">\n",
              "        \n",
              "  <svg xmlns=\"http://www.w3.org/2000/svg\" height=\"24px\"viewBox=\"0 0 24 24\"\n",
              "       width=\"24px\">\n",
              "    <path d=\"M0 0h24v24H0V0z\" fill=\"none\"/>\n",
              "    <path d=\"M18.56 5.44l.94 2.06.94-2.06 2.06-.94-2.06-.94-.94-2.06-.94 2.06-2.06.94zm-11 1L8.5 8.5l.94-2.06 2.06-.94-2.06-.94L8.5 2.5l-.94 2.06-2.06.94zm10 10l.94 2.06.94-2.06 2.06-.94-2.06-.94-.94-2.06-.94 2.06-2.06.94z\"/><path d=\"M17.41 7.96l-1.37-1.37c-.4-.4-.92-.59-1.43-.59-.52 0-1.04.2-1.43.59L10.3 9.45l-7.72 7.72c-.78.78-.78 2.05 0 2.83L4 21.41c.39.39.9.59 1.41.59.51 0 1.02-.2 1.41-.59l7.78-7.78 2.81-2.81c.8-.78.8-2.07 0-2.86zM5.41 20L4 18.59l7.72-7.72 1.47 1.35L5.41 20z\"/>\n",
              "  </svg>\n",
              "      </button>\n",
              "      \n",
              "  <style>\n",
              "    .colab-df-container {\n",
              "      display:flex;\n",
              "      flex-wrap:wrap;\n",
              "      gap: 12px;\n",
              "    }\n",
              "\n",
              "    .colab-df-convert {\n",
              "      background-color: #E8F0FE;\n",
              "      border: none;\n",
              "      border-radius: 50%;\n",
              "      cursor: pointer;\n",
              "      display: none;\n",
              "      fill: #1967D2;\n",
              "      height: 32px;\n",
              "      padding: 0 0 0 0;\n",
              "      width: 32px;\n",
              "    }\n",
              "\n",
              "    .colab-df-convert:hover {\n",
              "      background-color: #E2EBFA;\n",
              "      box-shadow: 0px 1px 2px rgba(60, 64, 67, 0.3), 0px 1px 3px 1px rgba(60, 64, 67, 0.15);\n",
              "      fill: #174EA6;\n",
              "    }\n",
              "\n",
              "    [theme=dark] .colab-df-convert {\n",
              "      background-color: #3B4455;\n",
              "      fill: #D2E3FC;\n",
              "    }\n",
              "\n",
              "    [theme=dark] .colab-df-convert:hover {\n",
              "      background-color: #434B5C;\n",
              "      box-shadow: 0px 1px 3px 1px rgba(0, 0, 0, 0.15);\n",
              "      filter: drop-shadow(0px 1px 2px rgba(0, 0, 0, 0.3));\n",
              "      fill: #FFFFFF;\n",
              "    }\n",
              "  </style>\n",
              "\n",
              "      <script>\n",
              "        const buttonEl =\n",
              "          document.querySelector('#df-d4c4db3b-da4f-484c-93b5-a5ce1b868e43 button.colab-df-convert');\n",
              "        buttonEl.style.display =\n",
              "          google.colab.kernel.accessAllowed ? 'block' : 'none';\n",
              "\n",
              "        async function convertToInteractive(key) {\n",
              "          const element = document.querySelector('#df-d4c4db3b-da4f-484c-93b5-a5ce1b868e43');\n",
              "          const dataTable =\n",
              "            await google.colab.kernel.invokeFunction('convertToInteractive',\n",
              "                                                     [key], {});\n",
              "          if (!dataTable) return;\n",
              "\n",
              "          const docLinkHtml = 'Like what you see? Visit the ' +\n",
              "            '<a target=\"_blank\" href=https://colab.research.google.com/notebooks/data_table.ipynb>data table notebook</a>'\n",
              "            + ' to learn more about interactive tables.';\n",
              "          element.innerHTML = '';\n",
              "          dataTable['output_type'] = 'display_data';\n",
              "          await google.colab.output.renderOutput(dataTable, element);\n",
              "          const docLink = document.createElement('div');\n",
              "          docLink.innerHTML = docLinkHtml;\n",
              "          element.appendChild(docLink);\n",
              "        }\n",
              "      </script>\n",
              "    </div>\n",
              "  </div>\n",
              "  "
            ]
          },
          "metadata": {},
          "execution_count": 77
        }
      ],
      "source": [
        "df_t.head(3)"
      ]
    },
    {
      "cell_type": "code",
      "execution_count": null,
      "id": "eb46c5f7",
      "metadata": {
        "execution": {
          "iopub.execute_input": "2022-04-23T06:31:02.911601Z",
          "iopub.status.busy": "2022-04-23T06:31:02.911044Z",
          "iopub.status.idle": "2022-04-23T06:31:02.917914Z",
          "shell.execute_reply": "2022-04-23T06:31:02.917338Z"
        },
        "papermill": {
          "duration": 0.077124,
          "end_time": "2022-04-23T06:31:02.919558",
          "exception": false,
          "start_time": "2022-04-23T06:31:02.842434",
          "status": "completed"
        },
        "tags": [],
        "colab": {
          "base_uri": "https://localhost:8080/"
        },
        "id": "eb46c5f7",
        "outputId": "cfd47e61-cafc-4058-8d3d-57a7e4e5fad4"
      },
      "outputs": [
        {
          "output_type": "execute_result",
          "data": {
            "text/plain": [
              "Tiktoker_Name        0\n",
              "Tiktok_Name          2\n",
              "Subscribers_Count    0\n",
              "Avg_Views            0\n",
              "Avg_Likes            0\n",
              "Avg_Comments         0\n",
              "Avg_Shares           0\n",
              "dtype: int64"
            ]
          },
          "metadata": {},
          "execution_count": 78
        }
      ],
      "source": [
        "df_t.isnull().sum()"
      ]
    },
    {
      "cell_type": "code",
      "execution_count": null,
      "id": "2a0fbf5f",
      "metadata": {
        "execution": {
          "iopub.execute_input": "2022-04-23T06:31:03.057042Z",
          "iopub.status.busy": "2022-04-23T06:31:03.056552Z",
          "iopub.status.idle": "2022-04-23T06:31:03.069894Z",
          "shell.execute_reply": "2022-04-23T06:31:03.069150Z"
        },
        "papermill": {
          "duration": 0.084281,
          "end_time": "2022-04-23T06:31:03.071824",
          "exception": false,
          "start_time": "2022-04-23T06:31:02.987543",
          "status": "completed"
        },
        "tags": [],
        "colab": {
          "base_uri": "https://localhost:8080/"
        },
        "id": "2a0fbf5f",
        "outputId": "121771de-7011-463c-c85c-8e7a97314621"
      },
      "outputs": [
        {
          "output_type": "execute_result",
          "data": {
            "text/plain": [
              "M    797\n",
              "K    203\n",
              "Name: Subscribers_Count, dtype: int64"
            ]
          },
          "metadata": {},
          "execution_count": 79
        }
      ],
      "source": [
        "df_t['Subscribers_Count'].str[-1].value_counts()"
      ]
    },
    {
      "cell_type": "code",
      "source": [
        "G = nx.Graph()"
      ],
      "metadata": {
        "id": "T7cphO3BA19M"
      },
      "id": "T7cphO3BA19M",
      "execution_count": null,
      "outputs": []
    },
    {
      "cell_type": "code",
      "source": [
        "for i in range(len(df_tc)):\n",
        "    G.add_node(df_tc['Tiktoker_Name'][i])"
      ],
      "metadata": {
        "id": "lCKj8FOoAwAC"
      },
      "id": "lCKj8FOoAwAC",
      "execution_count": null,
      "outputs": []
    },
    {
      "cell_type": "code",
      "source": [
        "for i in range(len(df_tc)):\n",
        "    for j in range(i+1, len(df_tc)):\n",
        "        if df_tc['Tiktok_Name'][i] == df_tc['Tiktok_Name'][j]:\n",
        "            G.add_edge(df_tc['Tiktoker_Name'][i], df_tc['Tiktoker_Name'][j])\n"
      ],
      "metadata": {
        "id": "uFIBYyueAkyq"
      },
      "id": "uFIBYyueAkyq",
      "execution_count": null,
      "outputs": []
    },
    {
      "cell_type": "code",
      "source": [
        "pos = nx.circular_layout(G)\n",
        "\n",
        "# Draw the graph\n",
        "nx.draw_networkx_nodes(G, pos, node_size=20, node_color='lightblue')\n",
        "nx.draw_networkx_edges(G, pos, width=1, alpha=0.8, edge_color='gray')\n",
        "#nx.draw_networkx_labels(G, pos, font_size=8, font_family='sans-serif')\n",
        "nx.draw_networkx(G, with_labels=False)\n",
        "\n",
        "# show the plot\n",
        "plt.show()\n",
        "# Add title and axis labels\n",
        "plt.title(\"Tiktok Influencer Network Graph\")\n",
        "plt.axis('off')\n",
        "\n",
        "# Show the graph\n",
        "plt.show()"
      ],
      "metadata": {
        "colab": {
          "base_uri": "https://localhost:8080/",
          "height": 817
        },
        "id": "Rxdc7PLRBlYu",
        "outputId": "6a4bf1fa-55e8-4c05-ac7d-3feca51cbba4"
      },
      "id": "Rxdc7PLRBlYu",
      "execution_count": null,
      "outputs": [
        {
          "output_type": "display_data",
          "data": {
            "text/plain": [
              "<Figure size 640x480 with 1 Axes>"
            ],
            "image/png": "[encoded data removed]"
          },
          "metadata": {}
        },
        {
          "output_type": "display_data",
          "data": {
            "text/plain": [
              "<Figure size 640x480 with 1 Axes>"
            ],
            "image/png": "[encoded data removed]"
          },
          "metadata": {}
        }
      ]
    },
    {
      "cell_type": "code",
      "source": [
        "G = nx.Graph()"
      ],
      "metadata": {
        "id": "gKiMOaBCJL7O"
      },
      "execution_count": null,
      "outputs": [],
      "id": "gKiMOaBCJL7O"
    },
    {
      "cell_type": "code",
      "source": [
        "for i in range(20):\n",
        "      G.add_node(df_tc['Tiktoker_Name'][i])"
      ],
      "metadata": {
        "id": "8QEVOhEKJL7Q"
      },
      "execution_count": null,
      "outputs": [],
      "id": "8QEVOhEKJL7Q"
    },
    {
      "cell_type": "code",
      "source": [
        "for i in range(20):\n",
        "    for j in range(i+1, 20):\n",
        "        if df_tc['Tiktok_Name'][i] == df_tc['Tiktok_Name'][j]:\n",
        "            G.add_edge(df_tc['Tiktoker_Name'][i], df_tc['Tiktoker_Name'][j])\n"
      ],
      "metadata": {
        "id": "v3rkEi3-JL7R"
      },
      "execution_count": null,
      "outputs": [],
      "id": "v3rkEi3-JL7R"
    },
    {
      "cell_type": "code",
      "source": [
        "pos = nx.circular_layout(G)\n",
        "\n",
        "# Draw the graph\n",
        "nx.draw_networkx_nodes(G, pos, node_size=200, node_color='lightblue')\n",
        "nx.draw_networkx_edges(G, pos, width=1, alpha=0.8, edge_color='gray')\n",
        "nx.draw_networkx_labels(G, pos, font_size=8, font_family='sans-serif')\n",
        "nx.draw_networkx(G, with_labels=False)\n",
        "\n",
        "# show the plot\n",
        "plt.show()\n",
        "# Add title and axis labels\n",
        "plt.title(\"Tiktok Influencer Network Graph\")\n",
        "plt.axis('off')\n",
        "\n",
        "# Show the graph\n",
        "plt.show()"
      ],
      "metadata": {
        "colab": {
          "base_uri": "https://localhost:8080/",
          "height": 817
        },
        "outputId": "d7516472-7e5d-47de-bd1b-0d98d374d8e1",
        "id": "RrvVCO64JL7T"
      },
      "execution_count": null,
      "outputs": [
        {
          "output_type": "display_data",
          "data": {
            "text/plain": [
              "<Figure size 640x480 with 1 Axes>"
            ],
            "image/png": "[encoded data removed]"
          },
          "metadata": {}
        },
        {
          "output_type": "display_data",
          "data": {
            "text/plain": [
              "<Figure size 640x480 with 1 Axes>"
            ],
            "image/png": "[encoded data removed]"
          },
          "metadata": {}
        }
      ],
      "id": "RrvVCO64JL7T"
    },
    {
      "cell_type": "code",
      "source": [
        "from operator import itemgetter \n",
        "def convert_value_to_float(value):\n",
        "    if isinstance(value, str):\n",
        "        if value.endswith('M'):\n",
        "            return float(value[:-1]) * 1000000\n",
        "        elif value.endswith('K'):\n",
        "            return float(value[:-1]) * 1000\n",
        "        else:\n",
        "            return float(value)\n",
        "    else:\n",
        "        return float(value)\n",
        "\n",
        "for i in range(len(df_t)):\n",
        "    for j in range(i+1, len(df_t)):\n",
        "        if df_t['Tiktok_Name'][i] != df_t['Tiktok_Name'][j]:\n",
        "            weight = (convert_value_to_float(df_t['Avg_Views'][i])+convert_value_to_float(df_t['Avg_Views'][j]))/2\n",
        "            G.add_edge(df_t['Tiktok_Name'][i], df_t['Tiktok_Name'][j], weight=weight)\n",
        "\n"
      ],
      "metadata": {
        "id": "JdWklqnlKfuL"
      },
      "id": "JdWklqnlKfuL",
      "execution_count": null,
      "outputs": []
    },
    {
      "cell_type": "code",
      "source": [
        "import math\n",
        "\n",
        "def degree_discount(G, k):\n",
        "    nodes = set(G.nodes())\n",
        "    scores = dict.fromkeys(nodes, 0)\n",
        "    for i in range(k):\n",
        "        max_node = max(scores, key=scores.get)\n",
        "        nodes.remove(max_node)\n",
        "        for neighbor in G.neighbors(max_node):\n",
        "            if neighbor in nodes:\n",
        "                d = G.degree(neighbor)\n",
        "                scores[neighbor] += 1 / math.sqrt(d)\n",
        "    return dict(sorted(scores.items(), key=lambda item: item[1], reverse=True)[:k])\n"
      ],
      "metadata": {
        "id": "8GLNlgznVI-Z"
      },
      "id": "8GLNlgznVI-Z",
      "execution_count": null,
      "outputs": []
    },
    {
      "cell_type": "code",
      "source": [
        "k=2\n",
        "seeds = degree_discount(G, k) # select seeds using degree discount heuristic\n",
        "\n",
        "most_influential_node = max(list(seeds), key=lambda x: G.degree(x))\n",
        "print(\"Most influential node:\", most_influential_node)\n"
      ],
      "metadata": {
        "colab": {
          "base_uri": "https://localhost:8080/"
        },
        "id": "fAxlVZnDPZV7",
        "outputId": "2c5fd662-01d4-4ddc-b1c5-28f56affe36f"
      },
      "id": "fAxlVZnDPZV7",
      "execution_count": null,
      "outputs": [
        {
          "output_type": "stream",
          "name": "stdout",
          "text": [
            "Most influential node: にっしー\n"
          ]
        }
      ]
    },
    {
      "cell_type": "code",
      "source": [
        "G = nx.DiGraph()\n",
        "\n",
        "# Add nodes\n",
        "for name in df_t['Tiktok_Name']:\n",
        "    G.add_node(name)\n",
        "\n",
        "# Add edges with weights\n",
        "for i in range(len(df_t)):\n",
        "    for j in range(i+1, len(df_t)):\n",
        "        if df_t['Tiktok_Name'][i] != df_t['Tiktok_Name'][j]:\n",
        "            weight = (convert_value_to_float(df_t['Avg_Views'][i])+convert_value_to_float(df_t['Avg_Views'][j]))/2\n",
        "            G.add_edge(df_t['Tiktok_Name'][i], df_t['Tiktok_Name'][j], weight=weight)\n",
        "\n",
        "# Compute various centrality measures\n",
        "degree_centrality = nx.degree_centrality(G)\n",
        "closeness_centrality = nx.closeness_centrality(G)\n",
        "betweenness_centrality = nx.betweenness_centrality(G)\n",
        "eigenvector_centrality = nx.eigenvector_centrality(G)\n",
        "\n",
        "# Print the top 5 nodes for each centrality measure\n",
        "print(\"Top 5 nodes by degree centrality:\")\n",
        "print(sorted(degree_centrality.items(), key=lambda x: x[1], reverse=True)[:5])\n",
        "print(\"\\nTop 5 nodes by closeness centrality:\")\n",
        "print(sorted(closeness_centrality.items(), key=lambda x: x[1], reverse=True)[:5])\n",
        "print(\"\\nTop 5 nodes by betweenness centrality:\")\n",
        "print(sorted(betweenness_centrality.items(), key=lambda x: x[1], reverse=True)[:5])\n",
        "print(\"\\nTop 5 nodes by eigenvector centrality:\")\n",
        "print(sorted(eigenvector_centrality.items(), key=lambda x: x[1], reverse=True)[:5])\n"
      ],
      "metadata": {
        "colab": {
          "base_uri": "https://localhost:8080/"
        },
        "id": "hzH7SkEoRsMp",
        "outputId": "efcf980c-b1ea-4889-c285-1adc26f78296"
      },
      "id": "hzH7SkEoRsMp",
      "execution_count": null,
      "outputs": [
        {
          "output_type": "stream",
          "name": "stdout",
          "text": [
            "Top 5 nodes by degree centrality:\n",
            "[('Tommy', 1.5102040816326532), ('Tik Toker', 1.4520408163265308), ('Fernanda', 1.35), ('Chloe Cherry', 1.245918367346939), (nan, 1.0836734693877552)]\n",
            "\n",
            "Top 5 nodes by closeness centrality:\n",
            "[('Soanh x Diệp 💎', 1.0), ('Armoney', 0.9989795918367347), ('🌠Antonio Tonon🌠', 0.9979591836734694), ('bella', 0.996938775510204), ('nicolebernaal', 0.9959183673469387)]\n",
            "\n",
            "Top 5 nodes by betweenness centrality:\n",
            "[('Tommy', 0.2632632215296742), ('Tik Toker', 0.130099435075358), ('Fernanda', 0.123855558566634), ('Chloe Cherry', 0.07379249963519625), (nan, 0.0020251818807196014)]\n",
            "\n",
            "Top 5 nodes by eigenvector centrality:\n",
            "[('Soanh x Diệp 💎', 0.12821690087500698), ('Armoney', 0.12715194074475056), ('🌠Antonio Tonon🌠', 0.12609582343766915), ('bella', 0.12504847557313126), ('nicolebernaal', 0.1240098243788952)]\n"
          ]
        }
      ]
    },
    {
      "cell_type": "code",
      "source": [
        "import numpy as np\n",
        "import networkx as nx\n",
        "\n",
        "# Define the propagation model (Independent Cascade Model)\n",
        "def IC_model(G, seeds, p):\n",
        "    active_nodes = set(seeds)\n",
        "    new_active_nodes = set(seeds)\n",
        "    while new_active_nodes:\n",
        "        next_nodes = set()\n",
        "        for node in new_active_nodes:\n",
        "            for neighbor in G.successors(node):\n",
        "                if neighbor not in active_nodes:\n",
        "                    if np.random.random() <= G[node][neighbor]['weight'] * p:\n",
        "                        next_nodes.add(neighbor)\n",
        "        new_active_nodes = next_nodes\n",
        "        active_nodes |= new_active_nodes\n",
        "    return len(active_nodes)\n",
        "\n",
        "# Run the simulation for 1000 iterations and calculate the average number of activated nodes\n",
        "n_iter = 1000\n",
        "p = 0.2\n",
        "seeds = ['Solsito.pe', 'benji', 'Lyssa'] # example seed nodes\n",
        "avg_activated_nodes = 0\n",
        "for i in range(n_iter):\n",
        "    activated_nodes = IC_model(G, seeds, p)\n",
        "    avg_activated_nodes += activated_nodes\n",
        "avg_activated_nodes /= n_iter\n",
        "\n",
        "print(\"Average number of activated nodes:\", avg_activated_nodes)\n"
      ],
      "metadata": {
        "colab": {
          "base_uri": "https://localhost:8080/"
        },
        "id": "JJdl5hXaSwEr",
        "outputId": "a607132c-efde-4867-87c7-d10d2fdf2c41"
      },
      "id": "JJdl5hXaSwEr",
      "execution_count": null,
      "outputs": [
        {
          "output_type": "stream",
          "name": "stdout",
          "text": [
            "Average number of activated nodes: 943.0\n"
          ]
        }
      ]
    },
    {
      "cell_type": "code",
      "source": [
        "import random\n",
        "def independent_cascade_with_time(G, seeds, p):\n",
        "    # initialize the time dictionary with the seed nodes\n",
        "    time = {node: 0 for node in seeds}\n",
        "    # initialize the active nodes set with the seed nodes\n",
        "    active_nodes = set(seeds)\n",
        "    # loop until no more nodes can be activated\n",
        "    while active_nodes:\n",
        "        # get a random active node\n",
        "        node = active_nodes.pop()\n",
        "        # for each neighbor of the active node\n",
        "        for neighbor in G.neighbors(node):\n",
        "            # if the neighbor is already active, skip it\n",
        "            if neighbor in time:\n",
        "                continue\n",
        "            # otherwise, try to activate the neighbor with probability p\n",
        "            if random.random() < p:\n",
        "                # add the neighbor to the active nodes set\n",
        "                active_nodes.add(neighbor)\n",
        "                # record the activation time of the neighbor\n",
        "                time[neighbor] = time[node] + 1\n",
        "    # return the time dictionary\n",
        "    return time\n"
      ],
      "metadata": {
        "id": "hHCXV3uF8GQP"
      },
      "id": "hHCXV3uF8GQP",
      "execution_count": null,
      "outputs": []
    },
    {
      "cell_type": "code",
      "source": [
        "seeds = ['Soanh x Diệp 💎', 'Armoney', '🌠Antonio Tonon🌠'] \n",
        "\n",
        "p = 0.5\n",
        "time = independent_cascade_with_time(G, seeds, p)\n",
        "propagation_time = max(time.values())\n",
        "print(\"Propagation time:\", propagation_time)"
      ],
      "metadata": {
        "id": "_mh5WXy2Y9Ev",
        "colab": {
          "base_uri": "https://localhost:8080/"
        },
        "outputId": "3488a7ae-25eb-4406-f675-d577e24bfac6"
      },
      "id": "_mh5WXy2Y9Ev",
      "execution_count": null,
      "outputs": [
        {
          "output_type": "stream",
          "name": "stdout",
          "text": [
            "Propagation time: 0\n"
          ]
        }
      ]
    },
    {
      "cell_type": "code",
      "source": [
        "seeds = ['Soanh x Diệp 💎', 'Armoney'] \n",
        "\n",
        "p = 0.5\n",
        "time = independent_cascade_with_time(G, seeds, p)\n",
        "propagation_time = max(time.values())\n",
        "print(\"Propagation time:\", propagation_time)"
      ],
      "metadata": {
        "colab": {
          "base_uri": "https://localhost:8080/"
        },
        "id": "OYYgUBCIBqby",
        "outputId": "ad40d81e-3600-4726-fae8-59f0c8338efe"
      },
      "id": "OYYgUBCIBqby",
      "execution_count": null,
      "outputs": [
        {
          "output_type": "stream",
          "name": "stdout",
          "text": [
            "Propagation time: 0\n"
          ]
        }
      ]
    },
    {
      "cell_type": "code",
      "source": [
        "seeds = ['benji'] \n",
        "\n",
        "p = 0.5\n",
        "time = independent_cascade_with_time(G, seeds, p)\n",
        "propagation_time = max(time.values())\n",
        "print(\"Propagation time:\", propagation_time)"
      ],
      "metadata": {
        "colab": {
          "base_uri": "https://localhost:8080/"
        },
        "outputId": "384d1978-6aa3-4c24-cced-18ae26d2c6e4",
        "id": "MgCB41rOBhgX"
      },
      "execution_count": null,
      "outputs": [
        {
          "output_type": "stream",
          "name": "stdout",
          "text": [
            "Propagation time: 5\n"
          ]
        }
      ],
      "id": "MgCB41rOBhgX"
    },
    {
      "cell_type": "code",
      "source": [
        "seeds = ['Solsito.pe', 'benji']\n",
        "p = 0.5\n",
        "time = independent_cascade_with_time(G, seeds, p)\n",
        "propagation_time = max(time.values())\n",
        "print(\"Propagation time:\", propagation_time)"
      ],
      "metadata": {
        "colab": {
          "base_uri": "https://localhost:8080/"
        },
        "outputId": "cb9d117d-e48c-4fc6-97ff-33a14e8dedb4",
        "id": "zU0DhapdA9sN"
      },
      "execution_count": null,
      "outputs": [
        {
          "output_type": "stream",
          "name": "stdout",
          "text": [
            "Propagation time: 5\n"
          ]
        }
      ],
      "id": "zU0DhapdA9sN"
    },
    {
      "cell_type": "code",
      "source": [
        "seeds = ['Armoney', 'Tommy'] \n",
        "\n",
        "p = 0.5\n",
        "time = independent_cascade_with_time(G, seeds, p)\n",
        "propagation_time = max(time.values())\n",
        "print(\"Propagation time:\", propagation_time)"
      ],
      "metadata": {
        "colab": {
          "base_uri": "https://localhost:8080/"
        },
        "id": "Mt5JCUk0AVms",
        "outputId": "36af16d2-86d2-492d-a666-b82744a11608"
      },
      "id": "Mt5JCUk0AVms",
      "execution_count": null,
      "outputs": [
        {
          "output_type": "stream",
          "name": "stdout",
          "text": [
            "Propagation time: 4\n"
          ]
        }
      ]
    },
    {
      "cell_type": "code",
      "source": [
        "import networkx as nx\n",
        "import random\n",
        "\n",
        "def independent_cascade_with_time_and_hop(G, seeds, p):\n",
        "    # initialize the time and hop dictionaries with the seed nodes\n",
        "    time = {node: 0 for node in seeds}\n",
        "    hop = {node: 0 for node in seeds}\n",
        "    # initialize the active nodes set with the seed nodes\n",
        "    active_nodes = set(seeds)\n",
        "    # loop until no more nodes can be activated\n",
        "    while active_nodes:\n",
        "        # get a random active node\n",
        "        node = active_nodes.pop()\n",
        "        # for each neighbor of the active node\n",
        "        for neighbor in G.neighbors(node):\n",
        "            # if the neighbor is already active, skip it\n",
        "            if neighbor in time:\n",
        "                continue\n",
        "            # otherwise, try to activate the neighbor with probability p\n",
        "            if random.random() < p:\n",
        "                # add the neighbor to the active nodes set\n",
        "                active_nodes.add(neighbor)\n",
        "                # record the activation time and hop distance of the neighbor\n",
        "                time[neighbor] = time[node] + 1\n",
        "                hop[neighbor] = hop[node] + 1\n",
        "            else:\n",
        "                # if the neighbor is not activated, update the hop distance if it is smaller than the current value\n",
        "                if neighbor in hop:\n",
        "                    hop[neighbor] = min(hop[neighbor], hop[node] + 1)\n",
        "                else:\n",
        "                    hop[neighbor] = hop[node] + 1\n",
        "    # return the time and hop dictionaries\n",
        "    return time, hop\n"
      ],
      "metadata": {
        "id": "Ylpqr1LZCrzX"
      },
      "id": "Ylpqr1LZCrzX",
      "execution_count": null,
      "outputs": []
    },
    {
      "cell_type": "code",
      "source": [
        "seeds = ['Armoney', 'Tommy'] \n",
        "p = 0.5\n",
        "time, hop = independent_cascade_with_time_and_hop(G, seeds, p)\n",
        "propagation_time = max(time.values())\n",
        "min_hop_distance = max(hop.values())\n",
        "print(\"Propagation time:\", propagation_time)\n",
        "print(\"Minimum hop distance:\", min_hop_distance)"
      ],
      "metadata": {
        "colab": {
          "base_uri": "https://localhost:8080/"
        },
        "id": "3KySRAqPDPXs",
        "outputId": "0256ed4f-757d-43b4-cc31-24fd7d8aa2d5"
      },
      "id": "3KySRAqPDPXs",
      "execution_count": null,
      "outputs": [
        {
          "output_type": "stream",
          "name": "stdout",
          "text": [
            "Propagation time: 4\n",
            "Minimum hop distance: 4\n"
          ]
        }
      ]
    },
    {
      "cell_type": "code",
      "source": [
        "seeds = ['Soanh x Diệp 💎', 'Armoney'] \n",
        "p = 0.5\n",
        "time, hop = independent_cascade_with_time_and_hop(G, seeds, p)\n",
        "propagation_time = max(time.values())\n",
        "min_hop_distance = max(hop.values())\n",
        "print(\"Propagation time:\", propagation_time)\n",
        "print(\"Minimum hop distance:\", min_hop_distance)"
      ],
      "metadata": {
        "colab": {
          "base_uri": "https://localhost:8080/"
        },
        "id": "b4ggM96VDQ9m",
        "outputId": "8129e547-5512-4ef9-ccc0-13b1633c06ba"
      },
      "id": "b4ggM96VDQ9m",
      "execution_count": null,
      "outputs": [
        {
          "output_type": "stream",
          "name": "stdout",
          "text": [
            "Propagation time: 0\n",
            "Minimum hop distance: 0\n"
          ]
        }
      ]
    },
    {
      "cell_type": "code",
      "source": [
        "seeds = ['benji'] \n",
        "p = 0.5\n",
        "time, hop = independent_cascade_with_time_and_hop(G, seeds, p)\n",
        "propagation_time = max(time.values())\n",
        "min_hop_distance = max(hop.values())\n",
        "print(\"Propagation time:\", propagation_time)\n",
        "print(\"Minimum hop distance:\", min_hop_distance)"
      ],
      "metadata": {
        "colab": {
          "base_uri": "https://localhost:8080/"
        },
        "id": "eIkVpcppDQ6X",
        "outputId": "e584a749-62ed-4ea7-f27a-5a618039bf9c"
      },
      "id": "eIkVpcppDQ6X",
      "execution_count": null,
      "outputs": [
        {
          "output_type": "stream",
          "name": "stdout",
          "text": [
            "Propagation time: 6\n",
            "Minimum hop distance: 6\n"
          ]
        }
      ]
    },
    {
      "cell_type": "code",
      "source": [
        "import networkx as nx\n",
        "import random\n",
        "\n",
        "def independent_cascade_with_time_hop_and_size(G, seeds, p):\n",
        "    # initialize the time, hop, and activated nodes sets with the seed nodes\n",
        "    time = {node: 0 for node in seeds}\n",
        "    hop = {node: 0 for node in seeds}\n",
        "    activated_nodes = set(seeds)\n",
        "    # initialize the active nodes set with the seed nodes\n",
        "    active_nodes = set(seeds)\n",
        "    # loop until no more nodes can be activated\n",
        "    while active_nodes:\n",
        "        # get a random active node\n",
        "        node = active_nodes.pop()\n",
        "        # for each neighbor of the active node\n",
        "        for neighbor in G.neighbors(node):\n",
        "            # if the neighbor is already active, skip it\n",
        "            if neighbor in activated_nodes:\n",
        "                continue\n",
        "            # otherwise, try to activate the neighbor with probability p\n",
        "            if random.random() < p:\n",
        "                # add the neighbor to the active and activated nodes sets\n",
        "                active_nodes.add(neighbor)\n",
        "                activated_nodes.add(neighbor)\n",
        "                # record the activation time and hop distance of the neighbor\n",
        "                time[neighbor] = time[node] + 1\n",
        "                hop[neighbor] = hop[node] + 1\n",
        "            else:\n",
        "                # if the neighbor is not activated, update the hop distance if it is smaller than the current value\n",
        "                if neighbor in hop:\n",
        "                    hop[neighbor] = min(hop[neighbor], hop[node] + 1)\n",
        "                else:\n",
        "                    hop[neighbor] = hop[node] + 1\n",
        "    # return the time, hop, and activated nodes sets, as well as the size of the activated nodes set\n",
        "    return time, hop, activated_nodes, len(activated_nodes)\n"
      ],
      "metadata": {
        "id": "1VoDK8Y4Eq7p"
      },
      "id": "1VoDK8Y4Eq7p",
      "execution_count": null,
      "outputs": []
    },
    {
      "cell_type": "code",
      "source": [
        "p = 0.5\n",
        "seeds = ['Armoney', 'Tommy'] \n",
        "\n",
        "time, hop, activated_nodes, num_activated_nodes = independent_cascade_with_time_hop_and_size(G, seeds, p)\n",
        "propagation_time = max(time.values())\n",
        "min_hop_distance = max(hop.values())\n",
        "print(\"Propagation time:\", propagation_time)\n",
        "print(\"Minimum hop distance:\", min_hop_distance)\n",
        "print(\"Number of activated nodes:\", num_activated_nodes)"
      ],
      "metadata": {
        "colab": {
          "base_uri": "https://localhost:8080/"
        },
        "id": "5mljECajEq41",
        "outputId": "7f8fc2a9-0103-4a8e-cccb-89de801a6dfd"
      },
      "id": "5mljECajEq41",
      "execution_count": null,
      "outputs": [
        {
          "output_type": "stream",
          "name": "stdout",
          "text": [
            "Propagation time: 4\n",
            "Minimum hop distance: 4\n",
            "Number of activated nodes: 943\n"
          ]
        }
      ]
    },
    {
      "cell_type": "code",
      "source": [
        "p = 0.5\n",
        "seeds = ['benji'] \n",
        "\n",
        "time, hop, activated_nodes, num_activated_nodes = independent_cascade_with_time_hop_and_size(G, seeds, p)\n",
        "propagation_time = max(time.values())\n",
        "min_hop_distance = max(hop.values())\n",
        "print(\"Propagation time:\", propagation_time)\n",
        "print(\"Minimum hop distance:\", min_hop_distance)\n",
        "print(\"Number of activated nodes:\", num_activated_nodes)"
      ],
      "metadata": {
        "colab": {
          "base_uri": "https://localhost:8080/"
        },
        "outputId": "a708db32-9bdc-4a27-e2bb-c8bee7161aec",
        "id": "B0uuQbR-E_Hf"
      },
      "execution_count": null,
      "outputs": [
        {
          "output_type": "stream",
          "name": "stdout",
          "text": [
            "Propagation time: 5\n",
            "Minimum hop distance: 5\n",
            "Number of activated nodes: 942\n"
          ]
        }
      ],
      "id": "B0uuQbR-E_Hf"
    },
    {
      "cell_type": "code",
      "source": [
        "p = 0.5\n",
        "seeds = ['Tommy'] \n",
        "\n",
        "time, hop, activated_nodes, num_activated_nodes = independent_cascade_with_time_hop_and_size(G, seeds, p)\n",
        "propagation_time = max(time.values())\n",
        "min_hop_distance = max(hop.values())\n",
        "print(\"Propagation time:\", propagation_time)\n",
        "print(\"Minimum hop distance:\", min_hop_distance)\n",
        "print(\"Number of activated nodes:\", num_activated_nodes)"
      ],
      "metadata": {
        "colab": {
          "base_uri": "https://localhost:8080/"
        },
        "outputId": "7fdd086f-2542-4579-8bd2-5f1273fd4ca3",
        "id": "fguDoQN7FBMO"
      },
      "execution_count": null,
      "outputs": [
        {
          "output_type": "stream",
          "name": "stdout",
          "text": [
            "Propagation time: 5\n",
            "Minimum hop distance: 5\n",
            "Number of activated nodes: 943\n"
          ]
        }
      ],
      "id": "fguDoQN7FBMO"
    },
    {
      "cell_type": "code",
      "source": [
        "p = 0.5\n",
        "seeds = ['Fernanda'] \n",
        "\n",
        "time, hop, activated_nodes, num_activated_nodes = independent_cascade_with_time_hop_and_size(G, seeds, p)\n",
        "propagation_time = max(time.values())\n",
        "min_hop_distance = max(hop.values())\n",
        "print(\"Propagation time:\", propagation_time)\n",
        "print(\"Minimum hop distance:\", min_hop_distance)\n",
        "print(\"Number of activated nodes:\", num_activated_nodes)"
      ],
      "metadata": {
        "colab": {
          "base_uri": "https://localhost:8080/"
        },
        "outputId": "488d70dc-956f-4387-dc29-519228badc51",
        "id": "Nu-VHbu2FhlZ"
      },
      "execution_count": null,
      "outputs": [
        {
          "output_type": "stream",
          "name": "stdout",
          "text": [
            "Propagation time: 3\n",
            "Minimum hop distance: 3\n",
            "Number of activated nodes: 941\n"
          ]
        }
      ],
      "id": "Nu-VHbu2FhlZ"
    },
    {
      "cell_type": "code",
      "source": [
        "p = 0.5\n",
        "seeds = ['Armoney', 'Tommy'] \n",
        "\n",
        "time, hop, activated_nodes, num_activated_nodes = independent_cascade_with_time_hop_and_size(G, seeds, p)\n",
        "propagation_time = max(time.values())\n",
        "min_hop_distance = max(hop.values())\n",
        "print(\"Propagation time:\", propagation_time)\n",
        "print(\"Minimum hop distance:\", min_hop_distance)\n",
        "print(\"Number of activated nodes:\", num_activated_nodes)"
      ],
      "metadata": {
        "colab": {
          "base_uri": "https://localhost:8080/"
        },
        "outputId": "d6ce95bd-842c-4e2a-feed-35d365f4f1d8",
        "id": "mkOyMPqQFBaX"
      },
      "execution_count": null,
      "outputs": [
        {
          "output_type": "stream",
          "name": "stdout",
          "text": [
            "Propagation time: 5\n",
            "Minimum hop distance: 5\n",
            "Number of activated nodes: 942\n"
          ]
        }
      ],
      "id": "mkOyMPqQFBaX"
    },
    {
      "cell_type": "code",
      "source": [],
      "metadata": {
        "id": "ZZnaVjc1Eq14"
      },
      "id": "ZZnaVjc1Eq14",
      "execution_count": null,
      "outputs": []
    },
    {
      "cell_type": "code",
      "source": [],
      "metadata": {
        "id": "3VKgmVsfEqyw"
      },
      "id": "3VKgmVsfEqyw",
      "execution_count": null,
      "outputs": []
    },
    {
      "cell_type": "code",
      "execution_count": null,
      "metadata": {
        "execution": {
          "iopub.execute_input": "2022-04-23T06:31:03.210864Z",
          "iopub.status.busy": "2022-04-23T06:31:03.210372Z",
          "iopub.status.idle": "2022-04-23T06:31:03.213887Z",
          "shell.execute_reply": "2022-04-23T06:31:03.213316Z"
        },
        "papermill": {
          "duration": 0.074253,
          "end_time": "2022-04-23T06:31:03.215549",
          "exception": false,
          "start_time": "2022-04-23T06:31:03.141296",
          "status": "completed"
        },
        "tags": [],
        "id": "f322e354"
      },
      "outputs": [],
      "source": [
        "import re\n",
        "def convert(x):\n",
        "    return re.findall('\\d+\\.?\\d*',x)"
      ],
      "id": "f322e354"
    },
    {
      "cell_type": "code",
      "execution_count": null,
      "metadata": {
        "execution": {
          "iopub.execute_input": "2022-04-23T06:31:03.353478Z",
          "iopub.status.busy": "2022-04-23T06:31:03.352928Z",
          "iopub.status.idle": "2022-04-23T06:31:03.358786Z",
          "shell.execute_reply": "2022-04-23T06:31:03.358175Z"
        },
        "papermill": {
          "duration": 0.076638,
          "end_time": "2022-04-23T06:31:03.360652",
          "exception": false,
          "start_time": "2022-04-23T06:31:03.284014",
          "status": "completed"
        },
        "tags": [],
        "id": "dbfe4f83"
      },
      "outputs": [],
      "source": [
        "#Just TO change to actual numbers rather than K or M\n",
        "def change(df,list1):\n",
        "    for i in list1:\n",
        "        df['new'+i]=df[i].apply(convert)\n",
        "        df['new'+i]=df['new'+i].apply(lambda x: \"\".join(x))\n",
        "        df['new'+i]=pd.to_numeric(df['new'+i])\n",
        "        df['new'+i]=np.where(['M' in j for j in df[i]],df['new'+i]*1000000,\n",
        "                             np.where(['K' in j1 for j1 in df[i]],df['new'+i]*1000,df['new'+i]))\n",
        "    return df\n",
        "    "
      ],
      "id": "dbfe4f83"
    },
    {
      "cell_type": "code",
      "execution_count": null,
      "metadata": {
        "execution": {
          "iopub.execute_input": "2022-04-23T06:31:03.501437Z",
          "iopub.status.busy": "2022-04-23T06:31:03.500860Z",
          "iopub.status.idle": "2022-04-23T06:31:03.521271Z",
          "shell.execute_reply": "2022-04-23T06:31:03.520637Z"
        },
        "papermill": {
          "duration": 0.091999,
          "end_time": "2022-04-23T06:31:03.523024",
          "exception": false,
          "start_time": "2022-04-23T06:31:03.431025",
          "status": "completed"
        },
        "tags": [],
        "colab": {
          "base_uri": "https://localhost:8080/",
          "height": 424
        },
        "id": "102d3c15",
        "outputId": "0d0c73a8-f2b0-4060-edf6-b35fb393105e"
      },
      "outputs": [
        {
          "output_type": "execute_result",
          "data": {
            "text/plain": [
              "       Tiktoker_Name          Tiktok_Name Subscribers_Count Avg_Views  \\\n",
              "0           ekin.721               MOMO’s            221.7K       26M   \n",
              "1            dojacat             Doja Cat             22.2M     25.4M   \n",
              "2        kiet.ac.quy           Kiệt Ắk Wỷ              2.1M     20.7M   \n",
              "3      charlidamelio      charli d’amelio            135.4M     18.7M   \n",
              "4     luvadepedreiro  Iran Ferreira (Lai)             11.4M     24.8M   \n",
              "..               ...                  ...               ...       ...   \n",
              "995    nicolebernaal        nicolebernaal                4M      2.2M   \n",
              "996    bellaretamosa                bella              5.1M      2.5M   \n",
              "997         tunico80      🌠Antonio Tonon🌠              5.8M        1M   \n",
              "998     armon.warren              Armoney              1.2M      1.9M   \n",
              "999  soanhvadiephihi       Soanh x Diệp 💎              1.6M      2.6M   \n",
              "\n",
              "    Avg_Likes Avg_Comments Avg_Shares  newSubscribers_Count  \n",
              "0        2.8M        29.4K     116.4K              221700.0  \n",
              "1          5M        36.7K      46.8K            22200000.0  \n",
              "2        3.5M        38.8K      33.9K             2100000.0  \n",
              "3        2.6M        54.7K      35.2K           135400000.0  \n",
              "4        2.6M        32.7K      26.8K            11400000.0  \n",
              "..        ...          ...        ...                   ...  \n",
              "995    351.3K          957        195             4000000.0  \n",
              "996    340.4K          901        145             5100000.0  \n",
              "997    206.8K           2K       2.1K             5800000.0  \n",
              "998    300.8K          904        630             1200000.0  \n",
              "999    273.2K          720        530             1600000.0  \n",
              "\n",
              "[1000 rows x 8 columns]"
            ],
            "text/html": [
              "\n",
              "  <div id=\"df-47660145-de32-4305-997a-742ef2846157\">\n",
              "    <div class=\"colab-df-container\">\n",
              "      <div>\n",
              "<style scoped>\n",
              "    .dataframe tbody tr th:only-of-type {\n",
              "        vertical-align: middle;\n",
              "    }\n",
              "\n",
              "    .dataframe tbody tr th {\n",
              "        vertical-align: top;\n",
              "    }\n",
              "\n",
              "    .dataframe thead th {\n",
              "        text-align: right;\n",
              "    }\n",
              "</style>\n",
              "<table border=\"1\" class=\"dataframe\">\n",
              "  <thead>\n",
              "    <tr style=\"text-align: right;\">\n",
              "      <th></th>\n",
              "      <th>Tiktoker_Name</th>\n",
              "      <th>Tiktok_Name</th>\n",
              "      <th>Subscribers_Count</th>\n",
              "      <th>Avg_Views</th>\n",
              "      <th>Avg_Likes</th>\n",
              "      <th>Avg_Comments</th>\n",
              "      <th>Avg_Shares</th>\n",
              "      <th>newSubscribers_Count</th>\n",
              "    </tr>\n",
              "  </thead>\n",
              "  <tbody>\n",
              "    <tr>\n",
              "      <th>0</th>\n",
              "      <td>ekin.721</td>\n",
              "      <td>MOMO’s</td>\n",
              "      <td>221.7K</td>\n",
              "      <td>26M</td>\n",
              "      <td>2.8M</td>\n",
              "      <td>29.4K</td>\n",
              "      <td>116.4K</td>\n",
              "      <td>221700.0</td>\n",
              "    </tr>\n",
              "    <tr>\n",
              "      <th>1</th>\n",
              "      <td>dojacat</td>\n",
              "      <td>Doja Cat</td>\n",
              "      <td>22.2M</td>\n",
              "      <td>25.4M</td>\n",
              "      <td>5M</td>\n",
              "      <td>36.7K</td>\n",
              "      <td>46.8K</td>\n",
              "      <td>22200000.0</td>\n",
              "    </tr>\n",
              "    <tr>\n",
              "      <th>2</th>\n",
              "      <td>kiet.ac.quy</td>\n",
              "      <td>Kiệt Ắk Wỷ</td>\n",
              "      <td>2.1M</td>\n",
              "      <td>20.7M</td>\n",
              "      <td>3.5M</td>\n",
              "      <td>38.8K</td>\n",
              "      <td>33.9K</td>\n",
              "      <td>2100000.0</td>\n",
              "    </tr>\n",
              "    <tr>\n",
              "      <th>3</th>\n",
              "      <td>charlidamelio</td>\n",
              "      <td>charli d’amelio</td>\n",
              "      <td>135.4M</td>\n",
              "      <td>18.7M</td>\n",
              "      <td>2.6M</td>\n",
              "      <td>54.7K</td>\n",
              "      <td>35.2K</td>\n",
              "      <td>135400000.0</td>\n",
              "    </tr>\n",
              "    <tr>\n",
              "      <th>4</th>\n",
              "      <td>luvadepedreiro</td>\n",
              "      <td>Iran Ferreira (Lai)</td>\n",
              "      <td>11.4M</td>\n",
              "      <td>24.8M</td>\n",
              "      <td>2.6M</td>\n",
              "      <td>32.7K</td>\n",
              "      <td>26.8K</td>\n",
              "      <td>11400000.0</td>\n",
              "    </tr>\n",
              "    <tr>\n",
              "      <th>...</th>\n",
              "      <td>...</td>\n",
              "      <td>...</td>\n",
              "      <td>...</td>\n",
              "      <td>...</td>\n",
              "      <td>...</td>\n",
              "      <td>...</td>\n",
              "      <td>...</td>\n",
              "      <td>...</td>\n",
              "    </tr>\n",
              "    <tr>\n",
              "      <th>995</th>\n",
              "      <td>nicolebernaal</td>\n",
              "      <td>nicolebernaal</td>\n",
              "      <td>4M</td>\n",
              "      <td>2.2M</td>\n",
              "      <td>351.3K</td>\n",
              "      <td>957</td>\n",
              "      <td>195</td>\n",
              "      <td>4000000.0</td>\n",
              "    </tr>\n",
              "    <tr>\n",
              "      <th>996</th>\n",
              "      <td>bellaretamosa</td>\n",
              "      <td>bella</td>\n",
              "      <td>5.1M</td>\n",
              "      <td>2.5M</td>\n",
              "      <td>340.4K</td>\n",
              "      <td>901</td>\n",
              "      <td>145</td>\n",
              "      <td>5100000.0</td>\n",
              "    </tr>\n",
              "    <tr>\n",
              "      <th>997</th>\n",
              "      <td>tunico80</td>\n",
              "      <td>🌠Antonio Tonon🌠</td>\n",
              "      <td>5.8M</td>\n",
              "      <td>1M</td>\n",
              "      <td>206.8K</td>\n",
              "      <td>2K</td>\n",
              "      <td>2.1K</td>\n",
              "      <td>5800000.0</td>\n",
              "    </tr>\n",
              "    <tr>\n",
              "      <th>998</th>\n",
              "      <td>armon.warren</td>\n",
              "      <td>Armoney</td>\n",
              "      <td>1.2M</td>\n",
              "      <td>1.9M</td>\n",
              "      <td>300.8K</td>\n",
              "      <td>904</td>\n",
              "      <td>630</td>\n",
              "      <td>1200000.0</td>\n",
              "    </tr>\n",
              "    <tr>\n",
              "      <th>999</th>\n",
              "      <td>soanhvadiephihi</td>\n",
              "      <td>Soanh x Diệp 💎</td>\n",
              "      <td>1.6M</td>\n",
              "      <td>2.6M</td>\n",
              "      <td>273.2K</td>\n",
              "      <td>720</td>\n",
              "      <td>530</td>\n",
              "      <td>1600000.0</td>\n",
              "    </tr>\n",
              "  </tbody>\n",
              "</table>\n",
              "<p>1000 rows × 8 columns</p>\n",
              "</div>\n",
              "      <button class=\"colab-df-convert\" onclick=\"convertToInteractive('df-47660145-de32-4305-997a-742ef2846157')\"\n",
              "              title=\"Convert this dataframe to an interactive table.\"\n",
              "              style=\"display:none;\">\n",
              "        \n",
              "  <svg xmlns=\"http://www.w3.org/2000/svg\" height=\"24px\"viewBox=\"0 0 24 24\"\n",
              "       width=\"24px\">\n",
              "    <path d=\"M0 0h24v24H0V0z\" fill=\"none\"/>\n",
              "    <path d=\"M18.56 5.44l.94 2.06.94-2.06 2.06-.94-2.06-.94-.94-2.06-.94 2.06-2.06.94zm-11 1L8.5 8.5l.94-2.06 2.06-.94-2.06-.94L8.5 2.5l-.94 2.06-2.06.94zm10 10l.94 2.06.94-2.06 2.06-.94-2.06-.94-.94-2.06-.94 2.06-2.06.94z\"/><path d=\"M17.41 7.96l-1.37-1.37c-.4-.4-.92-.59-1.43-.59-.52 0-1.04.2-1.43.59L10.3 9.45l-7.72 7.72c-.78.78-.78 2.05 0 2.83L4 21.41c.39.39.9.59 1.41.59.51 0 1.02-.2 1.41-.59l7.78-7.78 2.81-2.81c.8-.78.8-2.07 0-2.86zM5.41 20L4 18.59l7.72-7.72 1.47 1.35L5.41 20z\"/>\n",
              "  </svg>\n",
              "      </button>\n",
              "      \n",
              "  <style>\n",
              "    .colab-df-container {\n",
              "      display:flex;\n",
              "      flex-wrap:wrap;\n",
              "      gap: 12px;\n",
              "    }\n",
              "\n",
              "    .colab-df-convert {\n",
              "      background-color: #E8F0FE;\n",
              "      border: none;\n",
              "      border-radius: 50%;\n",
              "      cursor: pointer;\n",
              "      display: none;\n",
              "      fill: #1967D2;\n",
              "      height: 32px;\n",
              "      padding: 0 0 0 0;\n",
              "      width: 32px;\n",
              "    }\n",
              "\n",
              "    .colab-df-convert:hover {\n",
              "      background-color: #E2EBFA;\n",
              "      box-shadow: 0px 1px 2px rgba(60, 64, 67, 0.3), 0px 1px 3px 1px rgba(60, 64, 67, 0.15);\n",
              "      fill: #174EA6;\n",
              "    }\n",
              "\n",
              "    [theme=dark] .colab-df-convert {\n",
              "      background-color: #3B4455;\n",
              "      fill: #D2E3FC;\n",
              "    }\n",
              "\n",
              "    [theme=dark] .colab-df-convert:hover {\n",
              "      background-color: #434B5C;\n",
              "      box-shadow: 0px 1px 3px 1px rgba(0, 0, 0, 0.15);\n",
              "      filter: drop-shadow(0px 1px 2px rgba(0, 0, 0, 0.3));\n",
              "      fill: #FFFFFF;\n",
              "    }\n",
              "  </style>\n",
              "\n",
              "      <script>\n",
              "        const buttonEl =\n",
              "          document.querySelector('#df-47660145-de32-4305-997a-742ef2846157 button.colab-df-convert');\n",
              "        buttonEl.style.display =\n",
              "          google.colab.kernel.accessAllowed ? 'block' : 'none';\n",
              "\n",
              "        async function convertToInteractive(key) {\n",
              "          const element = document.querySelector('#df-47660145-de32-4305-997a-742ef2846157');\n",
              "          const dataTable =\n",
              "            await google.colab.kernel.invokeFunction('convertToInteractive',\n",
              "                                                     [key], {});\n",
              "          if (!dataTable) return;\n",
              "\n",
              "          const docLinkHtml = 'Like what you see? Visit the ' +\n",
              "            '<a target=\"_blank\" href=https://colab.research.google.com/notebooks/data_table.ipynb>data table notebook</a>'\n",
              "            + ' to learn more about interactive tables.';\n",
              "          element.innerHTML = '';\n",
              "          dataTable['output_type'] = 'display_data';\n",
              "          await google.colab.output.renderOutput(dataTable, element);\n",
              "          const docLink = document.createElement('div');\n",
              "          docLink.innerHTML = docLinkHtml;\n",
              "          element.appendChild(docLink);\n",
              "        }\n",
              "      </script>\n",
              "    </div>\n",
              "  </div>\n",
              "  "
            ]
          },
          "metadata": {},
          "execution_count": 111
        }
      ],
      "source": [
        "change(df_t,['Subscribers_Count'])"
      ],
      "id": "102d3c15"
    },
    {
      "cell_type": "markdown",
      "metadata": {
        "papermill": {
          "duration": 0.070683,
          "end_time": "2022-04-23T06:31:03.664312",
          "exception": false,
          "start_time": "2022-04-23T06:31:03.593629",
          "status": "completed"
        },
        "tags": [],
        "id": "646033f9"
      },
      "source": [
        "# TOP 10 most followed celebrity on Tiktok"
      ],
      "id": "646033f9"
    },
    {
      "cell_type": "code",
      "execution_count": null,
      "metadata": {
        "execution": {
          "iopub.execute_input": "2022-04-23T06:31:03.806208Z",
          "iopub.status.busy": "2022-04-23T06:31:03.805643Z",
          "iopub.status.idle": "2022-04-23T06:31:03.818941Z",
          "shell.execute_reply": "2022-04-23T06:31:03.818081Z"
        },
        "papermill": {
          "duration": 0.086755,
          "end_time": "2022-04-23T06:31:03.820815",
          "exception": false,
          "start_time": "2022-04-23T06:31:03.734060",
          "status": "completed"
        },
        "tags": [],
        "id": "eb624309",
        "colab": {
          "base_uri": "https://localhost:8080/",
          "height": 363
        },
        "outputId": "b1041fe7-86fc-4266-d63b-21a82958df33"
      },
      "outputs": [
        {
          "output_type": "execute_result",
          "data": {
            "text/plain": [
              "         Tiktok_Name Subscribers_Count\n",
              "0       Dove Cameron                9M\n",
              "1      Magic Daniell                9M\n",
              "2      Piperrockelle                9M\n",
              "3  Stardust Crusader               99K\n",
              "4    Paula Verhoeven            997.5K\n",
              "5       【コムドット】 ひゅうが            995.5K\n",
              "6        startup.mp4               98K\n",
              "7           DjMaRiiO            983.8K\n",
              "8          Alejandro            983.5K\n",
              "9            YaziDoe            958.9K"
            ],
            "text/html": [
              "\n",
              "  <div id=\"df-dd2138f4-aebb-41f1-ad98-500862419280\">\n",
              "    <div class=\"colab-df-container\">\n",
              "      <div>\n",
              "<style scoped>\n",
              "    .dataframe tbody tr th:only-of-type {\n",
              "        vertical-align: middle;\n",
              "    }\n",
              "\n",
              "    .dataframe tbody tr th {\n",
              "        vertical-align: top;\n",
              "    }\n",
              "\n",
              "    .dataframe thead th {\n",
              "        text-align: right;\n",
              "    }\n",
              "</style>\n",
              "<table border=\"1\" class=\"dataframe\">\n",
              "  <thead>\n",
              "    <tr style=\"text-align: right;\">\n",
              "      <th></th>\n",
              "      <th>Tiktok_Name</th>\n",
              "      <th>Subscribers_Count</th>\n",
              "    </tr>\n",
              "  </thead>\n",
              "  <tbody>\n",
              "    <tr>\n",
              "      <th>0</th>\n",
              "      <td>Dove Cameron</td>\n",
              "      <td>9M</td>\n",
              "    </tr>\n",
              "    <tr>\n",
              "      <th>1</th>\n",
              "      <td>Magic Daniell</td>\n",
              "      <td>9M</td>\n",
              "    </tr>\n",
              "    <tr>\n",
              "      <th>2</th>\n",
              "      <td>Piperrockelle</td>\n",
              "      <td>9M</td>\n",
              "    </tr>\n",
              "    <tr>\n",
              "      <th>3</th>\n",
              "      <td>Stardust Crusader</td>\n",
              "      <td>99K</td>\n",
              "    </tr>\n",
              "    <tr>\n",
              "      <th>4</th>\n",
              "      <td>Paula Verhoeven</td>\n",
              "      <td>997.5K</td>\n",
              "    </tr>\n",
              "    <tr>\n",
              "      <th>5</th>\n",
              "      <td>【コムドット】 ひゅうが</td>\n",
              "      <td>995.5K</td>\n",
              "    </tr>\n",
              "    <tr>\n",
              "      <th>6</th>\n",
              "      <td>startup.mp4</td>\n",
              "      <td>98K</td>\n",
              "    </tr>\n",
              "    <tr>\n",
              "      <th>7</th>\n",
              "      <td>DjMaRiiO</td>\n",
              "      <td>983.8K</td>\n",
              "    </tr>\n",
              "    <tr>\n",
              "      <th>8</th>\n",
              "      <td>Alejandro</td>\n",
              "      <td>983.5K</td>\n",
              "    </tr>\n",
              "    <tr>\n",
              "      <th>9</th>\n",
              "      <td>YaziDoe</td>\n",
              "      <td>958.9K</td>\n",
              "    </tr>\n",
              "  </tbody>\n",
              "</table>\n",
              "</div>\n",
              "      <button class=\"colab-df-convert\" onclick=\"convertToInteractive('df-dd2138f4-aebb-41f1-ad98-500862419280')\"\n",
              "              title=\"Convert this dataframe to an interactive table.\"\n",
              "              style=\"display:none;\">\n",
              "        \n",
              "  <svg xmlns=\"http://www.w3.org/2000/svg\" height=\"24px\"viewBox=\"0 0 24 24\"\n",
              "       width=\"24px\">\n",
              "    <path d=\"M0 0h24v24H0V0z\" fill=\"none\"/>\n",
              "    <path d=\"M18.56 5.44l.94 2.06.94-2.06 2.06-.94-2.06-.94-.94-2.06-.94 2.06-2.06.94zm-11 1L8.5 8.5l.94-2.06 2.06-.94-2.06-.94L8.5 2.5l-.94 2.06-2.06.94zm10 10l.94 2.06.94-2.06 2.06-.94-2.06-.94-.94-2.06-.94 2.06-2.06.94z\"/><path d=\"M17.41 7.96l-1.37-1.37c-.4-.4-.92-.59-1.43-.59-.52 0-1.04.2-1.43.59L10.3 9.45l-7.72 7.72c-.78.78-.78 2.05 0 2.83L4 21.41c.39.39.9.59 1.41.59.51 0 1.02-.2 1.41-.59l7.78-7.78 2.81-2.81c.8-.78.8-2.07 0-2.86zM5.41 20L4 18.59l7.72-7.72 1.47 1.35L5.41 20z\"/>\n",
              "  </svg>\n",
              "      </button>\n",
              "      \n",
              "  <style>\n",
              "    .colab-df-container {\n",
              "      display:flex;\n",
              "      flex-wrap:wrap;\n",
              "      gap: 12px;\n",
              "    }\n",
              "\n",
              "    .colab-df-convert {\n",
              "      background-color: #E8F0FE;\n",
              "      border: none;\n",
              "      border-radius: 50%;\n",
              "      cursor: pointer;\n",
              "      display: none;\n",
              "      fill: #1967D2;\n",
              "      height: 32px;\n",
              "      padding: 0 0 0 0;\n",
              "      width: 32px;\n",
              "    }\n",
              "\n",
              "    .colab-df-convert:hover {\n",
              "      background-color: #E2EBFA;\n",
              "      box-shadow: 0px 1px 2px rgba(60, 64, 67, 0.3), 0px 1px 3px 1px rgba(60, 64, 67, 0.15);\n",
              "      fill: #174EA6;\n",
              "    }\n",
              "\n",
              "    [theme=dark] .colab-df-convert {\n",
              "      background-color: #3B4455;\n",
              "      fill: #D2E3FC;\n",
              "    }\n",
              "\n",
              "    [theme=dark] .colab-df-convert:hover {\n",
              "      background-color: #434B5C;\n",
              "      box-shadow: 0px 1px 3px 1px rgba(0, 0, 0, 0.15);\n",
              "      filter: drop-shadow(0px 1px 2px rgba(0, 0, 0, 0.3));\n",
              "      fill: #FFFFFF;\n",
              "    }\n",
              "  </style>\n",
              "\n",
              "      <script>\n",
              "        const buttonEl =\n",
              "          document.querySelector('#df-dd2138f4-aebb-41f1-ad98-500862419280 button.colab-df-convert');\n",
              "        buttonEl.style.display =\n",
              "          google.colab.kernel.accessAllowed ? 'block' : 'none';\n",
              "\n",
              "        async function convertToInteractive(key) {\n",
              "          const element = document.querySelector('#df-dd2138f4-aebb-41f1-ad98-500862419280');\n",
              "          const dataTable =\n",
              "            await google.colab.kernel.invokeFunction('convertToInteractive',\n",
              "                                                     [key], {});\n",
              "          if (!dataTable) return;\n",
              "\n",
              "          const docLinkHtml = 'Like what you see? Visit the ' +\n",
              "            '<a target=\"_blank\" href=https://colab.research.google.com/notebooks/data_table.ipynb>data table notebook</a>'\n",
              "            + ' to learn more about interactive tables.';\n",
              "          element.innerHTML = '';\n",
              "          dataTable['output_type'] = 'display_data';\n",
              "          await google.colab.output.renderOutput(dataTable, element);\n",
              "          const docLink = document.createElement('div');\n",
              "          docLink.innerHTML = docLinkHtml;\n",
              "          element.appendChild(docLink);\n",
              "        }\n",
              "      </script>\n",
              "    </div>\n",
              "  </div>\n",
              "  "
            ]
          },
          "metadata": {},
          "execution_count": 112
        }
      ],
      "source": [
        "df_t.sort_values(by='Subscribers_Count',ascending=False,ignore_index=True).iloc[0:10,[1,2]]"
      ],
      "id": "eb624309"
    },
    {
      "cell_type": "code",
      "source": [],
      "metadata": {
        "id": "qHQA1sqkEqvl"
      },
      "id": "qHQA1sqkEqvl",
      "execution_count": null,
      "outputs": []
    },
    {
      "cell_type": "code",
      "source": [],
      "metadata": {
        "id": "947WFx2kEqse"
      },
      "id": "947WFx2kEqse",
      "execution_count": null,
      "outputs": []
    },
    {
      "cell_type": "code",
      "source": [],
      "metadata": {
        "id": "7ABCjxcREqp0"
      },
      "id": "7ABCjxcREqp0",
      "execution_count": null,
      "outputs": []
    },
    {
      "cell_type": "code",
      "source": [],
      "metadata": {
        "id": "23RYLY_MEqmJ"
      },
      "id": "23RYLY_MEqmJ",
      "execution_count": null,
      "outputs": []
    },
    {
      "cell_type": "markdown",
      "metadata": {
        "papermill": {
          "duration": 0.06647,
          "end_time": "2022-04-23T06:31:02.341369",
          "exception": false,
          "start_time": "2022-04-23T06:31:02.274899",
          "status": "completed"
        },
        "tags": [],
        "id": "W53Ppbq6Y-06"
      },
      "source": [
        "# Youtube data set analysis"
      ],
      "id": "W53Ppbq6Y-06"
    },
    {
      "cell_type": "code",
      "execution_count": null,
      "metadata": {
        "execution": {
          "iopub.execute_input": "2022-04-23T06:31:02.480449Z",
          "iopub.status.busy": "2022-04-23T06:31:02.479930Z",
          "iopub.status.idle": "2022-04-23T06:31:02.499493Z",
          "shell.execute_reply": "2022-04-23T06:31:02.498896Z"
        },
        "papermill": {
          "duration": 0.092273,
          "end_time": "2022-04-23T06:31:02.501117",
          "exception": false,
          "start_time": "2022-04-23T06:31:02.408844",
          "status": "completed"
        },
        "tags": [],
        "id": "JdD8eygNY-08",
        "colab": {
          "base_uri": "https://localhost:8080/",
          "height": 143
        },
        "outputId": "ea84ee01-16c5-4a75-f9ee-488dc990437b"
      },
      "outputs": [
        {
          "output_type": "execute_result",
          "data": {
            "text/plain": [
              "  Youtuber_Name                Channel_Name       Category Subscribers_Count  \\\n",
              "0       tseries                    T-Series  Music & Dance            212.1M   \n",
              "1     checkgate  Cocomelon - Nursery Rhymes      Education            132.1M   \n",
              "2      setindia                   SET India            NaN            130.4M   \n",
              "\n",
              "  Audience_Country Avg_Views Avg_Likes Avg_Comments  \n",
              "0            India    323.7K      9.8K          290  \n",
              "1              NaN     13.8M     80.9K          NaN  \n",
              "2            India     23.6K       314           21  "
            ],
            "text/html": [
              "\n",
              "  <div id=\"df-fd039101-8631-41e0-89a6-42abb54e255e\">\n",
              "    <div class=\"colab-df-container\">\n",
              "      <div>\n",
              "<style scoped>\n",
              "    .dataframe tbody tr th:only-of-type {\n",
              "        vertical-align: middle;\n",
              "    }\n",
              "\n",
              "    .dataframe tbody tr th {\n",
              "        vertical-align: top;\n",
              "    }\n",
              "\n",
              "    .dataframe thead th {\n",
              "        text-align: right;\n",
              "    }\n",
              "</style>\n",
              "<table border=\"1\" class=\"dataframe\">\n",
              "  <thead>\n",
              "    <tr style=\"text-align: right;\">\n",
              "      <th></th>\n",
              "      <th>Youtuber_Name</th>\n",
              "      <th>Channel_Name</th>\n",
              "      <th>Category</th>\n",
              "      <th>Subscribers_Count</th>\n",
              "      <th>Audience_Country</th>\n",
              "      <th>Avg_Views</th>\n",
              "      <th>Avg_Likes</th>\n",
              "      <th>Avg_Comments</th>\n",
              "    </tr>\n",
              "  </thead>\n",
              "  <tbody>\n",
              "    <tr>\n",
              "      <th>0</th>\n",
              "      <td>tseries</td>\n",
              "      <td>T-Series</td>\n",
              "      <td>Music &amp; Dance</td>\n",
              "      <td>212.1M</td>\n",
              "      <td>India</td>\n",
              "      <td>323.7K</td>\n",
              "      <td>9.8K</td>\n",
              "      <td>290</td>\n",
              "    </tr>\n",
              "    <tr>\n",
              "      <th>1</th>\n",
              "      <td>checkgate</td>\n",
              "      <td>Cocomelon - Nursery Rhymes</td>\n",
              "      <td>Education</td>\n",
              "      <td>132.1M</td>\n",
              "      <td>NaN</td>\n",
              "      <td>13.8M</td>\n",
              "      <td>80.9K</td>\n",
              "      <td>NaN</td>\n",
              "    </tr>\n",
              "    <tr>\n",
              "      <th>2</th>\n",
              "      <td>setindia</td>\n",
              "      <td>SET India</td>\n",
              "      <td>NaN</td>\n",
              "      <td>130.4M</td>\n",
              "      <td>India</td>\n",
              "      <td>23.6K</td>\n",
              "      <td>314</td>\n",
              "      <td>21</td>\n",
              "    </tr>\n",
              "  </tbody>\n",
              "</table>\n",
              "</div>\n",
              "      <button class=\"colab-df-convert\" onclick=\"convertToInteractive('df-fd039101-8631-41e0-89a6-42abb54e255e')\"\n",
              "              title=\"Convert this dataframe to an interactive table.\"\n",
              "              style=\"display:none;\">\n",
              "        \n",
              "  <svg xmlns=\"http://www.w3.org/2000/svg\" height=\"24px\"viewBox=\"0 0 24 24\"\n",
              "       width=\"24px\">\n",
              "    <path d=\"M0 0h24v24H0V0z\" fill=\"none\"/>\n",
              "    <path d=\"M18.56 5.44l.94 2.06.94-2.06 2.06-.94-2.06-.94-.94-2.06-.94 2.06-2.06.94zm-11 1L8.5 8.5l.94-2.06 2.06-.94-2.06-.94L8.5 2.5l-.94 2.06-2.06.94zm10 10l.94 2.06.94-2.06 2.06-.94-2.06-.94-.94-2.06-.94 2.06-2.06.94z\"/><path d=\"M17.41 7.96l-1.37-1.37c-.4-.4-.92-.59-1.43-.59-.52 0-1.04.2-1.43.59L10.3 9.45l-7.72 7.72c-.78.78-.78 2.05 0 2.83L4 21.41c.39.39.9.59 1.41.59.51 0 1.02-.2 1.41-.59l7.78-7.78 2.81-2.81c.8-.78.8-2.07 0-2.86zM5.41 20L4 18.59l7.72-7.72 1.47 1.35L5.41 20z\"/>\n",
              "  </svg>\n",
              "      </button>\n",
              "      \n",
              "  <style>\n",
              "    .colab-df-container {\n",
              "      display:flex;\n",
              "      flex-wrap:wrap;\n",
              "      gap: 12px;\n",
              "    }\n",
              "\n",
              "    .colab-df-convert {\n",
              "      background-color: #E8F0FE;\n",
              "      border: none;\n",
              "      border-radius: 50%;\n",
              "      cursor: pointer;\n",
              "      display: none;\n",
              "      fill: #1967D2;\n",
              "      height: 32px;\n",
              "      padding: 0 0 0 0;\n",
              "      width: 32px;\n",
              "    }\n",
              "\n",
              "    .colab-df-convert:hover {\n",
              "      background-color: #E2EBFA;\n",
              "      box-shadow: 0px 1px 2px rgba(60, 64, 67, 0.3), 0px 1px 3px 1px rgba(60, 64, 67, 0.15);\n",
              "      fill: #174EA6;\n",
              "    }\n",
              "\n",
              "    [theme=dark] .colab-df-convert {\n",
              "      background-color: #3B4455;\n",
              "      fill: #D2E3FC;\n",
              "    }\n",
              "\n",
              "    [theme=dark] .colab-df-convert:hover {\n",
              "      background-color: #434B5C;\n",
              "      box-shadow: 0px 1px 3px 1px rgba(0, 0, 0, 0.15);\n",
              "      filter: drop-shadow(0px 1px 2px rgba(0, 0, 0, 0.3));\n",
              "      fill: #FFFFFF;\n",
              "    }\n",
              "  </style>\n",
              "\n",
              "      <script>\n",
              "        const buttonEl =\n",
              "          document.querySelector('#df-fd039101-8631-41e0-89a6-42abb54e255e button.colab-df-convert');\n",
              "        buttonEl.style.display =\n",
              "          google.colab.kernel.accessAllowed ? 'block' : 'none';\n",
              "\n",
              "        async function convertToInteractive(key) {\n",
              "          const element = document.querySelector('#df-fd039101-8631-41e0-89a6-42abb54e255e');\n",
              "          const dataTable =\n",
              "            await google.colab.kernel.invokeFunction('convertToInteractive',\n",
              "                                                     [key], {});\n",
              "          if (!dataTable) return;\n",
              "\n",
              "          const docLinkHtml = 'Like what you see? Visit the ' +\n",
              "            '<a target=\"_blank\" href=https://colab.research.google.com/notebooks/data_table.ipynb>data table notebook</a>'\n",
              "            + ' to learn more about interactive tables.';\n",
              "          element.innerHTML = '';\n",
              "          dataTable['output_type'] = 'display_data';\n",
              "          await google.colab.output.renderOutput(dataTable, element);\n",
              "          const docLink = document.createElement('div');\n",
              "          docLink.innerHTML = docLinkHtml;\n",
              "          element.appendChild(docLink);\n",
              "        }\n",
              "      </script>\n",
              "    </div>\n",
              "  </div>\n",
              "  "
            ]
          },
          "metadata": {},
          "execution_count": 113
        }
      ],
      "source": [
        "df_y.head(3)"
      ],
      "id": "JdD8eygNY-08"
    },
    {
      "cell_type": "code",
      "execution_count": null,
      "metadata": {
        "execution": {
          "iopub.execute_input": "2022-04-23T06:31:02.911601Z",
          "iopub.status.busy": "2022-04-23T06:31:02.911044Z",
          "iopub.status.idle": "2022-04-23T06:31:02.917914Z",
          "shell.execute_reply": "2022-04-23T06:31:02.917338Z"
        },
        "papermill": {
          "duration": 0.077124,
          "end_time": "2022-04-23T06:31:02.919558",
          "exception": false,
          "start_time": "2022-04-23T06:31:02.842434",
          "status": "completed"
        },
        "tags": [],
        "id": "ulf0yUYpY-0-",
        "colab": {
          "base_uri": "https://localhost:8080/"
        },
        "outputId": "b2dd8b44-462c-4560-e063-b90e4fa3ec33"
      },
      "outputs": [
        {
          "output_type": "execute_result",
          "data": {
            "text/plain": [
              "Youtuber_Name          0\n",
              "Channel_Name           0\n",
              "Category             277\n",
              "Subscribers_Count      0\n",
              "Audience_Country     161\n",
              "Avg_Views              0\n",
              "Avg_Likes             38\n",
              "Avg_Comments         209\n",
              "dtype: int64"
            ]
          },
          "metadata": {},
          "execution_count": 114
        }
      ],
      "source": [
        "df_y.isnull().sum()"
      ],
      "id": "ulf0yUYpY-0-"
    },
    {
      "cell_type": "code",
      "execution_count": null,
      "metadata": {
        "execution": {
          "iopub.execute_input": "2022-04-23T06:31:03.057042Z",
          "iopub.status.busy": "2022-04-23T06:31:03.056552Z",
          "iopub.status.idle": "2022-04-23T06:31:03.069894Z",
          "shell.execute_reply": "2022-04-23T06:31:03.069150Z"
        },
        "papermill": {
          "duration": 0.084281,
          "end_time": "2022-04-23T06:31:03.071824",
          "exception": false,
          "start_time": "2022-04-23T06:31:02.987543",
          "status": "completed"
        },
        "tags": [],
        "id": "8fN-h6laY-0_",
        "colab": {
          "base_uri": "https://localhost:8080/"
        },
        "outputId": "02b42b82-d197-4d1f-a13b-9db3866b506e"
      },
      "outputs": [
        {
          "output_type": "execute_result",
          "data": {
            "text/plain": [
              "M    1000\n",
              "Name: Subscribers_Count, dtype: int64"
            ]
          },
          "metadata": {},
          "execution_count": 115
        }
      ],
      "source": [
        "df_y['Subscribers_Count'].str[-1].value_counts()"
      ],
      "id": "8fN-h6laY-0_"
    },
    {
      "cell_type": "code",
      "source": [
        "G = nx.Graph()"
      ],
      "metadata": {
        "id": "6H0_fl5SY-1A"
      },
      "execution_count": null,
      "outputs": [],
      "id": "6H0_fl5SY-1A"
    },
    {
      "cell_type": "code",
      "source": [
        "for i in range(len(df_yc)):\n",
        "    G.add_node(df_yc['Youtuber_Name'][i])"
      ],
      "metadata": {
        "id": "3K2D4He5Y-1A"
      },
      "execution_count": null,
      "outputs": [],
      "id": "3K2D4He5Y-1A"
    },
    {
      "cell_type": "code",
      "source": [
        "for i in range(len(df_yc)):\n",
        "    for j in range(i+1, len(df_yc)):\n",
        "        if df_yc['Channel_Name'][i] == df_yc['Channel_Name'][j]:\n",
        "            G.add_edge(df_yc['Youtuber_Name'][i], df_yc['Youtuber_Name'][j])\n"
      ],
      "metadata": {
        "id": "fCHPzoDwY-1B"
      },
      "execution_count": null,
      "outputs": [],
      "id": "fCHPzoDwY-1B"
    },
    {
      "cell_type": "code",
      "source": [
        "pos = nx.circular_layout(G)\n",
        "\n",
        "# Draw the graph\n",
        "nx.draw_networkx_nodes(G, pos, node_size=20, node_color='lightblue')\n",
        "nx.draw_networkx_edges(G, pos, width=1, alpha=0.8, edge_color='gray')\n",
        "#nx.draw_networkx_labels(G, pos, font_size=8, font_family='sans-serif')\n",
        "nx.draw_networkx(G, with_labels=False)\n",
        "\n",
        "# show the plot\n",
        "plt.show()\n",
        "# Add title and axis labels\n",
        "plt.title(\"Youtube Influencer Network Graph\")\n",
        "plt.axis('off')\n",
        "\n",
        "# Show the graph\n",
        "plt.show()"
      ],
      "metadata": {
        "id": "BeqmNQzpY-1B",
        "colab": {
          "base_uri": "https://localhost:8080/",
          "height": 817
        },
        "outputId": "c73bf582-2578-4abc-a006-a9e504112059"
      },
      "execution_count": null,
      "outputs": [
        {
          "output_type": "display_data",
          "data": {
            "text/plain": [
              "<Figure size 640x480 with 1 Axes>"
            ],
            "image/png": "[encoded data removed]"
          },
          "metadata": {}
        },
        {
          "output_type": "display_data",
          "data": {
            "text/plain": [
              "<Figure size 640x480 with 1 Axes>"
            ],
            "image/png": "[encoded data removed]"
          },
          "metadata": {}
        }
      ],
      "id": "BeqmNQzpY-1B"
    },
    {
      "cell_type": "code",
      "source": [
        "G = nx.Graph()"
      ],
      "metadata": {
        "id": "jqQ3XMTxY-1C"
      },
      "execution_count": null,
      "outputs": [],
      "id": "jqQ3XMTxY-1C"
    },
    {
      "cell_type": "code",
      "source": [
        "for i in range(500):\n",
        "      G.add_node(df_yc['Youtuber_Name'][i])"
      ],
      "metadata": {
        "id": "tesbAZD8Y-1C"
      },
      "execution_count": null,
      "outputs": [],
      "id": "tesbAZD8Y-1C"
    },
    {
      "cell_type": "code",
      "source": [
        "for i in range(500):\n",
        "    for j in range(i+1, 500):\n",
        "        if df_yc['Channel_Name'][i] == df_yc['Channel_Name'][j]:\n",
        "            G.add_edge(df_yc['Youtuber_Name'][i], df_yc['Youtuber_Name'][j])\n"
      ],
      "metadata": {
        "id": "4T3Bh6bDY-1D"
      },
      "execution_count": null,
      "outputs": [],
      "id": "4T3Bh6bDY-1D"
    },
    {
      "cell_type": "code",
      "source": [
        "pos = nx.circular_layout(G)\n",
        "\n",
        "# Draw the graph\n",
        "nx.draw_networkx_nodes(G, pos, node_size=200, node_color='lightblue')\n",
        "nx.draw_networkx_edges(G, pos, width=1, alpha=0.8, edge_color='gray')\n",
        "#nx.draw_networkx_labels(G, pos, font_size=8, font_family='sans-serif')\n",
        "nx.draw_networkx(G, with_labels=False)\n",
        "\n",
        "# show the plot\n",
        "plt.show()\n",
        "# Add title and axis labels\n",
        "plt.title(\"Youtube Influencer Network Graph\")\n",
        "plt.axis('off')\n",
        "\n",
        "# Show the graph\n",
        "plt.show()"
      ],
      "metadata": {
        "id": "p_FsObZ4Y-1E",
        "colab": {
          "base_uri": "https://localhost:8080/",
          "height": 817
        },
        "outputId": "8977fb93-6ad0-4470-d501-4f3cc560d312"
      },
      "execution_count": null,
      "outputs": [
        {
          "output_type": "display_data",
          "data": {
            "text/plain": [
              "<Figure size 640x480 with 1 Axes>"
            ],
            "image/png": "[encoded data removed]"
          },
          "metadata": {}
        },
        {
          "output_type": "display_data",
          "data": {
            "text/plain": [
              "<Figure size 640x480 with 1 Axes>"
            ],
            "image/png": "[encoded data removed]"
          },
          "metadata": {}
        }
      ],
      "id": "p_FsObZ4Y-1E"
    },
    {
      "cell_type": "code",
      "source": [
        "from operator import itemgetter \n",
        "def convert_value_to_float(value):\n",
        "    if isinstance(value, str):\n",
        "        if value.endswith('M'):\n",
        "            return float(value[:-1]) * 1000000\n",
        "        elif value.endswith('K'):\n",
        "            return float(value[:-1]) * 1000\n",
        "        else:\n",
        "            return float(value)\n",
        "    else:\n",
        "        return float(value)\n",
        "\n",
        "for i in range(len(df_y)):\n",
        "    for j in range(i+1, len(df_y)):\n",
        "        if df_y['Channel_Name'][i] != df_y['Channel_Name'][j]:\n",
        "            weight = (convert_value_to_float(df_y['Avg_Views'][i])+convert_value_to_float(df_y['Avg_Views'][j]))/2\n",
        "            G.add_edge(df_y['Channel_Name'][i], df_y['Channel_Name'][j], weight=weight)\n",
        "\n"
      ],
      "metadata": {
        "id": "fiGT4fiWY-1E"
      },
      "execution_count": null,
      "outputs": [],
      "id": "fiGT4fiWY-1E"
    },
    {
      "cell_type": "code",
      "source": [
        "import math\n",
        "\n",
        "def degree_discount(G, k):\n",
        "    nodes = set(G.nodes())\n",
        "    scores = dict.fromkeys(nodes, 0)\n",
        "    for i in range(k):\n",
        "        max_node = max(scores, key=scores.get)\n",
        "        nodes.remove(max_node)\n",
        "        for neighbor in G.neighbors(max_node):\n",
        "            if neighbor in nodes:\n",
        "                d = G.degree(neighbor)\n",
        "                scores[neighbor] += 1 / math.sqrt(d)\n",
        "    return dict(sorted(scores.items(), key=lambda item: item[1], reverse=True)[:k])\n"
      ],
      "metadata": {
        "id": "bvilvuVNY-1F"
      },
      "execution_count": null,
      "outputs": [],
      "id": "bvilvuVNY-1F"
    },
    {
      "cell_type": "code",
      "source": [
        "k=2\n",
        "seeds = degree_discount(G, k) # select seeds using degree discount heuristic\n",
        "\n",
        "most_influential_node = max(list(seeds), key=lambda x: G.degree(x))\n",
        "print(\"Most influential node:\", most_influential_node)\n"
      ],
      "metadata": {
        "id": "ki_y9KgXY-1G",
        "colab": {
          "base_uri": "https://localhost:8080/"
        },
        "outputId": "eacb746d-cec6-4052-fb39-0e55b32d2343"
      },
      "execution_count": null,
      "outputs": [
        {
          "output_type": "stream",
          "name": "stdout",
          "text": [
            "Most influential node: LEGENDA FUNK\n"
          ]
        }
      ],
      "id": "ki_y9KgXY-1G"
    },
    {
      "cell_type": "code",
      "source": [
        "G = nx.DiGraph()\n",
        "\n",
        "# Add nodes\n",
        "for name in df_y['Channel_Name']:\n",
        "    G.add_node(name)\n",
        "\n",
        "# Add edges with weights\n",
        "for i in range(len(df_y)):\n",
        "    for j in range(i+1, len(df_y)):\n",
        "        if df_y['Channel_Name'][i] != df_y['Channel_Name'][j]:\n",
        "            weight = (convert_value_to_float(df_y['Avg_Views'][i])+convert_value_to_float(df_y['Avg_Views'][j]))/2\n",
        "            G.add_edge(df_y['Channel_Name'][i], df_y['Channel_Name'][j], weight=weight)\n",
        "\n",
        "# Compute various centrality measures\n",
        "degree_centrality = nx.degree_centrality(G)\n",
        "closeness_centrality = nx.closeness_centrality(G)\n",
        "betweenness_centrality = nx.betweenness_centrality(G)\n",
        "eigenvector_centrality = nx.eigenvector_centrality(G)\n",
        "\n",
        "# Print the top 5 nodes for each centrality measure\n",
        "print(\"Top 5 nodes by degree centrality:\")\n",
        "print(sorted(degree_centrality.items(), key=lambda x: x[1], reverse=True)[:5])\n",
        "print(\"\\nTop 5 nodes by closeness centrality:\")\n",
        "print(sorted(closeness_centrality.items(), key=lambda x: x[1], reverse=True)[:5])\n",
        "print(\"\\nTop 5 nodes by betweenness centrality:\")\n",
        "print(sorted(betweenness_centrality.items(), key=lambda x: x[1], reverse=True)[:5])\n",
        "print(\"\\nTop 5 nodes by eigenvector centrality:\")\n",
        "print(sorted(eigenvector_centrality.items(), key=lambda x: x[1], reverse=True)[:5])\n"
      ],
      "metadata": {
        "id": "G0_hILxEY-1G",
        "colab": {
          "base_uri": "https://localhost:8080/"
        },
        "outputId": "371c25c5-75e4-436d-9cbd-c1f95bc0c890"
      },
      "execution_count": null,
      "outputs": [
        {
          "output_type": "stream",
          "name": "stdout",
          "text": [
            "Top 5 nodes by degree centrality:\n",
            "[('Bollywood Classics', 1.3540621865596791), ('Rajshri', 1.0010030090270812), ('HAR PAL GEO', 1.0010030090270812), ('DisneyMusicVEVO', 1.0010030090270812), ('Ultra Music', 1.0010030090270812)]\n",
            "\n",
            "Top 5 nodes by closeness centrality:\n",
            "[('BRKsEDU', 1.0), ('ICC', 0.9989969909729187), ('CinemaSins', 0.9979939819458375), ('EL GATO', 0.9969909729187563), ('FutParódias', 0.995987963891675)]\n",
            "\n",
            "Top 5 nodes by betweenness centrality:\n",
            "[('Bollywood Classics', 0.06256520565713204), ('T-Series', 0.0), ('Cocomelon - Nursery Rhymes', 0.0), ('SET India', 0.0), ('PewDiePie', 0.0)]\n",
            "\n",
            "Top 5 nodes by eigenvector centrality:\n",
            "[('BRKsEDU', 0.1567796437456394), ('ICC', 0.154840988137216), ('CinemaSins', 0.1529262996662985), ('EL GATO', 0.15103528215333403), ('FutParódias', 0.1491676430760559)]\n"
          ]
        }
      ],
      "id": "G0_hILxEY-1G"
    },
    {
      "cell_type": "code",
      "source": [
        "import numpy as np\n",
        "import networkx as nx\n",
        "\n",
        "# Define the propagation model (Independent Cascade Model)\n",
        "def IC_model(G, seeds, p):\n",
        "    active_nodes = set(seeds)\n",
        "    new_active_nodes = set(seeds)\n",
        "    while new_active_nodes:\n",
        "        next_nodes = set()\n",
        "        for node in new_active_nodes:\n",
        "            if G.is_directed():\n",
        "                neighbors = G.successors(node)\n",
        "            else:\n",
        "                neighbors = G.neighbors(node)\n",
        "            for neighbor in neighbors:\n",
        "                if neighbor not in active_nodes:\n",
        "                    if np.random.random() <= G[node][neighbor]['weight'] * p:\n",
        "                        next_nodes.add(neighbor)\n",
        "        new_active_nodes = next_nodes\n",
        "        active_nodes |= new_active_nodes\n",
        "    return len(active_nodes)\n",
        "\n",
        "# Run the simulation for 1000 iterations and calculate the average number of activated nodes\n",
        "n_iter = 1000\n",
        "p = 0.2\n",
        "seeds = ['Bollywood Classics', 'ICC'] # example seed nodes\n",
        "avg_activated_nodes = 0\n",
        "for i in range(n_iter):\n",
        "    activated_nodes = IC_model(G, seeds, p)\n",
        "    avg_activated_nodes += activated_nodes\n",
        "avg_activated_nodes /= n_iter\n",
        "\n",
        "print(\"Average number of activated nodes:\", avg_activated_nodes)\n"
      ],
      "metadata": {
        "id": "srNpX8cEY-1H",
        "colab": {
          "base_uri": "https://localhost:8080/"
        },
        "outputId": "fe249835-1f6a-4929-f641-1757ccefba35"
      },
      "execution_count": null,
      "outputs": [
        {
          "output_type": "stream",
          "name": "stdout",
          "text": [
            "Average number of activated nodes: 897.0\n"
          ]
        }
      ],
      "id": "srNpX8cEY-1H"
    },
    {
      "cell_type": "code",
      "source": [
        "import networkx as nx\n",
        "import random\n",
        "\n",
        "def independent_cascade_with_time_hop_and_size(G, seeds, p):\n",
        "    # initialize the time, hop, and activated nodes sets with the seed nodes\n",
        "    time = {node: 0 for node in seeds}\n",
        "    hop = {node: 0 for node in seeds}\n",
        "    activated_nodes = set(seeds)\n",
        "    # initialize the active nodes set with the seed nodes\n",
        "    active_nodes = set(seeds)\n",
        "    # loop until no more nodes can be activated\n",
        "    while active_nodes:\n",
        "        # get a random active node\n",
        "        node = active_nodes.pop()\n",
        "        # for each neighbor of the active node\n",
        "        for neighbor in G.neighbors(node):\n",
        "            # if the neighbor is already active, skip it\n",
        "            if neighbor in activated_nodes:\n",
        "                continue\n",
        "            # otherwise, try to activate the neighbor with probability p\n",
        "            if random.random() < p:\n",
        "                # add the neighbor to the active and activated nodes sets\n",
        "                active_nodes.add(neighbor)\n",
        "                activated_nodes.add(neighbor)\n",
        "                # record the activation time and hop distance of the neighbor\n",
        "                time[neighbor] = time[node] + 1\n",
        "                hop[neighbor] = hop[node] + 1\n",
        "            else:\n",
        "                # if the neighbor is not activated, update the hop distance if it is smaller than the current value\n",
        "                if neighbor in hop:\n",
        "                    hop[neighbor] = min(hop[neighbor], hop[node] + 1)\n",
        "                else:\n",
        "                    hop[neighbor] = hop[node] + 1\n",
        "    # return the time, hop, and activated nodes sets, as well as the size of the activated nodes set\n",
        "    return time, hop, activated_nodes, len(activated_nodes)\n"
      ],
      "metadata": {
        "id": "utaetPZyAt5I"
      },
      "execution_count": null,
      "outputs": [],
      "id": "utaetPZyAt5I"
    },
    {
      "cell_type": "code",
      "source": [
        "seeds = ['BRKsEDU'] \n",
        "p = 0.5\n",
        "time, hop = independent_cascade_with_time_and_hop(G, seeds, p)\n",
        "propagation_time = max(time.values())\n",
        "min_hop_distance = max(hop.values())\n",
        "print(\"Propagation time:\", propagation_time)\n",
        "print(\"Minimum hop distance:\", min_hop_distance)"
      ],
      "metadata": {
        "colab": {
          "base_uri": "https://localhost:8080/"
        },
        "outputId": "c67916b9-dc1c-4ea8-9f6f-2464523751f0",
        "id": "AiblA8JAAt5H"
      },
      "execution_count": null,
      "outputs": [
        {
          "output_type": "stream",
          "name": "stdout",
          "text": [
            "Propagation time: 0\n",
            "Minimum hop distance: 0\n"
          ]
        }
      ],
      "id": "AiblA8JAAt5H"
    },
    {
      "cell_type": "code",
      "source": [
        "seeds = ['ICC'] \n",
        "p = 0.5\n",
        "time, hop = independent_cascade_with_time_and_hop(G, seeds, p)\n",
        "propagation_time = max(time.values())\n",
        "min_hop_distance = max(hop.values())\n",
        "print(\"Propagation time:\", propagation_time)\n",
        "print(\"Minimum hop distance:\", min_hop_distance)"
      ],
      "metadata": {
        "colab": {
          "base_uri": "https://localhost:8080/"
        },
        "outputId": "a2ccf53c-cb77-4965-ad52-d6f443205613",
        "id": "ZJ0yda4CBF62"
      },
      "execution_count": null,
      "outputs": [
        {
          "output_type": "stream",
          "name": "stdout",
          "text": [
            "Propagation time: 1\n",
            "Minimum hop distance: 1\n"
          ]
        }
      ],
      "id": "ZJ0yda4CBF62"
    },
    {
      "cell_type": "code",
      "source": [
        "seeds = ['Bollywood Classics'] \n",
        "p = 0.5\n",
        "time, hop = independent_cascade_with_time_and_hop(G, seeds, p)\n",
        "propagation_time = max(time.values())\n",
        "min_hop_distance = max(hop.values())\n",
        "print(\"Propagation time:\", propagation_time)\n",
        "print(\"Minimum hop distance:\", min_hop_distance)"
      ],
      "metadata": {
        "colab": {
          "base_uri": "https://localhost:8080/"
        },
        "outputId": "543bcbcc-00a1-4b9c-8b6b-32aaa3ef4734",
        "id": "4VSvqP1YEKKt"
      },
      "execution_count": null,
      "outputs": [
        {
          "output_type": "stream",
          "name": "stdout",
          "text": [
            "Propagation time: 3\n",
            "Minimum hop distance: 3\n"
          ]
        }
      ],
      "id": "4VSvqP1YEKKt"
    },
    {
      "cell_type": "code",
      "source": [],
      "metadata": {
        "id": "QgJkbtlWAtSe"
      },
      "id": "QgJkbtlWAtSe",
      "execution_count": null,
      "outputs": []
    },
    {
      "cell_type": "code",
      "source": [
        "p = 0.5\n",
        "seeds = ['BRKsEDU'] \n",
        "\n",
        "time, hop, activated_nodes, num_activated_nodes = independent_cascade_with_time_hop_and_size(G, seeds, p)\n",
        "propagation_time = max(time.values())\n",
        "min_hop_distance = max(hop.values())\n",
        "print(\"Propagation time:\", propagation_time)\n",
        "print(\"Minimum hop distance:\", min_hop_distance)\n",
        "print(\"Number of activated nodes:\", num_activated_nodes)"
      ],
      "metadata": {
        "colab": {
          "base_uri": "https://localhost:8080/"
        },
        "outputId": "141712e8-f159-42f6-bb18-3642c70664c7",
        "id": "M5g6ASiYEnGd"
      },
      "execution_count": null,
      "outputs": [
        {
          "output_type": "stream",
          "name": "stdout",
          "text": [
            "Propagation time: 0\n",
            "Minimum hop distance: 0\n",
            "Number of activated nodes: 1\n"
          ]
        }
      ],
      "id": "M5g6ASiYEnGd"
    },
    {
      "cell_type": "code",
      "source": [
        "p = 0.5\n",
        "seeds = ['ICC'] \n",
        "\n",
        "time, hop, activated_nodes, num_activated_nodes = independent_cascade_with_time_hop_and_size(G, seeds, p)\n",
        "propagation_time = max(time.values())\n",
        "min_hop_distance = max(hop.values())\n",
        "print(\"Propagation time:\", propagation_time)\n",
        "print(\"Minimum hop distance:\", min_hop_distance)\n",
        "print(\"Number of activated nodes:\", num_activated_nodes)"
      ],
      "metadata": {
        "colab": {
          "base_uri": "https://localhost:8080/"
        },
        "outputId": "a8be40c0-c826-4488-98fa-e00d42b7de75",
        "id": "DogL080_EnGi"
      },
      "execution_count": null,
      "outputs": [
        {
          "output_type": "stream",
          "name": "stdout",
          "text": [
            "Propagation time: 1\n",
            "Minimum hop distance: 1\n",
            "Number of activated nodes: 2\n"
          ]
        }
      ],
      "id": "DogL080_EnGi"
    },
    {
      "cell_type": "code",
      "source": [
        "p = 0.5\n",
        "seeds = ['Bollywood Classics'] \n",
        "\n",
        "time, hop, activated_nodes, num_activated_nodes = independent_cascade_with_time_hop_and_size(G, seeds, p)\n",
        "propagation_time = max(time.values())\n",
        "min_hop_distance = max(hop.values())\n",
        "print(\"Propagation time:\", propagation_time)\n",
        "print(\"Minimum hop distance:\", min_hop_distance)\n",
        "print(\"Number of activated nodes:\", num_activated_nodes)"
      ],
      "metadata": {
        "colab": {
          "base_uri": "https://localhost:8080/"
        },
        "outputId": "dd91d00b-c64e-4abf-e032-41ed878d34c6",
        "id": "jXZHcWNCEnGj"
      },
      "execution_count": null,
      "outputs": [
        {
          "output_type": "stream",
          "name": "stdout",
          "text": [
            "Propagation time: 3\n",
            "Minimum hop distance: 3\n",
            "Number of activated nodes: 897\n"
          ]
        }
      ],
      "id": "jXZHcWNCEnGj"
    },
    {
      "cell_type": "code",
      "source": [
        "p = 0.5\n",
        "seeds = ['BRKsEDU', 'Bollywood Classics'] \n",
        "\n",
        "time, hop, activated_nodes, num_activated_nodes = independent_cascade_with_time_hop_and_size(G, seeds, p)\n",
        "propagation_time = max(time.values())\n",
        "min_hop_distance = max(hop.values())\n",
        "print(\"Propagation time:\", propagation_time)\n",
        "print(\"Minimum hop distance:\", min_hop_distance)\n",
        "print(\"Number of activated nodes:\", num_activated_nodes)"
      ],
      "metadata": {
        "colab": {
          "base_uri": "https://localhost:8080/"
        },
        "outputId": "3900bf9a-73d5-45ea-e9a5-d99984d56ac1",
        "id": "mTKs06IzEnGj"
      },
      "execution_count": null,
      "outputs": [
        {
          "output_type": "stream",
          "name": "stdout",
          "text": [
            "Propagation time: 4\n",
            "Minimum hop distance: 4\n",
            "Number of activated nodes: 894\n"
          ]
        }
      ],
      "id": "mTKs06IzEnGj"
    },
    {
      "cell_type": "code",
      "source": [],
      "metadata": {
        "id": "JQL3hHWGEnGk"
      },
      "execution_count": null,
      "outputs": [],
      "id": "JQL3hHWGEnGk"
    },
    {
      "cell_type": "code",
      "source": [],
      "metadata": {
        "id": "3f0so08nAtO8"
      },
      "id": "3f0so08nAtO8",
      "execution_count": null,
      "outputs": []
    },
    {
      "cell_type": "code",
      "execution_count": null,
      "metadata": {
        "execution": {
          "iopub.execute_input": "2022-04-23T06:31:04.562554Z",
          "iopub.status.busy": "2022-04-23T06:31:04.562115Z",
          "iopub.status.idle": "2022-04-23T06:31:04.567671Z",
          "shell.execute_reply": "2022-04-23T06:31:04.567042Z"
        },
        "papermill": {
          "duration": 0.078859,
          "end_time": "2022-04-23T06:31:04.569468",
          "exception": false,
          "start_time": "2022-04-23T06:31:04.490609",
          "status": "completed"
        },
        "tags": [],
        "id": "b927faf0"
      },
      "outputs": [],
      "source": [
        "df_i.rename({'category_1':'Category','Audience country(mostly)':'Audience Country'},axis=1,inplace=True)\n",
        "\n",
        "df_y.rename({'Subscribers':'Followers',},axis=1,inplace=True)"
      ],
      "id": "b927faf0"
    },
    {
      "cell_type": "code",
      "source": [],
      "metadata": {
        "id": "BP_LE--yAtI0"
      },
      "id": "BP_LE--yAtI0",
      "execution_count": null,
      "outputs": []
    },
    {
      "cell_type": "code",
      "source": [],
      "metadata": {
        "id": "jY1eGtxPAtFk"
      },
      "id": "jY1eGtxPAtFk",
      "execution_count": null,
      "outputs": []
    },
    {
      "cell_type": "code",
      "source": [],
      "metadata": {
        "id": "jmLzI4gYAtEY"
      },
      "id": "jmLzI4gYAtEY",
      "execution_count": null,
      "outputs": []
    },
    {
      "cell_type": "markdown",
      "metadata": {
        "papermill": {
          "duration": 0.06647,
          "end_time": "2022-04-23T06:31:02.341369",
          "exception": false,
          "start_time": "2022-04-23T06:31:02.274899",
          "status": "completed"
        },
        "tags": [],
        "id": "f1wqkMwj4GXn"
      },
      "source": [
        "# Instagram data set analysis\n",
        "\n",
        "> Indented block\n",
        "\n"
      ],
      "id": "f1wqkMwj4GXn"
    },
    {
      "cell_type": "code",
      "execution_count": null,
      "metadata": {
        "execution": {
          "iopub.execute_input": "2022-04-23T06:31:02.480449Z",
          "iopub.status.busy": "2022-04-23T06:31:02.479930Z",
          "iopub.status.idle": "2022-04-23T06:31:02.499493Z",
          "shell.execute_reply": "2022-04-23T06:31:02.498896Z"
        },
        "papermill": {
          "duration": 0.092273,
          "end_time": "2022-04-23T06:31:02.501117",
          "exception": false,
          "start_time": "2022-04-23T06:31:02.408844",
          "status": "completed"
        },
        "tags": [],
        "id": "TZytOIya4GXp",
        "colab": {
          "base_uri": "https://localhost:8080/",
          "height": 239
        },
        "outputId": "f3399b31-c28d-438f-c65f-80b88dcb71df"
      },
      "outputs": [
        {
          "output_type": "execute_result",
          "data": {
            "text/plain": [
              "  Influencer_Insta_Name Influencer_Name          Category_1 Category_2  \\\n",
              "0                   433             433  Sports with a ball        NaN   \n",
              "1          __youngbae__         TAEYANG               Music        NaN   \n",
              "2           _agentgirl_   НАСТЯ ИВЛЕЕВА               Shows        NaN   \n",
              "\n",
              "  Followers_Count Audience_Country(mostly) Authentic engagement\\r\\n  \\\n",
              "0           48.5M                    Spain                   383.1K   \n",
              "1           12.7M                Indonesia                     478K   \n",
              "2           18.8M                   Russia                   310.8K   \n",
              "\n",
              "  Engagement avg\\r\\n  \n",
              "0               637K  \n",
              "1             542.3K  \n",
              "2             377.9K  "
            ],
            "text/html": [
              "\n",
              "  <div id=\"df-fbd03e76-3dcb-4353-b052-8fa50ab0092a\">\n",
              "    <div class=\"colab-df-container\">\n",
              "      <div>\n",
              "<style scoped>\n",
              "    .dataframe tbody tr th:only-of-type {\n",
              "        vertical-align: middle;\n",
              "    }\n",
              "\n",
              "    .dataframe tbody tr th {\n",
              "        vertical-align: top;\n",
              "    }\n",
              "\n",
              "    .dataframe thead th {\n",
              "        text-align: right;\n",
              "    }\n",
              "</style>\n",
              "<table border=\"1\" class=\"dataframe\">\n",
              "  <thead>\n",
              "    <tr style=\"text-align: right;\">\n",
              "      <th></th>\n",
              "      <th>Influencer_Insta_Name</th>\n",
              "      <th>Influencer_Name</th>\n",
              "      <th>Category_1</th>\n",
              "      <th>Category_2</th>\n",
              "      <th>Followers_Count</th>\n",
              "      <th>Audience_Country(mostly)</th>\n",
              "      <th>Authentic engagement\\r\\n</th>\n",
              "      <th>Engagement avg\\r\\n</th>\n",
              "    </tr>\n",
              "  </thead>\n",
              "  <tbody>\n",
              "    <tr>\n",
              "      <th>0</th>\n",
              "      <td>433</td>\n",
              "      <td>433</td>\n",
              "      <td>Sports with a ball</td>\n",
              "      <td>NaN</td>\n",
              "      <td>48.5M</td>\n",
              "      <td>Spain</td>\n",
              "      <td>383.1K</td>\n",
              "      <td>637K</td>\n",
              "    </tr>\n",
              "    <tr>\n",
              "      <th>1</th>\n",
              "      <td>__youngbae__</td>\n",
              "      <td>TAEYANG</td>\n",
              "      <td>Music</td>\n",
              "      <td>NaN</td>\n",
              "      <td>12.7M</td>\n",
              "      <td>Indonesia</td>\n",
              "      <td>478K</td>\n",
              "      <td>542.3K</td>\n",
              "    </tr>\n",
              "    <tr>\n",
              "      <th>2</th>\n",
              "      <td>_agentgirl_</td>\n",
              "      <td>НАСТЯ ИВЛЕЕВА</td>\n",
              "      <td>Shows</td>\n",
              "      <td>NaN</td>\n",
              "      <td>18.8M</td>\n",
              "      <td>Russia</td>\n",
              "      <td>310.8K</td>\n",
              "      <td>377.9K</td>\n",
              "    </tr>\n",
              "  </tbody>\n",
              "</table>\n",
              "</div>\n",
              "      <button class=\"colab-df-convert\" onclick=\"convertToInteractive('df-fbd03e76-3dcb-4353-b052-8fa50ab0092a')\"\n",
              "              title=\"Convert this dataframe to an interactive table.\"\n",
              "              style=\"display:none;\">\n",
              "        \n",
              "  <svg xmlns=\"http://www.w3.org/2000/svg\" height=\"24px\"viewBox=\"0 0 24 24\"\n",
              "       width=\"24px\">\n",
              "    <path d=\"M0 0h24v24H0V0z\" fill=\"none\"/>\n",
              "    <path d=\"M18.56 5.44l.94 2.06.94-2.06 2.06-.94-2.06-.94-.94-2.06-.94 2.06-2.06.94zm-11 1L8.5 8.5l.94-2.06 2.06-.94-2.06-.94L8.5 2.5l-.94 2.06-2.06.94zm10 10l.94 2.06.94-2.06 2.06-.94-2.06-.94-.94-2.06-.94 2.06-2.06.94z\"/><path d=\"M17.41 7.96l-1.37-1.37c-.4-.4-.92-.59-1.43-.59-.52 0-1.04.2-1.43.59L10.3 9.45l-7.72 7.72c-.78.78-.78 2.05 0 2.83L4 21.41c.39.39.9.59 1.41.59.51 0 1.02-.2 1.41-.59l7.78-7.78 2.81-2.81c.8-.78.8-2.07 0-2.86zM5.41 20L4 18.59l7.72-7.72 1.47 1.35L5.41 20z\"/>\n",
              "  </svg>\n",
              "      </button>\n",
              "      \n",
              "  <style>\n",
              "    .colab-df-container {\n",
              "      display:flex;\n",
              "      flex-wrap:wrap;\n",
              "      gap: 12px;\n",
              "    }\n",
              "\n",
              "    .colab-df-convert {\n",
              "      background-color: #E8F0FE;\n",
              "      border: none;\n",
              "      border-radius: 50%;\n",
              "      cursor: pointer;\n",
              "      display: none;\n",
              "      fill: #1967D2;\n",
              "      height: 32px;\n",
              "      padding: 0 0 0 0;\n",
              "      width: 32px;\n",
              "    }\n",
              "\n",
              "    .colab-df-convert:hover {\n",
              "      background-color: #E2EBFA;\n",
              "      box-shadow: 0px 1px 2px rgba(60, 64, 67, 0.3), 0px 1px 3px 1px rgba(60, 64, 67, 0.15);\n",
              "      fill: #174EA6;\n",
              "    }\n",
              "\n",
              "    [theme=dark] .colab-df-convert {\n",
              "      background-color: #3B4455;\n",
              "      fill: #D2E3FC;\n",
              "    }\n",
              "\n",
              "    [theme=dark] .colab-df-convert:hover {\n",
              "      background-color: #434B5C;\n",
              "      box-shadow: 0px 1px 3px 1px rgba(0, 0, 0, 0.15);\n",
              "      filter: drop-shadow(0px 1px 2px rgba(0, 0, 0, 0.3));\n",
              "      fill: #FFFFFF;\n",
              "    }\n",
              "  </style>\n",
              "\n",
              "      <script>\n",
              "        const buttonEl =\n",
              "          document.querySelector('#df-fbd03e76-3dcb-4353-b052-8fa50ab0092a button.colab-df-convert');\n",
              "        buttonEl.style.display =\n",
              "          google.colab.kernel.accessAllowed ? 'block' : 'none';\n",
              "\n",
              "        async function convertToInteractive(key) {\n",
              "          const element = document.querySelector('#df-fbd03e76-3dcb-4353-b052-8fa50ab0092a');\n",
              "          const dataTable =\n",
              "            await google.colab.kernel.invokeFunction('convertToInteractive',\n",
              "                                                     [key], {});\n",
              "          if (!dataTable) return;\n",
              "\n",
              "          const docLinkHtml = 'Like what you see? Visit the ' +\n",
              "            '<a target=\"_blank\" href=https://colab.research.google.com/notebooks/data_table.ipynb>data table notebook</a>'\n",
              "            + ' to learn more about interactive tables.';\n",
              "          element.innerHTML = '';\n",
              "          dataTable['output_type'] = 'display_data';\n",
              "          await google.colab.output.renderOutput(dataTable, element);\n",
              "          const docLink = document.createElement('div');\n",
              "          docLink.innerHTML = docLinkHtml;\n",
              "          element.appendChild(docLink);\n",
              "        }\n",
              "      </script>\n",
              "    </div>\n",
              "  </div>\n",
              "  "
            ]
          },
          "metadata": {},
          "execution_count": 138
        }
      ],
      "source": [
        "df_i.head(3)"
      ],
      "id": "TZytOIya4GXp"
    },
    {
      "cell_type": "code",
      "execution_count": null,
      "metadata": {
        "execution": {
          "iopub.execute_input": "2022-04-23T06:31:02.911601Z",
          "iopub.status.busy": "2022-04-23T06:31:02.911044Z",
          "iopub.status.idle": "2022-04-23T06:31:02.917914Z",
          "shell.execute_reply": "2022-04-23T06:31:02.917338Z"
        },
        "papermill": {
          "duration": 0.077124,
          "end_time": "2022-04-23T06:31:02.919558",
          "exception": false,
          "start_time": "2022-04-23T06:31:02.842434",
          "status": "completed"
        },
        "tags": [],
        "id": "2bntPTH84GXq",
        "colab": {
          "base_uri": "https://localhost:8080/"
        },
        "outputId": "cd234cc2-6d3c-4940-c180-4dc61efdd778"
      },
      "outputs": [
        {
          "output_type": "execute_result",
          "data": {
            "text/plain": [
              "Influencer_Insta_Name         0\n",
              "Influencer_Name              21\n",
              "Category_1                  108\n",
              "Category_2                  713\n",
              "Followers_Count               0\n",
              "Audience_Country(mostly)     14\n",
              "Authentic engagement\\r\\n      0\n",
              "Engagement avg\\r\\n            0\n",
              "dtype: int64"
            ]
          },
          "metadata": {},
          "execution_count": 139
        }
      ],
      "source": [
        "df_i.isnull().sum()"
      ],
      "id": "2bntPTH84GXq"
    },
    {
      "cell_type": "code",
      "execution_count": null,
      "metadata": {
        "execution": {
          "iopub.execute_input": "2022-04-23T06:31:03.057042Z",
          "iopub.status.busy": "2022-04-23T06:31:03.056552Z",
          "iopub.status.idle": "2022-04-23T06:31:03.069894Z",
          "shell.execute_reply": "2022-04-23T06:31:03.069150Z"
        },
        "papermill": {
          "duration": 0.084281,
          "end_time": "2022-04-23T06:31:03.071824",
          "exception": false,
          "start_time": "2022-04-23T06:31:02.987543",
          "status": "completed"
        },
        "tags": [],
        "id": "sPsPxo-q4GXr",
        "colab": {
          "base_uri": "https://localhost:8080/"
        },
        "outputId": "b094b5e0-05ef-4310-d7b5-b746a19b6873"
      },
      "outputs": [
        {
          "output_type": "execute_result",
          "data": {
            "text/plain": [
              "M    1000\n",
              "Name: Followers_Count, dtype: int64"
            ]
          },
          "metadata": {},
          "execution_count": 140
        }
      ],
      "source": [
        "df_i['Followers_Count'].str[-1].value_counts()"
      ],
      "id": "sPsPxo-q4GXr"
    },
    {
      "cell_type": "code",
      "source": [
        "G = nx.Graph()"
      ],
      "metadata": {
        "id": "imeqr8bR4GXr"
      },
      "execution_count": null,
      "outputs": [],
      "id": "imeqr8bR4GXr"
    },
    {
      "cell_type": "code",
      "source": [
        "for i in range(len(df_ic)):\n",
        "    G.add_node(df_ic['Influencer_Insta_Name'][i])"
      ],
      "metadata": {
        "id": "1FR1Khl04GXr"
      },
      "execution_count": null,
      "outputs": [],
      "id": "1FR1Khl04GXr"
    },
    {
      "cell_type": "code",
      "source": [
        "for i in range(len(df_ic)):\n",
        "    for j in range(i+1, len(df_ic)):\n",
        "        if df_ic['Influencer_Insta_Name'][i] == df_ic['Influencer_Insta_Name'][j]:\n",
        "            G.add_edge(df_ic['Influencer_Name'][i], df_ic['Influencer_Name'][j])\n"
      ],
      "metadata": {
        "id": "YTUjh1Lm4GXs"
      },
      "execution_count": null,
      "outputs": [],
      "id": "YTUjh1Lm4GXs"
    },
    {
      "cell_type": "code",
      "source": [
        "pos = nx.circular_layout(G)\n",
        "\n",
        "# Draw the graph\n",
        "nx.draw_networkx_nodes(G, pos, node_size=20, node_color='lightblue')\n",
        "nx.draw_networkx_edges(G, pos, width=1, alpha=0.8, edge_color='gray')\n",
        "#nx.draw_networkx_labels(G, pos, font_size=8, font_family='sans-serif')\n",
        "nx.draw_networkx(G, with_labels=False)\n",
        "\n",
        "# show the plot\n",
        "plt.show()\n",
        "# Add title and axis labels\n",
        "plt.title(\"Instagram Influencer Network Graph\")\n",
        "plt.axis('off')\n",
        "\n",
        "# Show the graph\n",
        "plt.show()"
      ],
      "metadata": {
        "id": "3uDBgtkw4GXt",
        "colab": {
          "base_uri": "https://localhost:8080/",
          "height": 817
        },
        "outputId": "2b8bfc02-e743-4225-e8e1-66e96e83578b"
      },
      "execution_count": null,
      "outputs": [
        {
          "output_type": "display_data",
          "data": {
            "text/plain": [
              "<Figure size 640x480 with 1 Axes>"
            ],
            "image/png": "[encoded data removed]"
          },
          "metadata": {}
        },
        {
          "output_type": "display_data",
          "data": {
            "text/plain": [
              "<Figure size 640x480 with 1 Axes>"
            ],
            "image/png": "[encoded data removed]"
          },
          "metadata": {}
        }
      ],
      "id": "3uDBgtkw4GXt"
    },
    {
      "cell_type": "code",
      "source": [
        "G = nx.Graph()"
      ],
      "metadata": {
        "id": "O6K8Pjqx4GXt"
      },
      "execution_count": null,
      "outputs": [],
      "id": "O6K8Pjqx4GXt"
    },
    {
      "cell_type": "code",
      "source": [
        "for i in range(1000):\n",
        "      G.add_node(df_ic['Influencer_Name'][i])"
      ],
      "metadata": {
        "id": "5d4iRCNe4GXu"
      },
      "execution_count": null,
      "outputs": [],
      "id": "5d4iRCNe4GXu"
    },
    {
      "cell_type": "code",
      "source": [
        "for i in range(1000):\n",
        "    for j in range(i+1, 1000):\n",
        "        if df_ic['Influencer_Insta_Name'][i] == df_ic['Influencer_Insta_Name'][j]:\n",
        "            G.add_edge(df_ic['Influencer_Name'][i], df_ic['Influencer_Name'][j])\n"
      ],
      "metadata": {
        "id": "xMCRxHu94GXu"
      },
      "execution_count": null,
      "outputs": [],
      "id": "xMCRxHu94GXu"
    },
    {
      "cell_type": "code",
      "source": [
        "pos = nx.circular_layout(G)\n",
        "\n",
        "# Draw the graph\n",
        "nx.draw_networkx_nodes(G, pos, node_size=200, node_color='lightblue')\n",
        "nx.draw_networkx_edges(G, pos, width=1, alpha=0.8, edge_color='gray')\n",
        "#nx.draw_networkx_labels(G, pos, font_size=8, font_family='sans-serif')\n",
        "nx.draw_networkx(G, with_labels=False)\n",
        "\n",
        "# show the plot\n",
        "plt.show()\n",
        "# Add title and axis labels\n",
        "plt.title(\"Youtube Influencer Network Graph\")\n",
        "plt.axis('off')\n",
        "\n",
        "# Show the graph\n",
        "plt.show()"
      ],
      "metadata": {
        "id": "mejF2FbH4GXv",
        "colab": {
          "base_uri": "https://localhost:8080/",
          "height": 817
        },
        "outputId": "9034a87e-92dd-4460-e0bb-238f3578c782"
      },
      "execution_count": null,
      "outputs": [
        {
          "output_type": "display_data",
          "data": {
            "text/plain": [
              "<Figure size 640x480 with 1 Axes>"
            ],
            "image/png": "[encoded data removed]"
          },
          "metadata": {}
        },
        {
          "output_type": "display_data",
          "data": {
            "text/plain": [
              "<Figure size 640x480 with 1 Axes>"
            ],
            "image/png": "[encoded data removed]"
          },
          "metadata": {}
        }
      ],
      "id": "mejF2FbH4GXv"
    },
    {
      "cell_type": "code",
      "source": [
        "from operator import itemgetter \n",
        "def convert_value_to_float(value):\n",
        "    if isinstance(value, str):\n",
        "        if value.endswith('M'):\n",
        "            return float(value[:-1]) * 1000000\n",
        "        elif value.endswith('K'):\n",
        "            return float(value[:-1]) * 1000\n",
        "        else:\n",
        "            return float(value)\n",
        "    else:\n",
        "        return float(value)\n",
        "\n",
        "for i in range(len(df_i)):\n",
        "    for j in range(i+1, len(df_i)):\n",
        "        if df_i['Influencer_Insta_Name'][i] != df_i['Influencer_Insta_Name'][j]:\n",
        "            weight = (convert_value_to_float(df_i['Authentic engagement\\r\\n'][i])+convert_value_to_float(df_i['Authentic engagement\\r\\n'][j]))/2\n",
        "            G.add_edge(df_i['Influencer_Insta_Name'][i], df_i['Influencer_Insta_Name'][j], weight=weight)\n",
        "\n"
      ],
      "metadata": {
        "id": "CFghNdRu4GXv"
      },
      "execution_count": null,
      "outputs": [],
      "id": "CFghNdRu4GXv"
    },
    {
      "cell_type": "code",
      "source": [
        "import math\n",
        "\n",
        "def degree_discount(G, k):\n",
        "    nodes = set(G.nodes())\n",
        "    scores = dict.fromkeys(nodes, 0)\n",
        "    for i in range(k):\n",
        "        max_node = max(scores, key=scores.get)\n",
        "        nodes.remove(max_node)\n",
        "        for neighbor in G.neighbors(max_node):\n",
        "            if neighbor in nodes:\n",
        "                d = G.degree(neighbor)\n",
        "                scores[neighbor] += 1 / math.sqrt(d)\n",
        "    return dict(sorted(scores.items(), key=lambda item: item[1], reverse=True)[:k])\n"
      ],
      "metadata": {
        "id": "-GgpKkEa4GXw"
      },
      "execution_count": null,
      "outputs": [],
      "id": "-GgpKkEa4GXw"
    },
    {
      "cell_type": "code",
      "source": [
        "k=2\n",
        "seeds = degree_discount(G, k) # select seeds using degree discount heuristic\n",
        "\n",
        "most_influential_node = max(list(seeds), key=lambda x: G.degree(x))\n",
        "print(\"Most influential node:\", most_influential_node)\n"
      ],
      "metadata": {
        "id": "onQoDfW-4GXw",
        "colab": {
          "base_uri": "https://localhost:8080/"
        },
        "outputId": "66ef1a59-fe09-41b1-ed19-bffb7a372422"
      },
      "execution_count": null,
      "outputs": [
        {
          "output_type": "stream",
          "name": "stdout",
          "text": [
            "Most influential node: thebursin\n"
          ]
        }
      ],
      "id": "onQoDfW-4GXw"
    },
    {
      "cell_type": "code",
      "source": [
        "G = nx.DiGraph()\n",
        "\n",
        "# Add nodes\n",
        "for name in df_i['Influencer_Insta_Name']:\n",
        "    G.add_node(name)\n",
        "\n",
        "# Add edges with weights\n",
        "for i in range(len(df_i)):\n",
        "    for j in range(i+1, len(df_i)):\n",
        "        if df_i['Influencer_Insta_Name'][i] != df_i['Influencer_Insta_Name'][j]:\n",
        "            weight = (convert_value_to_float(df_i['Authentic engagement\\r\\n'][i])+convert_value_to_float(df_i['Authentic engagement\\r\\n'][j]))/2\n",
        "            G.add_edge(df_i['Influencer_Insta_Name'][i], df_i['Influencer_Insta_Name'][j], weight=weight)\n",
        "\n"
      ],
      "metadata": {
        "id": "6YO776Rs4GXw"
      },
      "execution_count": null,
      "outputs": [],
      "id": "6YO776Rs4GXw"
    },
    {
      "cell_type": "code",
      "source": [
        "# Compute various centrality measures\n",
        "degree_centrality = nx.degree_centrality(G)\n",
        "closeness_centrality = nx.closeness_centrality(G)\n",
        "betweenness_centrality = nx.betweenness_centrality(G)\n",
        "\n",
        "# Print the top 5 nodes for each centrality measure\n",
        "print(\"Top 5 nodes by degree centrality:\")\n",
        "print(sorted(degree_centrality.items(), key=lambda x: x[1], reverse=True)[:5])\n",
        "print(\"\\nTop 5 nodes by closeness centrality:\")\n",
        "print(sorted(closeness_centrality.items(), key=lambda x: x[1], reverse=True)[:5])\n",
        "print(\"\\nTop 5 nodes by betweenness centrality:\")\n",
        "print(sorted(betweenness_centrality.items(), key=lambda x: x[1], reverse=True)[:5])\n"
      ],
      "metadata": {
        "id": "5oZIXdgw-rvg",
        "colab": {
          "base_uri": "https://localhost:8080/"
        },
        "outputId": "84e6f144-6ce5-4f13-c234-52448794f9e6"
      },
      "id": "5oZIXdgw-rvg",
      "execution_count": null,
      "outputs": [
        {
          "output_type": "stream",
          "name": "stdout",
          "text": [
            "Top 5 nodes by degree centrality:\n",
            "[('433', 0.9999999999999999), ('__youngbae__', 0.9999999999999999), ('_agentgirl_', 0.9999999999999999), ('_imyour_joy', 0.9999999999999999), ('_jeongjaehyun', 0.9999999999999999)]\n",
            "\n",
            "Top 5 nodes by closeness centrality:\n",
            "[('zoesugg', 1.0), ('zoeisabellakravitz', 0.998995983935743), ('zkdlin', 0.9979919678714859), ('zidane', 0.9969879518072289), ('zendaya', 0.9959839357429718)]\n",
            "\n",
            "Top 5 nodes by betweenness centrality:\n",
            "[('433', 0.0), ('__youngbae__', 0.0), ('_agentgirl_', 0.0), ('_imyour_joy', 0.0), ('_jeongjaehyun', 0.0)]\n"
          ]
        }
      ]
    },
    {
      "cell_type": "code",
      "source": [
        "import numpy as np\n",
        "import networkx as nx\n",
        "\n",
        "# Define the propagation model (Independent Cascade Model)\n",
        "def IC_model(G, seeds, p):\n",
        "    active_nodes = set(seeds)\n",
        "    new_active_nodes = set(seeds)\n",
        "    while new_active_nodes:\n",
        "        next_nodes = set()\n",
        "        for node in new_active_nodes:\n",
        "            if G.is_directed():\n",
        "                neighbors = G.successors(node)\n",
        "            else:\n",
        "                neighbors = G.neighbors(node)\n",
        "            for neighbor in neighbors:\n",
        "                if neighbor not in active_nodes:\n",
        "                    if np.random.random() <= G[node][neighbor]['weight'] * p:\n",
        "                        next_nodes.add(neighbor)\n",
        "        new_active_nodes = next_nodes\n",
        "        active_nodes |= new_active_nodes\n",
        "    return len(active_nodes)\n",
        "\n",
        "# Run the simulation for 1000 iterations and calculate the average number of activated nodes\n",
        "n_iter = 1000\n",
        "p = 0.2\n",
        "seeds = ['__youngbae__', 'zoeisabellakravitz'] # example seed nodes\n",
        "avg_activated_nodes = 0\n",
        "for i in range(n_iter):\n",
        "    activated_nodes = IC_model(G, seeds, p)\n",
        "    avg_activated_nodes += activated_nodes\n",
        "avg_activated_nodes /= n_iter\n",
        "\n",
        "print(\"Average number of activated nodes:\", avg_activated_nodes)\n"
      ],
      "metadata": {
        "id": "AyoL5rfo4GXy",
        "colab": {
          "base_uri": "https://localhost:8080/"
        },
        "outputId": "f3ce09be-b5a7-47c5-bb22-f83fc58d9117"
      },
      "execution_count": null,
      "outputs": [
        {
          "output_type": "stream",
          "name": "stdout",
          "text": [
            "Average number of activated nodes: 996.0\n"
          ]
        }
      ],
      "id": "AyoL5rfo4GXy"
    },
    {
      "cell_type": "code",
      "source": [],
      "metadata": {
        "id": "LpS2zjM7Fk0H"
      },
      "id": "LpS2zjM7Fk0H",
      "execution_count": null,
      "outputs": []
    },
    {
      "cell_type": "code",
      "source": [
        "import networkx as nx\n",
        "import random\n",
        "\n",
        "def independent_cascade_with_time_hop_and_size(G, seeds, p):\n",
        "    # initialize the time, hop, and activated nodes sets with the seed nodes\n",
        "    time = {node: 0 for node in seeds}\n",
        "    hop = {node: 0 for node in seeds}\n",
        "    activated_nodes = set(seeds)\n",
        "    # initialize the active nodes set with the seed nodes\n",
        "    active_nodes = set(seeds)\n",
        "    # loop until no more nodes can be activated\n",
        "    while active_nodes:\n",
        "        # get a random active node\n",
        "        node = active_nodes.pop()\n",
        "        # for each neighbor of the active node\n",
        "        for neighbor in G.neighbors(node):\n",
        "            # if the neighbor is already active, skip it\n",
        "            if neighbor in activated_nodes:\n",
        "                continue\n",
        "            # otherwise, try to activate the neighbor with probability p\n",
        "            if random.random() < p:\n",
        "                # add the neighbor to the active and activated nodes sets\n",
        "                active_nodes.add(neighbor)\n",
        "                activated_nodes.add(neighbor)\n",
        "                # record the activation time and hop distance of the neighbor\n",
        "                time[neighbor] = time[node] + 1\n",
        "                hop[neighbor] = hop[node] + 1\n",
        "            else:\n",
        "                # if the neighbor is not activated, update the hop distance if it is smaller than the current value\n",
        "                if neighbor in hop:\n",
        "                    hop[neighbor] = min(hop[neighbor], hop[node] + 1)\n",
        "                else:\n",
        "                    hop[neighbor] = hop[node] + 1\n",
        "    # return the time, hop, and activated nodes sets, as well as the size of the activated nodes set\n",
        "    return time, hop, activated_nodes, len(activated_nodes)\n"
      ],
      "metadata": {
        "id": "pseTLBuNFla9"
      },
      "execution_count": null,
      "outputs": [],
      "id": "pseTLBuNFla9"
    },
    {
      "cell_type": "code",
      "source": [
        "seeds = ['zoesugg'] \n",
        "p = 0.5\n",
        "time, hop = independent_cascade_with_time_and_hop(G, seeds, p)\n",
        "propagation_time = max(time.values())\n",
        "min_hop_distance = max(hop.values())\n",
        "print(\"Propagation time:\", propagation_time)\n",
        "print(\"Minimum hop distance:\", min_hop_distance)"
      ],
      "metadata": {
        "colab": {
          "base_uri": "https://localhost:8080/"
        },
        "outputId": "65669796-a549-4b6f-c233-dd773e742540",
        "id": "ol9S-5kaFla_"
      },
      "execution_count": null,
      "outputs": [
        {
          "output_type": "stream",
          "name": "stdout",
          "text": [
            "Propagation time: 0\n",
            "Minimum hop distance: 0\n"
          ]
        }
      ],
      "id": "ol9S-5kaFla_"
    },
    {
      "cell_type": "code",
      "source": [
        "seeds = ['__youngbae__'] \n",
        "p = 0.5\n",
        "time, hop = independent_cascade_with_time_and_hop(G, seeds, p)\n",
        "propagation_time = max(time.values())\n",
        "min_hop_distance = max(hop.values())\n",
        "print(\"Propagation time:\", propagation_time)\n",
        "print(\"Minimum hop distance:\", min_hop_distance)"
      ],
      "metadata": {
        "colab": {
          "base_uri": "https://localhost:8080/"
        },
        "outputId": "7adc49d5-5dff-459f-bbf8-1519dc59a5bf",
        "id": "-5Pmz2nlFlbB"
      },
      "execution_count": null,
      "outputs": [
        {
          "output_type": "stream",
          "name": "stdout",
          "text": [
            "Propagation time: 3\n",
            "Minimum hop distance: 3\n"
          ]
        }
      ],
      "id": "-5Pmz2nlFlbB"
    },
    {
      "cell_type": "code",
      "source": [
        "seeds = ['433'] \n",
        "p = 0.5\n",
        "time, hop = independent_cascade_with_time_and_hop(G, seeds, p)\n",
        "propagation_time = max(time.values())\n",
        "min_hop_distance = max(hop.values())\n",
        "print(\"Propagation time:\", propagation_time)\n",
        "print(\"Minimum hop distance:\", min_hop_distance)"
      ],
      "metadata": {
        "colab": {
          "base_uri": "https://localhost:8080/"
        },
        "outputId": "fd606885-fe7e-4138-f36f-be93731d05f5",
        "id": "r27I8j9VFlbC"
      },
      "execution_count": null,
      "outputs": [
        {
          "output_type": "stream",
          "name": "stdout",
          "text": [
            "Propagation time: 4\n",
            "Minimum hop distance: 4\n"
          ]
        }
      ],
      "id": "r27I8j9VFlbC"
    },
    {
      "cell_type": "code",
      "source": [
        "p = 0.5\n",
        "seeds = ['__youngbae__'] \n",
        "\n",
        "time, hop, activated_nodes, num_activated_nodes = independent_cascade_with_time_hop_and_size(G, seeds, p)\n",
        "propagation_time = max(time.values())\n",
        "min_hop_distance = max(hop.values())\n",
        "print(\"Propagation time:\", propagation_time)\n",
        "print(\"Minimum hop distance:\", min_hop_distance)\n",
        "print(\"Number of activated nodes:\", num_activated_nodes)"
      ],
      "metadata": {
        "colab": {
          "base_uri": "https://localhost:8080/"
        },
        "outputId": "fe310654-7ea4-493a-cf6c-67ff58d55b65",
        "id": "ZIz7fkXiFlbD"
      },
      "execution_count": null,
      "outputs": [
        {
          "output_type": "stream",
          "name": "stdout",
          "text": [
            "Propagation time: 4\n",
            "Minimum hop distance: 4\n",
            "Number of activated nodes: 993\n"
          ]
        }
      ],
      "id": "ZIz7fkXiFlbD"
    },
    {
      "cell_type": "code",
      "source": [
        "p = 0.5\n",
        "seeds = ['__youngbae__'] \n",
        "\n",
        "time, hop, activated_nodes, num_activated_nodes = independent_cascade_with_time_hop_and_size(G, seeds, p)\n",
        "propagation_time = max(time.values())\n",
        "min_hop_distance = max(hop.values())\n",
        "print(\"Propagation time:\", propagation_time)\n",
        "print(\"Minimum hop distance:\", min_hop_distance)\n",
        "print(\"Number of activated nodes:\", num_activated_nodes)"
      ],
      "metadata": {
        "colab": {
          "base_uri": "https://localhost:8080/"
        },
        "outputId": "3443e6a0-6e1c-42f3-fc9b-4fb0657e1273",
        "id": "NQngcp5yFlbE"
      },
      "execution_count": null,
      "outputs": [
        {
          "output_type": "stream",
          "name": "stdout",
          "text": [
            "Propagation time: 4\n",
            "Minimum hop distance: 4\n",
            "Number of activated nodes: 994\n"
          ]
        }
      ],
      "id": "NQngcp5yFlbE"
    },
    {
      "cell_type": "code",
      "source": [
        "p = 0.5\n",
        "seeds = ['__youngbae__', 'zoeisabellakravitz'] \n",
        "\n",
        "time, hop, activated_nodes, num_activated_nodes = independent_cascade_with_time_hop_and_size(G, seeds, p)\n",
        "propagation_time = max(time.values())\n",
        "min_hop_distance = max(hop.values())\n",
        "print(\"Propagation time:\", propagation_time)\n",
        "print(\"Minimum hop distance:\", min_hop_distance)\n",
        "print(\"Number of activated nodes:\", num_activated_nodes)"
      ],
      "metadata": {
        "colab": {
          "base_uri": "https://localhost:8080/"
        },
        "outputId": "e5399a3b-a932-47c0-8516-fd05aafb13fc",
        "id": "M6MCNAKcFlbF"
      },
      "execution_count": null,
      "outputs": [
        {
          "output_type": "stream",
          "name": "stdout",
          "text": [
            "Propagation time: 4\n",
            "Minimum hop distance: 4\n",
            "Number of activated nodes: 996\n"
          ]
        }
      ],
      "id": "M6MCNAKcFlbF"
    },
    {
      "cell_type": "code",
      "source": [],
      "metadata": {
        "id": "JU9k6aNxFlbG"
      },
      "execution_count": null,
      "outputs": [],
      "id": "JU9k6aNxFlbG"
    },
    {
      "cell_type": "code",
      "source": [],
      "metadata": {
        "id": "ZMJ6Gdj4FlbG"
      },
      "execution_count": null,
      "outputs": [],
      "id": "ZMJ6Gdj4FlbG"
    },
    {
      "cell_type": "code",
      "execution_count": null,
      "metadata": {
        "execution": {
          "iopub.execute_input": "2022-04-23T06:31:05.722737Z",
          "iopub.status.busy": "2022-04-23T06:31:05.722039Z",
          "iopub.status.idle": "2022-04-23T06:31:05.728879Z",
          "shell.execute_reply": "2022-04-23T06:31:05.728116Z"
        },
        "papermill": {
          "duration": 0.083666,
          "end_time": "2022-04-23T06:31:05.731045",
          "exception": false,
          "start_time": "2022-04-23T06:31:05.647379",
          "status": "completed"
        },
        "tags": [],
        "id": "0fc55e79"
      },
      "outputs": [],
      "source": [
        "df_i.drop(labels=['Influencer_Insta_Name','Authentic engagement\\r\\n'],axis=1,inplace=True)"
      ],
      "id": "0fc55e79"
    },
    {
      "cell_type": "code",
      "execution_count": null,
      "metadata": {
        "execution": {
          "iopub.execute_input": "2022-04-23T06:31:05.882578Z",
          "iopub.status.busy": "2022-04-23T06:31:05.882014Z",
          "iopub.status.idle": "2022-04-23T06:31:05.892108Z",
          "shell.execute_reply": "2022-04-23T06:31:05.891357Z"
        },
        "papermill": {
          "duration": 0.085008,
          "end_time": "2022-04-23T06:31:05.893844",
          "exception": false,
          "start_time": "2022-04-23T06:31:05.808836",
          "status": "completed"
        },
        "tags": [],
        "id": "9480058a",
        "colab": {
          "base_uri": "https://localhost:8080/",
          "height": 112
        },
        "outputId": "1fdf288a-88bd-46ec-ef06-7a732bc323e9"
      },
      "outputs": [
        {
          "output_type": "execute_result",
          "data": {
            "text/plain": [
              "  Influencer_Name          Category_1 Category_2 Followers_Count  \\\n",
              "0             433  Sports with a ball        NaN           48.5M   \n",
              "1         TAEYANG               Music        NaN           12.7M   \n",
              "\n",
              "  Audience_Country(mostly) Engagement avg\\r\\n  \n",
              "0                    Spain               637K  \n",
              "1                Indonesia             542.3K  "
            ],
            "text/html": [
              "\n",
              "  <div id=\"df-2a061ae4-35b5-4b4c-8650-b79c80a3237e\">\n",
              "    <div class=\"colab-df-container\">\n",
              "      <div>\n",
              "<style scoped>\n",
              "    .dataframe tbody tr th:only-of-type {\n",
              "        vertical-align: middle;\n",
              "    }\n",
              "\n",
              "    .dataframe tbody tr th {\n",
              "        vertical-align: top;\n",
              "    }\n",
              "\n",
              "    .dataframe thead th {\n",
              "        text-align: right;\n",
              "    }\n",
              "</style>\n",
              "<table border=\"1\" class=\"dataframe\">\n",
              "  <thead>\n",
              "    <tr style=\"text-align: right;\">\n",
              "      <th></th>\n",
              "      <th>Influencer_Name</th>\n",
              "      <th>Category_1</th>\n",
              "      <th>Category_2</th>\n",
              "      <th>Followers_Count</th>\n",
              "      <th>Audience_Country(mostly)</th>\n",
              "      <th>Engagement avg\\r\\n</th>\n",
              "    </tr>\n",
              "  </thead>\n",
              "  <tbody>\n",
              "    <tr>\n",
              "      <th>0</th>\n",
              "      <td>433</td>\n",
              "      <td>Sports with a ball</td>\n",
              "      <td>NaN</td>\n",
              "      <td>48.5M</td>\n",
              "      <td>Spain</td>\n",
              "      <td>637K</td>\n",
              "    </tr>\n",
              "    <tr>\n",
              "      <th>1</th>\n",
              "      <td>TAEYANG</td>\n",
              "      <td>Music</td>\n",
              "      <td>NaN</td>\n",
              "      <td>12.7M</td>\n",
              "      <td>Indonesia</td>\n",
              "      <td>542.3K</td>\n",
              "    </tr>\n",
              "  </tbody>\n",
              "</table>\n",
              "</div>\n",
              "      <button class=\"colab-df-convert\" onclick=\"convertToInteractive('df-2a061ae4-35b5-4b4c-8650-b79c80a3237e')\"\n",
              "              title=\"Convert this dataframe to an interactive table.\"\n",
              "              style=\"display:none;\">\n",
              "        \n",
              "  <svg xmlns=\"http://www.w3.org/2000/svg\" height=\"24px\"viewBox=\"0 0 24 24\"\n",
              "       width=\"24px\">\n",
              "    <path d=\"M0 0h24v24H0V0z\" fill=\"none\"/>\n",
              "    <path d=\"M18.56 5.44l.94 2.06.94-2.06 2.06-.94-2.06-.94-.94-2.06-.94 2.06-2.06.94zm-11 1L8.5 8.5l.94-2.06 2.06-.94-2.06-.94L8.5 2.5l-.94 2.06-2.06.94zm10 10l.94 2.06.94-2.06 2.06-.94-2.06-.94-.94-2.06-.94 2.06-2.06.94z\"/><path d=\"M17.41 7.96l-1.37-1.37c-.4-.4-.92-.59-1.43-.59-.52 0-1.04.2-1.43.59L10.3 9.45l-7.72 7.72c-.78.78-.78 2.05 0 2.83L4 21.41c.39.39.9.59 1.41.59.51 0 1.02-.2 1.41-.59l7.78-7.78 2.81-2.81c.8-.78.8-2.07 0-2.86zM5.41 20L4 18.59l7.72-7.72 1.47 1.35L5.41 20z\"/>\n",
              "  </svg>\n",
              "      </button>\n",
              "      \n",
              "  <style>\n",
              "    .colab-df-container {\n",
              "      display:flex;\n",
              "      flex-wrap:wrap;\n",
              "      gap: 12px;\n",
              "    }\n",
              "\n",
              "    .colab-df-convert {\n",
              "      background-color: #E8F0FE;\n",
              "      border: none;\n",
              "      border-radius: 50%;\n",
              "      cursor: pointer;\n",
              "      display: none;\n",
              "      fill: #1967D2;\n",
              "      height: 32px;\n",
              "      padding: 0 0 0 0;\n",
              "      width: 32px;\n",
              "    }\n",
              "\n",
              "    .colab-df-convert:hover {\n",
              "      background-color: #E2EBFA;\n",
              "      box-shadow: 0px 1px 2px rgba(60, 64, 67, 0.3), 0px 1px 3px 1px rgba(60, 64, 67, 0.15);\n",
              "      fill: #174EA6;\n",
              "    }\n",
              "\n",
              "    [theme=dark] .colab-df-convert {\n",
              "      background-color: #3B4455;\n",
              "      fill: #D2E3FC;\n",
              "    }\n",
              "\n",
              "    [theme=dark] .colab-df-convert:hover {\n",
              "      background-color: #434B5C;\n",
              "      box-shadow: 0px 1px 3px 1px rgba(0, 0, 0, 0.15);\n",
              "      filter: drop-shadow(0px 1px 2px rgba(0, 0, 0, 0.3));\n",
              "      fill: #FFFFFF;\n",
              "    }\n",
              "  </style>\n",
              "\n",
              "      <script>\n",
              "        const buttonEl =\n",
              "          document.querySelector('#df-2a061ae4-35b5-4b4c-8650-b79c80a3237e button.colab-df-convert');\n",
              "        buttonEl.style.display =\n",
              "          google.colab.kernel.accessAllowed ? 'block' : 'none';\n",
              "\n",
              "        async function convertToInteractive(key) {\n",
              "          const element = document.querySelector('#df-2a061ae4-35b5-4b4c-8650-b79c80a3237e');\n",
              "          const dataTable =\n",
              "            await google.colab.kernel.invokeFunction('convertToInteractive',\n",
              "                                                     [key], {});\n",
              "          if (!dataTable) return;\n",
              "\n",
              "          const docLinkHtml = 'Like what you see? Visit the ' +\n",
              "            '<a target=\"_blank\" href=https://colab.research.google.com/notebooks/data_table.ipynb>data table notebook</a>'\n",
              "            + ' to learn more about interactive tables.';\n",
              "          element.innerHTML = '';\n",
              "          dataTable['output_type'] = 'display_data';\n",
              "          await google.colab.output.renderOutput(dataTable, element);\n",
              "          const docLink = document.createElement('div');\n",
              "          docLink.innerHTML = docLinkHtml;\n",
              "          element.appendChild(docLink);\n",
              "        }\n",
              "      </script>\n",
              "    </div>\n",
              "  </div>\n",
              "  "
            ]
          },
          "metadata": {},
          "execution_count": 163
        }
      ],
      "source": [
        "df_i.head(2)"
      ],
      "id": "9480058a"
    },
    {
      "cell_type": "code",
      "execution_count": null,
      "metadata": {
        "execution": {
          "iopub.execute_input": "2022-04-23T06:31:06.040353Z",
          "iopub.status.busy": "2022-04-23T06:31:06.039870Z",
          "iopub.status.idle": "2022-04-23T06:31:06.043526Z",
          "shell.execute_reply": "2022-04-23T06:31:06.042724Z"
        },
        "papermill": {
          "duration": 0.079484,
          "end_time": "2022-04-23T06:31:06.045302",
          "exception": false,
          "start_time": "2022-04-23T06:31:05.965818",
          "status": "completed"
        },
        "tags": [],
        "id": "99694736"
      },
      "outputs": [],
      "source": [
        "li=['Followers_Count','Engagement avg\\r\\n']\n"
      ],
      "id": "99694736"
    },
    {
      "cell_type": "code",
      "execution_count": null,
      "metadata": {
        "execution": {
          "iopub.execute_input": "2022-04-23T06:31:06.192363Z",
          "iopub.status.busy": "2022-04-23T06:31:06.191663Z",
          "iopub.status.idle": "2022-04-23T06:31:06.215016Z",
          "shell.execute_reply": "2022-04-23T06:31:06.214396Z"
        },
        "papermill": {
          "duration": 0.099099,
          "end_time": "2022-04-23T06:31:06.216823",
          "exception": false,
          "start_time": "2022-04-23T06:31:06.117724",
          "status": "completed"
        },
        "tags": [],
        "id": "191bff0b",
        "colab": {
          "base_uri": "https://localhost:8080/",
          "height": 609
        },
        "outputId": "87954b13-5c65-4238-9072-e4617bd68c49"
      },
      "outputs": [
        {
          "output_type": "execute_result",
          "data": {
            "text/plain": [
              "    Influencer_Name                 Category_1          Category_2  \\\n",
              "0               433         Sports with a ball                 NaN   \n",
              "1           TAEYANG                      Music                 NaN   \n",
              "2     НАСТЯ ИВЛЕЕВА                      Shows                 NaN   \n",
              "3               Joy                  Lifestyle                 NaN   \n",
              "4           Jaehyun                        NaN                 NaN   \n",
              "..              ...                        ...                 ...   \n",
              "995         Zendaya  Cinema & Actors/actresses             Fashion   \n",
              "996          zidane         Sports with a ball                 NaN   \n",
              "997             KAI                      Music                 NaN   \n",
              "998    Zoë Kravitz  Cinema & Actors/actresses                 NaN   \n",
              "999       Zoë Sugg                  Lifestyle  Business & Careers   \n",
              "\n",
              "    Followers_Count Audience_Country(mostly) Engagement avg\\r\\n  \\\n",
              "0             48.5M                    Spain               637K   \n",
              "1             12.7M                Indonesia             542.3K   \n",
              "2             18.8M                   Russia             377.9K   \n",
              "3             13.5M                Indonesia               1.4M   \n",
              "4             11.1M                Indonesia               3.1M   \n",
              "..              ...                      ...                ...   \n",
              "995          136.1M            United States               8.6M   \n",
              "996           31.2M                    Spain             744.1K   \n",
              "997           13.9M                Indonesia               1.6M   \n",
              "998            8.2M            United States             885.5K   \n",
              "999            9.4M           United Kingdom             289.3K   \n",
              "\n",
              "     newFollowers_Count  newEngagement avg\\r\\n  \n",
              "0            48500000.0               637000.0  \n",
              "1            12700000.0               542300.0  \n",
              "2            18800000.0               377900.0  \n",
              "3            13500000.0              1400000.0  \n",
              "4            11100000.0              3100000.0  \n",
              "..                  ...                    ...  \n",
              "995         136100000.0              8600000.0  \n",
              "996          31200000.0               744100.0  \n",
              "997          13900000.0              1600000.0  \n",
              "998           8200000.0               885500.0  \n",
              "999           9400000.0               289300.0  \n",
              "\n",
              "[1000 rows x 8 columns]"
            ],
            "text/html": [
              "\n",
              "  <div id=\"df-8ce4269b-3232-4294-8146-448a76680e86\">\n",
              "    <div class=\"colab-df-container\">\n",
              "      <div>\n",
              "<style scoped>\n",
              "    .dataframe tbody tr th:only-of-type {\n",
              "        vertical-align: middle;\n",
              "    }\n",
              "\n",
              "    .dataframe tbody tr th {\n",
              "        vertical-align: top;\n",
              "    }\n",
              "\n",
              "    .dataframe thead th {\n",
              "        text-align: right;\n",
              "    }\n",
              "</style>\n",
              "<table border=\"1\" class=\"dataframe\">\n",
              "  <thead>\n",
              "    <tr style=\"text-align: right;\">\n",
              "      <th></th>\n",
              "      <th>Influencer_Name</th>\n",
              "      <th>Category_1</th>\n",
              "      <th>Category_2</th>\n",
              "      <th>Followers_Count</th>\n",
              "      <th>Audience_Country(mostly)</th>\n",
              "      <th>Engagement avg\\r\\n</th>\n",
              "      <th>newFollowers_Count</th>\n",
              "      <th>newEngagement avg\\r\\n</th>\n",
              "    </tr>\n",
              "  </thead>\n",
              "  <tbody>\n",
              "    <tr>\n",
              "      <th>0</th>\n",
              "      <td>433</td>\n",
              "      <td>Sports with a ball</td>\n",
              "      <td>NaN</td>\n",
              "      <td>48.5M</td>\n",
              "      <td>Spain</td>\n",
              "      <td>637K</td>\n",
              "      <td>48500000.0</td>\n",
              "      <td>637000.0</td>\n",
              "    </tr>\n",
              "    <tr>\n",
              "      <th>1</th>\n",
              "      <td>TAEYANG</td>\n",
              "      <td>Music</td>\n",
              "      <td>NaN</td>\n",
              "      <td>12.7M</td>\n",
              "      <td>Indonesia</td>\n",
              "      <td>542.3K</td>\n",
              "      <td>12700000.0</td>\n",
              "      <td>542300.0</td>\n",
              "    </tr>\n",
              "    <tr>\n",
              "      <th>2</th>\n",
              "      <td>НАСТЯ ИВЛЕЕВА</td>\n",
              "      <td>Shows</td>\n",
              "      <td>NaN</td>\n",
              "      <td>18.8M</td>\n",
              "      <td>Russia</td>\n",
              "      <td>377.9K</td>\n",
              "      <td>18800000.0</td>\n",
              "      <td>377900.0</td>\n",
              "    </tr>\n",
              "    <tr>\n",
              "      <th>3</th>\n",
              "      <td>Joy</td>\n",
              "      <td>Lifestyle</td>\n",
              "      <td>NaN</td>\n",
              "      <td>13.5M</td>\n",
              "      <td>Indonesia</td>\n",
              "      <td>1.4M</td>\n",
              "      <td>13500000.0</td>\n",
              "      <td>1400000.0</td>\n",
              "    </tr>\n",
              "    <tr>\n",
              "      <th>4</th>\n",
              "      <td>Jaehyun</td>\n",
              "      <td>NaN</td>\n",
              "      <td>NaN</td>\n",
              "      <td>11.1M</td>\n",
              "      <td>Indonesia</td>\n",
              "      <td>3.1M</td>\n",
              "      <td>11100000.0</td>\n",
              "      <td>3100000.0</td>\n",
              "    </tr>\n",
              "    <tr>\n",
              "      <th>...</th>\n",
              "      <td>...</td>\n",
              "      <td>...</td>\n",
              "      <td>...</td>\n",
              "      <td>...</td>\n",
              "      <td>...</td>\n",
              "      <td>...</td>\n",
              "      <td>...</td>\n",
              "      <td>...</td>\n",
              "    </tr>\n",
              "    <tr>\n",
              "      <th>995</th>\n",
              "      <td>Zendaya</td>\n",
              "      <td>Cinema &amp; Actors/actresses</td>\n",
              "      <td>Fashion</td>\n",
              "      <td>136.1M</td>\n",
              "      <td>United States</td>\n",
              "      <td>8.6M</td>\n",
              "      <td>136100000.0</td>\n",
              "      <td>8600000.0</td>\n",
              "    </tr>\n",
              "    <tr>\n",
              "      <th>996</th>\n",
              "      <td>zidane</td>\n",
              "      <td>Sports with a ball</td>\n",
              "      <td>NaN</td>\n",
              "      <td>31.2M</td>\n",
              "      <td>Spain</td>\n",
              "      <td>744.1K</td>\n",
              "      <td>31200000.0</td>\n",
              "      <td>744100.0</td>\n",
              "    </tr>\n",
              "    <tr>\n",
              "      <th>997</th>\n",
              "      <td>KAI</td>\n",
              "      <td>Music</td>\n",
              "      <td>NaN</td>\n",
              "      <td>13.9M</td>\n",
              "      <td>Indonesia</td>\n",
              "      <td>1.6M</td>\n",
              "      <td>13900000.0</td>\n",
              "      <td>1600000.0</td>\n",
              "    </tr>\n",
              "    <tr>\n",
              "      <th>998</th>\n",
              "      <td>Zoë Kravitz</td>\n",
              "      <td>Cinema &amp; Actors/actresses</td>\n",
              "      <td>NaN</td>\n",
              "      <td>8.2M</td>\n",
              "      <td>United States</td>\n",
              "      <td>885.5K</td>\n",
              "      <td>8200000.0</td>\n",
              "      <td>885500.0</td>\n",
              "    </tr>\n",
              "    <tr>\n",
              "      <th>999</th>\n",
              "      <td>Zoë Sugg</td>\n",
              "      <td>Lifestyle</td>\n",
              "      <td>Business &amp; Careers</td>\n",
              "      <td>9.4M</td>\n",
              "      <td>United Kingdom</td>\n",
              "      <td>289.3K</td>\n",
              "      <td>9400000.0</td>\n",
              "      <td>289300.0</td>\n",
              "    </tr>\n",
              "  </tbody>\n",
              "</table>\n",
              "<p>1000 rows × 8 columns</p>\n",
              "</div>\n",
              "      <button class=\"colab-df-convert\" onclick=\"convertToInteractive('df-8ce4269b-3232-4294-8146-448a76680e86')\"\n",
              "              title=\"Convert this dataframe to an interactive table.\"\n",
              "              style=\"display:none;\">\n",
              "        \n",
              "  <svg xmlns=\"http://www.w3.org/2000/svg\" height=\"24px\"viewBox=\"0 0 24 24\"\n",
              "       width=\"24px\">\n",
              "    <path d=\"M0 0h24v24H0V0z\" fill=\"none\"/>\n",
              "    <path d=\"M18.56 5.44l.94 2.06.94-2.06 2.06-.94-2.06-.94-.94-2.06-.94 2.06-2.06.94zm-11 1L8.5 8.5l.94-2.06 2.06-.94-2.06-.94L8.5 2.5l-.94 2.06-2.06.94zm10 10l.94 2.06.94-2.06 2.06-.94-2.06-.94-.94-2.06-.94 2.06-2.06.94z\"/><path d=\"M17.41 7.96l-1.37-1.37c-.4-.4-.92-.59-1.43-.59-.52 0-1.04.2-1.43.59L10.3 9.45l-7.72 7.72c-.78.78-.78 2.05 0 2.83L4 21.41c.39.39.9.59 1.41.59.51 0 1.02-.2 1.41-.59l7.78-7.78 2.81-2.81c.8-.78.8-2.07 0-2.86zM5.41 20L4 18.59l7.72-7.72 1.47 1.35L5.41 20z\"/>\n",
              "  </svg>\n",
              "      </button>\n",
              "      \n",
              "  <style>\n",
              "    .colab-df-container {\n",
              "      display:flex;\n",
              "      flex-wrap:wrap;\n",
              "      gap: 12px;\n",
              "    }\n",
              "\n",
              "    .colab-df-convert {\n",
              "      background-color: #E8F0FE;\n",
              "      border: none;\n",
              "      border-radius: 50%;\n",
              "      cursor: pointer;\n",
              "      display: none;\n",
              "      fill: #1967D2;\n",
              "      height: 32px;\n",
              "      padding: 0 0 0 0;\n",
              "      width: 32px;\n",
              "    }\n",
              "\n",
              "    .colab-df-convert:hover {\n",
              "      background-color: #E2EBFA;\n",
              "      box-shadow: 0px 1px 2px rgba(60, 64, 67, 0.3), 0px 1px 3px 1px rgba(60, 64, 67, 0.15);\n",
              "      fill: #174EA6;\n",
              "    }\n",
              "\n",
              "    [theme=dark] .colab-df-convert {\n",
              "      background-color: #3B4455;\n",
              "      fill: #D2E3FC;\n",
              "    }\n",
              "\n",
              "    [theme=dark] .colab-df-convert:hover {\n",
              "      background-color: #434B5C;\n",
              "      box-shadow: 0px 1px 3px 1px rgba(0, 0, 0, 0.15);\n",
              "      filter: drop-shadow(0px 1px 2px rgba(0, 0, 0, 0.3));\n",
              "      fill: #FFFFFF;\n",
              "    }\n",
              "  </style>\n",
              "\n",
              "      <script>\n",
              "        const buttonEl =\n",
              "          document.querySelector('#df-8ce4269b-3232-4294-8146-448a76680e86 button.colab-df-convert');\n",
              "        buttonEl.style.display =\n",
              "          google.colab.kernel.accessAllowed ? 'block' : 'none';\n",
              "\n",
              "        async function convertToInteractive(key) {\n",
              "          const element = document.querySelector('#df-8ce4269b-3232-4294-8146-448a76680e86');\n",
              "          const dataTable =\n",
              "            await google.colab.kernel.invokeFunction('convertToInteractive',\n",
              "                                                     [key], {});\n",
              "          if (!dataTable) return;\n",
              "\n",
              "          const docLinkHtml = 'Like what you see? Visit the ' +\n",
              "            '<a target=\"_blank\" href=https://colab.research.google.com/notebooks/data_table.ipynb>data table notebook</a>'\n",
              "            + ' to learn more about interactive tables.';\n",
              "          element.innerHTML = '';\n",
              "          dataTable['output_type'] = 'display_data';\n",
              "          await google.colab.output.renderOutput(dataTable, element);\n",
              "          const docLink = document.createElement('div');\n",
              "          docLink.innerHTML = docLinkHtml;\n",
              "          element.appendChild(docLink);\n",
              "        }\n",
              "      </script>\n",
              "    </div>\n",
              "  </div>\n",
              "  "
            ]
          },
          "metadata": {},
          "execution_count": 165
        }
      ],
      "source": [
        "change(df_i,li)"
      ],
      "id": "191bff0b"
    },
    {
      "cell_type": "code",
      "source": [
        "df_i.head()"
      ],
      "metadata": {
        "id": "9JmxkOU02c2D",
        "colab": {
          "base_uri": "https://localhost:8080/",
          "height": 322
        },
        "outputId": "6a4d9329-90f5-41e7-e1b0-28637cba10c2"
      },
      "execution_count": null,
      "outputs": [
        {
          "output_type": "execute_result",
          "data": {
            "text/plain": [
              "  Influencer_Name          Category_1 Category_2 Followers_Count  \\\n",
              "0             433  Sports with a ball        NaN           48.5M   \n",
              "1         TAEYANG               Music        NaN           12.7M   \n",
              "2   НАСТЯ ИВЛЕЕВА               Shows        NaN           18.8M   \n",
              "3             Joy           Lifestyle        NaN           13.5M   \n",
              "4         Jaehyun                 NaN        NaN           11.1M   \n",
              "\n",
              "  Audience_Country(mostly) Engagement avg\\r\\n  newFollowers_Count  \\\n",
              "0                    Spain               637K          48500000.0   \n",
              "1                Indonesia             542.3K          12700000.0   \n",
              "2                   Russia             377.9K          18800000.0   \n",
              "3                Indonesia               1.4M          13500000.0   \n",
              "4                Indonesia               3.1M          11100000.0   \n",
              "\n",
              "   newEngagement avg\\r\\n  \n",
              "0               637000.0  \n",
              "1               542300.0  \n",
              "2               377900.0  \n",
              "3              1400000.0  \n",
              "4              3100000.0  "
            ],
            "text/html": [
              "\n",
              "  <div id=\"df-6e9b95fd-5698-4ab9-9399-0c161a374c3b\">\n",
              "    <div class=\"colab-df-container\">\n",
              "      <div>\n",
              "<style scoped>\n",
              "    .dataframe tbody tr th:only-of-type {\n",
              "        vertical-align: middle;\n",
              "    }\n",
              "\n",
              "    .dataframe tbody tr th {\n",
              "        vertical-align: top;\n",
              "    }\n",
              "\n",
              "    .dataframe thead th {\n",
              "        text-align: right;\n",
              "    }\n",
              "</style>\n",
              "<table border=\"1\" class=\"dataframe\">\n",
              "  <thead>\n",
              "    <tr style=\"text-align: right;\">\n",
              "      <th></th>\n",
              "      <th>Influencer_Name</th>\n",
              "      <th>Category_1</th>\n",
              "      <th>Category_2</th>\n",
              "      <th>Followers_Count</th>\n",
              "      <th>Audience_Country(mostly)</th>\n",
              "      <th>Engagement avg\\r\\n</th>\n",
              "      <th>newFollowers_Count</th>\n",
              "      <th>newEngagement avg\\r\\n</th>\n",
              "    </tr>\n",
              "  </thead>\n",
              "  <tbody>\n",
              "    <tr>\n",
              "      <th>0</th>\n",
              "      <td>433</td>\n",
              "      <td>Sports with a ball</td>\n",
              "      <td>NaN</td>\n",
              "      <td>48.5M</td>\n",
              "      <td>Spain</td>\n",
              "      <td>637K</td>\n",
              "      <td>48500000.0</td>\n",
              "      <td>637000.0</td>\n",
              "    </tr>\n",
              "    <tr>\n",
              "      <th>1</th>\n",
              "      <td>TAEYANG</td>\n",
              "      <td>Music</td>\n",
              "      <td>NaN</td>\n",
              "      <td>12.7M</td>\n",
              "      <td>Indonesia</td>\n",
              "      <td>542.3K</td>\n",
              "      <td>12700000.0</td>\n",
              "      <td>542300.0</td>\n",
              "    </tr>\n",
              "    <tr>\n",
              "      <th>2</th>\n",
              "      <td>НАСТЯ ИВЛЕЕВА</td>\n",
              "      <td>Shows</td>\n",
              "      <td>NaN</td>\n",
              "      <td>18.8M</td>\n",
              "      <td>Russia</td>\n",
              "      <td>377.9K</td>\n",
              "      <td>18800000.0</td>\n",
              "      <td>377900.0</td>\n",
              "    </tr>\n",
              "    <tr>\n",
              "      <th>3</th>\n",
              "      <td>Joy</td>\n",
              "      <td>Lifestyle</td>\n",
              "      <td>NaN</td>\n",
              "      <td>13.5M</td>\n",
              "      <td>Indonesia</td>\n",
              "      <td>1.4M</td>\n",
              "      <td>13500000.0</td>\n",
              "      <td>1400000.0</td>\n",
              "    </tr>\n",
              "    <tr>\n",
              "      <th>4</th>\n",
              "      <td>Jaehyun</td>\n",
              "      <td>NaN</td>\n",
              "      <td>NaN</td>\n",
              "      <td>11.1M</td>\n",
              "      <td>Indonesia</td>\n",
              "      <td>3.1M</td>\n",
              "      <td>11100000.0</td>\n",
              "      <td>3100000.0</td>\n",
              "    </tr>\n",
              "  </tbody>\n",
              "</table>\n",
              "</div>\n",
              "      <button class=\"colab-df-convert\" onclick=\"convertToInteractive('df-6e9b95fd-5698-4ab9-9399-0c161a374c3b')\"\n",
              "              title=\"Convert this dataframe to an interactive table.\"\n",
              "              style=\"display:none;\">\n",
              "        \n",
              "  <svg xmlns=\"http://www.w3.org/2000/svg\" height=\"24px\"viewBox=\"0 0 24 24\"\n",
              "       width=\"24px\">\n",
              "    <path d=\"M0 0h24v24H0V0z\" fill=\"none\"/>\n",
              "    <path d=\"M18.56 5.44l.94 2.06.94-2.06 2.06-.94-2.06-.94-.94-2.06-.94 2.06-2.06.94zm-11 1L8.5 8.5l.94-2.06 2.06-.94-2.06-.94L8.5 2.5l-.94 2.06-2.06.94zm10 10l.94 2.06.94-2.06 2.06-.94-2.06-.94-.94-2.06-.94 2.06-2.06.94z\"/><path d=\"M17.41 7.96l-1.37-1.37c-.4-.4-.92-.59-1.43-.59-.52 0-1.04.2-1.43.59L10.3 9.45l-7.72 7.72c-.78.78-.78 2.05 0 2.83L4 21.41c.39.39.9.59 1.41.59.51 0 1.02-.2 1.41-.59l7.78-7.78 2.81-2.81c.8-.78.8-2.07 0-2.86zM5.41 20L4 18.59l7.72-7.72 1.47 1.35L5.41 20z\"/>\n",
              "  </svg>\n",
              "      </button>\n",
              "      \n",
              "  <style>\n",
              "    .colab-df-container {\n",
              "      display:flex;\n",
              "      flex-wrap:wrap;\n",
              "      gap: 12px;\n",
              "    }\n",
              "\n",
              "    .colab-df-convert {\n",
              "      background-color: #E8F0FE;\n",
              "      border: none;\n",
              "      border-radius: 50%;\n",
              "      cursor: pointer;\n",
              "      display: none;\n",
              "      fill: #1967D2;\n",
              "      height: 32px;\n",
              "      padding: 0 0 0 0;\n",
              "      width: 32px;\n",
              "    }\n",
              "\n",
              "    .colab-df-convert:hover {\n",
              "      background-color: #E2EBFA;\n",
              "      box-shadow: 0px 1px 2px rgba(60, 64, 67, 0.3), 0px 1px 3px 1px rgba(60, 64, 67, 0.15);\n",
              "      fill: #174EA6;\n",
              "    }\n",
              "\n",
              "    [theme=dark] .colab-df-convert {\n",
              "      background-color: #3B4455;\n",
              "      fill: #D2E3FC;\n",
              "    }\n",
              "\n",
              "    [theme=dark] .colab-df-convert:hover {\n",
              "      background-color: #434B5C;\n",
              "      box-shadow: 0px 1px 3px 1px rgba(0, 0, 0, 0.15);\n",
              "      filter: drop-shadow(0px 1px 2px rgba(0, 0, 0, 0.3));\n",
              "      fill: #FFFFFF;\n",
              "    }\n",
              "  </style>\n",
              "\n",
              "      <script>\n",
              "        const buttonEl =\n",
              "          document.querySelector('#df-6e9b95fd-5698-4ab9-9399-0c161a374c3b button.colab-df-convert');\n",
              "        buttonEl.style.display =\n",
              "          google.colab.kernel.accessAllowed ? 'block' : 'none';\n",
              "\n",
              "        async function convertToInteractive(key) {\n",
              "          const element = document.querySelector('#df-6e9b95fd-5698-4ab9-9399-0c161a374c3b');\n",
              "          const dataTable =\n",
              "            await google.colab.kernel.invokeFunction('convertToInteractive',\n",
              "                                                     [key], {});\n",
              "          if (!dataTable) return;\n",
              "\n",
              "          const docLinkHtml = 'Like what you see? Visit the ' +\n",
              "            '<a target=\"_blank\" href=https://colab.research.google.com/notebooks/data_table.ipynb>data table notebook</a>'\n",
              "            + ' to learn more about interactive tables.';\n",
              "          element.innerHTML = '';\n",
              "          dataTable['output_type'] = 'display_data';\n",
              "          await google.colab.output.renderOutput(dataTable, element);\n",
              "          const docLink = document.createElement('div');\n",
              "          docLink.innerHTML = docLinkHtml;\n",
              "          element.appendChild(docLink);\n",
              "        }\n",
              "      </script>\n",
              "    </div>\n",
              "  </div>\n",
              "  "
            ]
          },
          "metadata": {},
          "execution_count": 166
        }
      ],
      "id": "9JmxkOU02c2D"
    },
    {
      "cell_type": "code",
      "source": [],
      "metadata": {
        "id": "GoxC-X-EFlbH"
      },
      "execution_count": null,
      "outputs": [],
      "id": "GoxC-X-EFlbH"
    },
    {
      "cell_type": "markdown",
      "metadata": {
        "papermill": {
          "duration": 0.071849,
          "end_time": "2022-04-23T06:31:06.510432",
          "exception": false,
          "start_time": "2022-04-23T06:31:06.438583",
          "status": "completed"
        },
        "tags": [],
        "id": "9615fa2a"
      },
      "source": [
        "##### Engagement Rate formula:\n",
        "    ER=(Engagement Average/total Followers)*100"
      ],
      "id": "9615fa2a"
    },
    {
      "cell_type": "code",
      "source": [],
      "metadata": {
        "id": "B_NptmRsFlbH"
      },
      "execution_count": null,
      "outputs": [],
      "id": "B_NptmRsFlbH"
    },
    {
      "cell_type": "code",
      "execution_count": null,
      "metadata": {
        "execution": {
          "iopub.execute_input": "2022-04-23T06:31:06.659150Z",
          "iopub.status.busy": "2022-04-23T06:31:06.658633Z",
          "iopub.status.idle": "2022-04-23T06:31:06.663501Z",
          "shell.execute_reply": "2022-04-23T06:31:06.662788Z"
        },
        "papermill": {
          "duration": 0.079876,
          "end_time": "2022-04-23T06:31:06.665267",
          "exception": false,
          "start_time": "2022-04-23T06:31:06.585391",
          "status": "completed"
        },
        "tags": [],
        "id": "2c9925b3"
      },
      "outputs": [],
      "source": [
        "df_i['Engagement Rate']=np.round((df_i['newEngagement avg\\r\\n']/df_i['newFollowers_Count'])*100,3)"
      ],
      "id": "2c9925b3"
    },
    {
      "cell_type": "code",
      "execution_count": null,
      "metadata": {
        "execution": {
          "iopub.execute_input": "2022-04-23T06:31:06.813601Z",
          "iopub.status.busy": "2022-04-23T06:31:06.813039Z",
          "iopub.status.idle": "2022-04-23T06:31:06.819360Z",
          "shell.execute_reply": "2022-04-23T06:31:06.818257Z"
        },
        "papermill": {
          "duration": 0.083365,
          "end_time": "2022-04-23T06:31:06.821147",
          "exception": false,
          "start_time": "2022-04-23T06:31:06.737782",
          "status": "completed"
        },
        "tags": [],
        "id": "47dcdd8d",
        "colab": {
          "base_uri": "https://localhost:8080/"
        },
        "outputId": "ccb6ed4d-eee5-4876-d19a-f5af2b109ec3"
      },
      "outputs": [
        {
          "output_type": "stream",
          "name": "stdout",
          "text": [
            "['M']\n"
          ]
        }
      ],
      "source": [
        "print(df_i['Followers_Count'].str[-1].unique())"
      ],
      "id": "47dcdd8d"
    },
    {
      "cell_type": "code",
      "execution_count": null,
      "metadata": {
        "execution": {
          "iopub.execute_input": "2022-04-23T06:31:06.971606Z",
          "iopub.status.busy": "2022-04-23T06:31:06.970790Z",
          "iopub.status.idle": "2022-04-23T06:31:06.975655Z",
          "shell.execute_reply": "2022-04-23T06:31:06.975057Z"
        },
        "papermill": {
          "duration": 0.082387,
          "end_time": "2022-04-23T06:31:06.977423",
          "exception": false,
          "start_time": "2022-04-23T06:31:06.895036",
          "status": "completed"
        },
        "tags": [],
        "id": "afb2edda"
      },
      "outputs": [],
      "source": [
        "# for convenice \n",
        "df_i['newFollowers_Count']=df_i['newFollowers_Count']/1000000"
      ],
      "id": "afb2edda"
    },
    {
      "cell_type": "code",
      "execution_count": null,
      "metadata": {
        "execution": {
          "iopub.execute_input": "2022-04-23T06:31:07.126394Z",
          "iopub.status.busy": "2022-04-23T06:31:07.125520Z",
          "iopub.status.idle": "2022-04-23T06:31:07.131232Z",
          "shell.execute_reply": "2022-04-23T06:31:07.130666Z"
        },
        "papermill": {
          "duration": 0.081847,
          "end_time": "2022-04-23T06:31:07.132961",
          "exception": false,
          "start_time": "2022-04-23T06:31:07.051114",
          "status": "completed"
        },
        "tags": [],
        "id": "78e97038"
      },
      "outputs": [],
      "source": [
        "df_i.drop(labels=['Engagement avg\\r\\n','newEngagement avg\\r\\n'],axis=1,inplace=True)"
      ],
      "id": "78e97038"
    },
    {
      "cell_type": "code",
      "execution_count": null,
      "metadata": {
        "execution": {
          "iopub.execute_input": "2022-04-23T06:31:07.279557Z",
          "iopub.status.busy": "2022-04-23T06:31:07.278669Z",
          "iopub.status.idle": "2022-04-23T06:31:07.291399Z",
          "shell.execute_reply": "2022-04-23T06:31:07.290517Z"
        },
        "papermill": {
          "duration": 0.087939,
          "end_time": "2022-04-23T06:31:07.293251",
          "exception": false,
          "start_time": "2022-04-23T06:31:07.205312",
          "status": "completed"
        },
        "tags": [],
        "id": "2889b7a9",
        "colab": {
          "base_uri": "https://localhost:8080/",
          "height": 206
        },
        "outputId": "d7fe720c-c9fe-49ed-8d30-7e4b85f254c1"
      },
      "outputs": [
        {
          "output_type": "execute_result",
          "data": {
            "text/plain": [
              "  Influencer_Name          Category_1 Category_2 Followers_Count  \\\n",
              "0             433  Sports with a ball        NaN           48.5M   \n",
              "1         TAEYANG               Music        NaN           12.7M   \n",
              "2   НАСТЯ ИВЛЕЕВА               Shows        NaN           18.8M   \n",
              "3             Joy           Lifestyle        NaN           13.5M   \n",
              "4         Jaehyun                 NaN        NaN           11.1M   \n",
              "\n",
              "  Audience_Country(mostly)  newFollowers_Count  Engagement Rate  \n",
              "0                    Spain                48.5            1.313  \n",
              "1                Indonesia                12.7            4.270  \n",
              "2                   Russia                18.8            2.010  \n",
              "3                Indonesia                13.5           10.370  \n",
              "4                Indonesia                11.1           27.928  "
            ],
            "text/html": [
              "\n",
              "  <div id=\"df-fb8ece87-8ee7-45e6-a16d-6116093ffcb6\">\n",
              "    <div class=\"colab-df-container\">\n",
              "      <div>\n",
              "<style scoped>\n",
              "    .dataframe tbody tr th:only-of-type {\n",
              "        vertical-align: middle;\n",
              "    }\n",
              "\n",
              "    .dataframe tbody tr th {\n",
              "        vertical-align: top;\n",
              "    }\n",
              "\n",
              "    .dataframe thead th {\n",
              "        text-align: right;\n",
              "    }\n",
              "</style>\n",
              "<table border=\"1\" class=\"dataframe\">\n",
              "  <thead>\n",
              "    <tr style=\"text-align: right;\">\n",
              "      <th></th>\n",
              "      <th>Influencer_Name</th>\n",
              "      <th>Category_1</th>\n",
              "      <th>Category_2</th>\n",
              "      <th>Followers_Count</th>\n",
              "      <th>Audience_Country(mostly)</th>\n",
              "      <th>newFollowers_Count</th>\n",
              "      <th>Engagement Rate</th>\n",
              "    </tr>\n",
              "  </thead>\n",
              "  <tbody>\n",
              "    <tr>\n",
              "      <th>0</th>\n",
              "      <td>433</td>\n",
              "      <td>Sports with a ball</td>\n",
              "      <td>NaN</td>\n",
              "      <td>48.5M</td>\n",
              "      <td>Spain</td>\n",
              "      <td>48.5</td>\n",
              "      <td>1.313</td>\n",
              "    </tr>\n",
              "    <tr>\n",
              "      <th>1</th>\n",
              "      <td>TAEYANG</td>\n",
              "      <td>Music</td>\n",
              "      <td>NaN</td>\n",
              "      <td>12.7M</td>\n",
              "      <td>Indonesia</td>\n",
              "      <td>12.7</td>\n",
              "      <td>4.270</td>\n",
              "    </tr>\n",
              "    <tr>\n",
              "      <th>2</th>\n",
              "      <td>НАСТЯ ИВЛЕЕВА</td>\n",
              "      <td>Shows</td>\n",
              "      <td>NaN</td>\n",
              "      <td>18.8M</td>\n",
              "      <td>Russia</td>\n",
              "      <td>18.8</td>\n",
              "      <td>2.010</td>\n",
              "    </tr>\n",
              "    <tr>\n",
              "      <th>3</th>\n",
              "      <td>Joy</td>\n",
              "      <td>Lifestyle</td>\n",
              "      <td>NaN</td>\n",
              "      <td>13.5M</td>\n",
              "      <td>Indonesia</td>\n",
              "      <td>13.5</td>\n",
              "      <td>10.370</td>\n",
              "    </tr>\n",
              "    <tr>\n",
              "      <th>4</th>\n",
              "      <td>Jaehyun</td>\n",
              "      <td>NaN</td>\n",
              "      <td>NaN</td>\n",
              "      <td>11.1M</td>\n",
              "      <td>Indonesia</td>\n",
              "      <td>11.1</td>\n",
              "      <td>27.928</td>\n",
              "    </tr>\n",
              "  </tbody>\n",
              "</table>\n",
              "</div>\n",
              "      <button class=\"colab-df-convert\" onclick=\"convertToInteractive('df-fb8ece87-8ee7-45e6-a16d-6116093ffcb6')\"\n",
              "              title=\"Convert this dataframe to an interactive table.\"\n",
              "              style=\"display:none;\">\n",
              "        \n",
              "  <svg xmlns=\"http://www.w3.org/2000/svg\" height=\"24px\"viewBox=\"0 0 24 24\"\n",
              "       width=\"24px\">\n",
              "    <path d=\"M0 0h24v24H0V0z\" fill=\"none\"/>\n",
              "    <path d=\"M18.56 5.44l.94 2.06.94-2.06 2.06-.94-2.06-.94-.94-2.06-.94 2.06-2.06.94zm-11 1L8.5 8.5l.94-2.06 2.06-.94-2.06-.94L8.5 2.5l-.94 2.06-2.06.94zm10 10l.94 2.06.94-2.06 2.06-.94-2.06-.94-.94-2.06-.94 2.06-2.06.94z\"/><path d=\"M17.41 7.96l-1.37-1.37c-.4-.4-.92-.59-1.43-.59-.52 0-1.04.2-1.43.59L10.3 9.45l-7.72 7.72c-.78.78-.78 2.05 0 2.83L4 21.41c.39.39.9.59 1.41.59.51 0 1.02-.2 1.41-.59l7.78-7.78 2.81-2.81c.8-.78.8-2.07 0-2.86zM5.41 20L4 18.59l7.72-7.72 1.47 1.35L5.41 20z\"/>\n",
              "  </svg>\n",
              "      </button>\n",
              "      \n",
              "  <style>\n",
              "    .colab-df-container {\n",
              "      display:flex;\n",
              "      flex-wrap:wrap;\n",
              "      gap: 12px;\n",
              "    }\n",
              "\n",
              "    .colab-df-convert {\n",
              "      background-color: #E8F0FE;\n",
              "      border: none;\n",
              "      border-radius: 50%;\n",
              "      cursor: pointer;\n",
              "      display: none;\n",
              "      fill: #1967D2;\n",
              "      height: 32px;\n",
              "      padding: 0 0 0 0;\n",
              "      width: 32px;\n",
              "    }\n",
              "\n",
              "    .colab-df-convert:hover {\n",
              "      background-color: #E2EBFA;\n",
              "      box-shadow: 0px 1px 2px rgba(60, 64, 67, 0.3), 0px 1px 3px 1px rgba(60, 64, 67, 0.15);\n",
              "      fill: #174EA6;\n",
              "    }\n",
              "\n",
              "    [theme=dark] .colab-df-convert {\n",
              "      background-color: #3B4455;\n",
              "      fill: #D2E3FC;\n",
              "    }\n",
              "\n",
              "    [theme=dark] .colab-df-convert:hover {\n",
              "      background-color: #434B5C;\n",
              "      box-shadow: 0px 1px 3px 1px rgba(0, 0, 0, 0.15);\n",
              "      filter: drop-shadow(0px 1px 2px rgba(0, 0, 0, 0.3));\n",
              "      fill: #FFFFFF;\n",
              "    }\n",
              "  </style>\n",
              "\n",
              "      <script>\n",
              "        const buttonEl =\n",
              "          document.querySelector('#df-fb8ece87-8ee7-45e6-a16d-6116093ffcb6 button.colab-df-convert');\n",
              "        buttonEl.style.display =\n",
              "          google.colab.kernel.accessAllowed ? 'block' : 'none';\n",
              "\n",
              "        async function convertToInteractive(key) {\n",
              "          const element = document.querySelector('#df-fb8ece87-8ee7-45e6-a16d-6116093ffcb6');\n",
              "          const dataTable =\n",
              "            await google.colab.kernel.invokeFunction('convertToInteractive',\n",
              "                                                     [key], {});\n",
              "          if (!dataTable) return;\n",
              "\n",
              "          const docLinkHtml = 'Like what you see? Visit the ' +\n",
              "            '<a target=\"_blank\" href=https://colab.research.google.com/notebooks/data_table.ipynb>data table notebook</a>'\n",
              "            + ' to learn more about interactive tables.';\n",
              "          element.innerHTML = '';\n",
              "          dataTable['output_type'] = 'display_data';\n",
              "          await google.colab.output.renderOutput(dataTable, element);\n",
              "          const docLink = document.createElement('div');\n",
              "          docLink.innerHTML = docLinkHtml;\n",
              "          element.appendChild(docLink);\n",
              "        }\n",
              "      </script>\n",
              "    </div>\n",
              "  </div>\n",
              "  "
            ]
          },
          "metadata": {},
          "execution_count": 171
        }
      ],
      "source": [
        "df_i.head(5)"
      ],
      "id": "2889b7a9"
    },
    {
      "cell_type": "markdown",
      "metadata": {
        "papermill": {
          "duration": 0.072955,
          "end_time": "2022-04-23T06:31:07.440132",
          "exception": false,
          "start_time": "2022-04-23T06:31:07.367177",
          "status": "completed"
        },
        "tags": [],
        "id": "e9b59b81"
      },
      "source": [
        "# TOP 15 most followed celebrity on  instagram"
      ],
      "id": "e9b59b81"
    },
    {
      "cell_type": "code",
      "execution_count": null,
      "metadata": {
        "execution": {
          "iopub.execute_input": "2022-04-23T06:31:07.588945Z",
          "iopub.status.busy": "2022-04-23T06:31:07.588189Z",
          "iopub.status.idle": "2022-04-23T06:31:07.600441Z",
          "shell.execute_reply": "2022-04-23T06:31:07.599870Z"
        },
        "papermill": {
          "duration": 0.088204,
          "end_time": "2022-04-23T06:31:07.602210",
          "exception": false,
          "start_time": "2022-04-23T06:31:07.514006",
          "status": "completed"
        },
        "tags": [],
        "id": "c90bed84",
        "colab": {
          "base_uri": "https://localhost:8080/",
          "height": 520
        },
        "outputId": "b8d9a808-61df-4c32-fbbe-5f43a3bf5469"
      },
      "outputs": [
        {
          "output_type": "execute_result",
          "data": {
            "text/plain": [
              "        Influencer_Name                 Category_1 Followers_Count  \\\n",
              "0             Instagram                Photography          487.2M   \n",
              "1     Cristiano Ronaldo         Sports with a ball          419.6M   \n",
              "2               Kylie 🤍                    Fashion          323.3M   \n",
              "3             Leo Messi         Sports with a ball          315.4M   \n",
              "4          Selena Gomez                      Music          308.2M   \n",
              "5               therock  Cinema & Actors/actresses            307M   \n",
              "6         Ariana Grande                      Music          302.3M   \n",
              "7        Kim Kardashian                    Fashion          296.4M   \n",
              "8              Beyoncé                      Music          246.9M   \n",
              "9     Khloé Kardashian         Clothing & Outfits          230.2M   \n",
              "10        Justin Bieber                      Music          227.4M   \n",
              "11              Kendall                   Modeling          227.4M   \n",
              "12        Justin Bieber                      Music            227M   \n",
              "13  National Geographic        Nature & landscapes          214.6M   \n",
              "14                 Nike              Fitness & Gym          208.9M   \n",
              "\n",
              "    Engagement Rate  \n",
              "0             0.096  \n",
              "1             1.668  \n",
              "2             3.805  \n",
              "3             1.680  \n",
              "4             1.428  \n",
              "5             0.129  \n",
              "6             1.356  \n",
              "7             0.978  \n",
              "8             1.499  \n",
              "9             0.521  \n",
              "10            0.196  \n",
              "11            2.419  \n",
              "12            0.281  \n",
              "13            0.068  \n",
              "14            0.084  "
            ],
            "text/html": [
              "\n",
              "  <div id=\"df-6bc883e4-eee7-435f-8d8f-e6305d54b8ba\">\n",
              "    <div class=\"colab-df-container\">\n",
              "      <div>\n",
              "<style scoped>\n",
              "    .dataframe tbody tr th:only-of-type {\n",
              "        vertical-align: middle;\n",
              "    }\n",
              "\n",
              "    .dataframe tbody tr th {\n",
              "        vertical-align: top;\n",
              "    }\n",
              "\n",
              "    .dataframe thead th {\n",
              "        text-align: right;\n",
              "    }\n",
              "</style>\n",
              "<table border=\"1\" class=\"dataframe\">\n",
              "  <thead>\n",
              "    <tr style=\"text-align: right;\">\n",
              "      <th></th>\n",
              "      <th>Influencer_Name</th>\n",
              "      <th>Category_1</th>\n",
              "      <th>Followers_Count</th>\n",
              "      <th>Engagement Rate</th>\n",
              "    </tr>\n",
              "  </thead>\n",
              "  <tbody>\n",
              "    <tr>\n",
              "      <th>0</th>\n",
              "      <td>Instagram</td>\n",
              "      <td>Photography</td>\n",
              "      <td>487.2M</td>\n",
              "      <td>0.096</td>\n",
              "    </tr>\n",
              "    <tr>\n",
              "      <th>1</th>\n",
              "      <td>Cristiano Ronaldo</td>\n",
              "      <td>Sports with a ball</td>\n",
              "      <td>419.6M</td>\n",
              "      <td>1.668</td>\n",
              "    </tr>\n",
              "    <tr>\n",
              "      <th>2</th>\n",
              "      <td>Kylie 🤍</td>\n",
              "      <td>Fashion</td>\n",
              "      <td>323.3M</td>\n",
              "      <td>3.805</td>\n",
              "    </tr>\n",
              "    <tr>\n",
              "      <th>3</th>\n",
              "      <td>Leo Messi</td>\n",
              "      <td>Sports with a ball</td>\n",
              "      <td>315.4M</td>\n",
              "      <td>1.680</td>\n",
              "    </tr>\n",
              "    <tr>\n",
              "      <th>4</th>\n",
              "      <td>Selena Gomez</td>\n",
              "      <td>Music</td>\n",
              "      <td>308.2M</td>\n",
              "      <td>1.428</td>\n",
              "    </tr>\n",
              "    <tr>\n",
              "      <th>5</th>\n",
              "      <td>therock</td>\n",
              "      <td>Cinema &amp; Actors/actresses</td>\n",
              "      <td>307M</td>\n",
              "      <td>0.129</td>\n",
              "    </tr>\n",
              "    <tr>\n",
              "      <th>6</th>\n",
              "      <td>Ariana Grande</td>\n",
              "      <td>Music</td>\n",
              "      <td>302.3M</td>\n",
              "      <td>1.356</td>\n",
              "    </tr>\n",
              "    <tr>\n",
              "      <th>7</th>\n",
              "      <td>Kim Kardashian</td>\n",
              "      <td>Fashion</td>\n",
              "      <td>296.4M</td>\n",
              "      <td>0.978</td>\n",
              "    </tr>\n",
              "    <tr>\n",
              "      <th>8</th>\n",
              "      <td>Beyoncé</td>\n",
              "      <td>Music</td>\n",
              "      <td>246.9M</td>\n",
              "      <td>1.499</td>\n",
              "    </tr>\n",
              "    <tr>\n",
              "      <th>9</th>\n",
              "      <td>Khloé Kardashian</td>\n",
              "      <td>Clothing &amp; Outfits</td>\n",
              "      <td>230.2M</td>\n",
              "      <td>0.521</td>\n",
              "    </tr>\n",
              "    <tr>\n",
              "      <th>10</th>\n",
              "      <td>Justin Bieber</td>\n",
              "      <td>Music</td>\n",
              "      <td>227.4M</td>\n",
              "      <td>0.196</td>\n",
              "    </tr>\n",
              "    <tr>\n",
              "      <th>11</th>\n",
              "      <td>Kendall</td>\n",
              "      <td>Modeling</td>\n",
              "      <td>227.4M</td>\n",
              "      <td>2.419</td>\n",
              "    </tr>\n",
              "    <tr>\n",
              "      <th>12</th>\n",
              "      <td>Justin Bieber</td>\n",
              "      <td>Music</td>\n",
              "      <td>227M</td>\n",
              "      <td>0.281</td>\n",
              "    </tr>\n",
              "    <tr>\n",
              "      <th>13</th>\n",
              "      <td>National Geographic</td>\n",
              "      <td>Nature &amp; landscapes</td>\n",
              "      <td>214.6M</td>\n",
              "      <td>0.068</td>\n",
              "    </tr>\n",
              "    <tr>\n",
              "      <th>14</th>\n",
              "      <td>Nike</td>\n",
              "      <td>Fitness &amp; Gym</td>\n",
              "      <td>208.9M</td>\n",
              "      <td>0.084</td>\n",
              "    </tr>\n",
              "  </tbody>\n",
              "</table>\n",
              "</div>\n",
              "      <button class=\"colab-df-convert\" onclick=\"convertToInteractive('df-6bc883e4-eee7-435f-8d8f-e6305d54b8ba')\"\n",
              "              title=\"Convert this dataframe to an interactive table.\"\n",
              "              style=\"display:none;\">\n",
              "        \n",
              "  <svg xmlns=\"http://www.w3.org/2000/svg\" height=\"24px\"viewBox=\"0 0 24 24\"\n",
              "       width=\"24px\">\n",
              "    <path d=\"M0 0h24v24H0V0z\" fill=\"none\"/>\n",
              "    <path d=\"M18.56 5.44l.94 2.06.94-2.06 2.06-.94-2.06-.94-.94-2.06-.94 2.06-2.06.94zm-11 1L8.5 8.5l.94-2.06 2.06-.94-2.06-.94L8.5 2.5l-.94 2.06-2.06.94zm10 10l.94 2.06.94-2.06 2.06-.94-2.06-.94-.94-2.06-.94 2.06-2.06.94z\"/><path d=\"M17.41 7.96l-1.37-1.37c-.4-.4-.92-.59-1.43-.59-.52 0-1.04.2-1.43.59L10.3 9.45l-7.72 7.72c-.78.78-.78 2.05 0 2.83L4 21.41c.39.39.9.59 1.41.59.51 0 1.02-.2 1.41-.59l7.78-7.78 2.81-2.81c.8-.78.8-2.07 0-2.86zM5.41 20L4 18.59l7.72-7.72 1.47 1.35L5.41 20z\"/>\n",
              "  </svg>\n",
              "      </button>\n",
              "      \n",
              "  <style>\n",
              "    .colab-df-container {\n",
              "      display:flex;\n",
              "      flex-wrap:wrap;\n",
              "      gap: 12px;\n",
              "    }\n",
              "\n",
              "    .colab-df-convert {\n",
              "      background-color: #E8F0FE;\n",
              "      border: none;\n",
              "      border-radius: 50%;\n",
              "      cursor: pointer;\n",
              "      display: none;\n",
              "      fill: #1967D2;\n",
              "      height: 32px;\n",
              "      padding: 0 0 0 0;\n",
              "      width: 32px;\n",
              "    }\n",
              "\n",
              "    .colab-df-convert:hover {\n",
              "      background-color: #E2EBFA;\n",
              "      box-shadow: 0px 1px 2px rgba(60, 64, 67, 0.3), 0px 1px 3px 1px rgba(60, 64, 67, 0.15);\n",
              "      fill: #174EA6;\n",
              "    }\n",
              "\n",
              "    [theme=dark] .colab-df-convert {\n",
              "      background-color: #3B4455;\n",
              "      fill: #D2E3FC;\n",
              "    }\n",
              "\n",
              "    [theme=dark] .colab-df-convert:hover {\n",
              "      background-color: #434B5C;\n",
              "      box-shadow: 0px 1px 3px 1px rgba(0, 0, 0, 0.15);\n",
              "      filter: drop-shadow(0px 1px 2px rgba(0, 0, 0, 0.3));\n",
              "      fill: #FFFFFF;\n",
              "    }\n",
              "  </style>\n",
              "\n",
              "      <script>\n",
              "        const buttonEl =\n",
              "          document.querySelector('#df-6bc883e4-eee7-435f-8d8f-e6305d54b8ba button.colab-df-convert');\n",
              "        buttonEl.style.display =\n",
              "          google.colab.kernel.accessAllowed ? 'block' : 'none';\n",
              "\n",
              "        async function convertToInteractive(key) {\n",
              "          const element = document.querySelector('#df-6bc883e4-eee7-435f-8d8f-e6305d54b8ba');\n",
              "          const dataTable =\n",
              "            await google.colab.kernel.invokeFunction('convertToInteractive',\n",
              "                                                     [key], {});\n",
              "          if (!dataTable) return;\n",
              "\n",
              "          const docLinkHtml = 'Like what you see? Visit the ' +\n",
              "            '<a target=\"_blank\" href=https://colab.research.google.com/notebooks/data_table.ipynb>data table notebook</a>'\n",
              "            + ' to learn more about interactive tables.';\n",
              "          element.innerHTML = '';\n",
              "          dataTable['output_type'] = 'display_data';\n",
              "          await google.colab.output.renderOutput(dataTable, element);\n",
              "          const docLink = document.createElement('div');\n",
              "          docLink.innerHTML = docLinkHtml;\n",
              "          element.appendChild(docLink);\n",
              "        }\n",
              "      </script>\n",
              "    </div>\n",
              "  </div>\n",
              "  "
            ]
          },
          "metadata": {},
          "execution_count": 172
        }
      ],
      "source": [
        "df_i.sort_values(by='newFollowers_Count',ascending=False,ignore_index=True).iloc[0:15,[0,1,3,-1]]"
      ],
      "id": "c90bed84"
    },
    {
      "cell_type": "code",
      "execution_count": null,
      "metadata": {
        "execution": {
          "iopub.execute_input": "2022-04-23T06:31:07.751444Z",
          "iopub.status.busy": "2022-04-23T06:31:07.751186Z",
          "iopub.status.idle": "2022-04-23T06:31:08.022230Z",
          "shell.execute_reply": "2022-04-23T06:31:08.021194Z"
        },
        "papermill": {
          "duration": 0.349097,
          "end_time": "2022-04-23T06:31:08.025302",
          "exception": false,
          "start_time": "2022-04-23T06:31:07.676205",
          "status": "completed"
        },
        "tags": [],
        "id": "8db17158",
        "colab": {
          "base_uri": "https://localhost:8080/",
          "height": 581
        },
        "outputId": "5436405c-f9b7-4314-fb2d-5e1accee0ccc"
      },
      "outputs": [
        {
          "output_type": "execute_result",
          "data": {
            "text/plain": [
              "<Axes: title={'center': 'Top 15 most followed celebrity on instagram'}, xlabel='newFollowers_Count', ylabel='Influencer_Name'>"
            ]
          },
          "metadata": {},
          "execution_count": 173
        },
        {
          "output_type": "stream",
          "name": "stderr",
          "text": [
            "/usr/local/lib/python3.10/dist-packages/IPython/core/events.py:89: UserWarning: Glyph 129293 (\\N{WHITE HEART}) missing from current font.\n",
            "  func(*args, **kwargs)\n",
            "/usr/local/lib/python3.10/dist-packages/IPython/core/pylabtools.py:151: UserWarning: Glyph 129293 (\\N{WHITE HEART}) missing from current font.\n",
            "  fig.canvas.print_figure(bytes_io, **kw)\n"
          ]
        },
        {
          "output_type": "display_data",
          "data": {
            "text/plain": [
              "<Figure size 640x480 with 1 Axes>"
            ],
            "image/png": "[encoded data removed]"
          },
          "metadata": {}
        }
      ],
      "source": [
        "plt.title('Top 15 most followed celebrity on instagram')\n",
        "plt.xlabel('Followers in Million')\n",
        "sns.barplot(y='Influencer_Name',x='newFollowers_Count',data=df_i.sort_values(by='newFollowers_Count',ascending=False).head(15))"
      ],
      "id": "8db17158"
    },
    {
      "cell_type": "code",
      "execution_count": null,
      "metadata": {
        "execution": {
          "iopub.execute_input": "2022-04-23T06:31:08.180392Z",
          "iopub.status.busy": "2022-04-23T06:31:08.180011Z",
          "iopub.status.idle": "2022-04-23T06:31:08.183912Z",
          "shell.execute_reply": "2022-04-23T06:31:08.183303Z"
        },
        "papermill": {
          "duration": 0.082254,
          "end_time": "2022-04-23T06:31:08.185571",
          "exception": false,
          "start_time": "2022-04-23T06:31:08.103317",
          "status": "completed"
        },
        "tags": [],
        "id": "1efcdb88"
      },
      "outputs": [],
      "source": [
        "pallete=['red','green','yellow','salmon','cyan','blue','orange']"
      ],
      "id": "1efcdb88"
    },
    {
      "cell_type": "code",
      "execution_count": null,
      "metadata": {
        "execution": {
          "iopub.execute_input": "2022-04-23T06:31:08.338772Z",
          "iopub.status.busy": "2022-04-23T06:31:08.338483Z",
          "iopub.status.idle": "2022-04-23T06:31:08.343213Z",
          "shell.execute_reply": "2022-04-23T06:31:08.342361Z"
        },
        "papermill": {
          "duration": 0.083439,
          "end_time": "2022-04-23T06:31:08.344930",
          "exception": false,
          "start_time": "2022-04-23T06:31:08.261491",
          "status": "completed"
        },
        "tags": [],
        "id": "6d4b28a1"
      },
      "outputs": [],
      "source": [
        "def plot(df):\n",
        "    plt.figure(figsize=(8,6))\n",
        "    plt.xlabel('number of times category occured')\n",
        "    plt.ylabel('Category')\n",
        "    df['Category_1'].value_counts().sort_values(ascending=True).plot.barh(color=pallete)"
      ],
      "id": "6d4b28a1"
    },
    {
      "cell_type": "markdown",
      "metadata": {
        "papermill": {
          "duration": 0.075411,
          "end_time": "2022-04-23T06:31:08.496579",
          "exception": false,
          "start_time": "2022-04-23T06:31:08.421168",
          "status": "completed"
        },
        "tags": [],
        "id": "62d9ea06"
      },
      "source": [
        "## TOP  categories followed on instagram(POPULAR CATEGORIES  ON INSTAGRAM)"
      ],
      "id": "62d9ea06"
    },
    {
      "cell_type": "code",
      "execution_count": null,
      "metadata": {
        "execution": {
          "iopub.execute_input": "2022-04-23T06:31:08.649900Z",
          "iopub.status.busy": "2022-04-23T06:31:08.649473Z",
          "iopub.status.idle": "2022-04-23T06:31:08.977111Z",
          "shell.execute_reply": "2022-04-23T06:31:08.976091Z"
        },
        "papermill": {
          "duration": 0.406874,
          "end_time": "2022-04-23T06:31:08.979404",
          "exception": false,
          "start_time": "2022-04-23T06:31:08.572530",
          "status": "completed"
        },
        "tags": [],
        "id": "4c147231",
        "colab": {
          "base_uri": "https://localhost:8080/",
          "height": 522
        },
        "outputId": "8ce0ef8c-57b0-4fc3-d8b9-4ceab3741614"
      },
      "outputs": [
        {
          "output_type": "display_data",
          "data": {
            "text/plain": [
              "<Figure size 800x600 with 1 Axes>"
            ],
            "image/png": "[encoded data removed]"
          },
          "metadata": {}
        }
      ],
      "source": [
        "plot(df_i)\n",
        "    "
      ],
      "id": "4c147231"
    },
    {
      "cell_type": "markdown",
      "metadata": {
        "papermill": {
          "duration": 0.079858,
          "end_time": "2022-04-23T06:31:09.138037",
          "exception": false,
          "start_time": "2022-04-23T06:31:09.058179",
          "status": "completed"
        },
        "tags": [],
        "id": "eb4fdf3f"
      },
      "source": [
        "## TOP  categories followed on YOUTUBE(POPULAR CATEGORIES  ON YOUTUBE)"
      ],
      "id": "eb4fdf3f"
    },
    {
      "cell_type": "code",
      "execution_count": null,
      "metadata": {
        "execution": {
          "iopub.execute_input": "2022-04-23T06:31:09.297910Z",
          "iopub.status.busy": "2022-04-23T06:31:09.297507Z",
          "iopub.status.idle": "2022-04-23T06:31:09.303690Z",
          "shell.execute_reply": "2022-04-23T06:31:09.303047Z"
        },
        "papermill": {
          "duration": 0.089202,
          "end_time": "2022-04-23T06:31:09.305496",
          "exception": false,
          "start_time": "2022-04-23T06:31:09.216294",
          "status": "completed"
        },
        "tags": [],
        "id": "bc6248e5"
      },
      "outputs": [],
      "source": [
        "df_y.drop_duplicates(subset=['Channel_Name'],inplace=True)"
      ],
      "id": "bc6248e5"
    },
    {
      "cell_type": "code",
      "source": [
        "def plot_y(df):\n",
        "    plt.figure(figsize=(8,6))\n",
        "    plt.xlabel('number of times category occured')\n",
        "    plt.ylabel('Category')\n",
        "    df['Category'].value_counts().sort_values(ascending=True).plot.barh(color=pallete)"
      ],
      "metadata": {
        "id": "1T8RDG4m5E1X"
      },
      "execution_count": null,
      "outputs": [],
      "id": "1T8RDG4m5E1X"
    },
    {
      "cell_type": "code",
      "execution_count": null,
      "metadata": {
        "execution": {
          "iopub.execute_input": "2022-04-23T06:31:09.467998Z",
          "iopub.status.busy": "2022-04-23T06:31:09.467608Z",
          "iopub.status.idle": "2022-04-23T06:31:09.767049Z",
          "shell.execute_reply": "2022-04-23T06:31:09.766371Z"
        },
        "papermill": {
          "duration": 0.381459,
          "end_time": "2022-04-23T06:31:09.769514",
          "exception": false,
          "start_time": "2022-04-23T06:31:09.388055",
          "status": "completed"
        },
        "tags": [],
        "id": "e8fe96bc",
        "colab": {
          "base_uri": "https://localhost:8080/",
          "height": 522
        },
        "outputId": "3e14bf76-d89e-4534-ed7b-442c011c8889"
      },
      "outputs": [
        {
          "output_type": "display_data",
          "data": {
            "text/plain": [
              "<Figure size 800x600 with 1 Axes>"
            ],
            "image/png": "[encoded data removed]"
          },
          "metadata": {}
        }
      ],
      "source": [
        "plot_y(df_y)"
      ],
      "id": "e8fe96bc"
    },
    {
      "cell_type": "code",
      "execution_count": null,
      "metadata": {
        "papermill": {
          "duration": 0.079562,
          "end_time": "2022-04-23T06:31:10.086251",
          "exception": false,
          "start_time": "2022-04-23T06:31:10.006689",
          "status": "completed"
        },
        "tags": [],
        "id": "e5bbc0b6"
      },
      "outputs": [],
      "source": [],
      "id": "e5bbc0b6"
    },
    {
      "cell_type": "markdown",
      "metadata": {
        "papermill": {
          "duration": 0.080267,
          "end_time": "2022-04-23T06:31:10.244707",
          "exception": false,
          "start_time": "2022-04-23T06:31:10.164440",
          "status": "completed"
        },
        "tags": [],
        "id": "faf364df"
      },
      "source": [
        "# Decide That where you want to make ads"
      ],
      "id": "faf364df"
    },
    {
      "cell_type": "code",
      "execution_count": null,
      "metadata": {
        "execution": {
          "iopub.execute_input": "2022-04-23T06:31:10.408669Z",
          "iopub.status.busy": "2022-04-23T06:31:10.408385Z",
          "iopub.status.idle": "2022-04-23T06:31:10.412708Z",
          "shell.execute_reply": "2022-04-23T06:31:10.412130Z"
        },
        "papermill": {
          "duration": 0.089742,
          "end_time": "2022-04-23T06:31:10.414321",
          "exception": false,
          "start_time": "2022-04-23T06:31:10.324579",
          "status": "completed"
        },
        "tags": [],
        "id": "93c6e864"
      },
      "outputs": [],
      "source": [
        "def plot_c(df):\n",
        "    plt.figure(figsize=(10,8))\n",
        "    plt.xlabel('number of times category occured')\n",
        "    df['Audience Country'].value_counts().sort_values().plot.barh(color=pallete)"
      ],
      "id": "93c6e864"
    },
    {
      "cell_type": "markdown",
      "metadata": {
        "papermill": {
          "duration": 0.078062,
          "end_time": "2022-04-23T06:31:11.226608",
          "exception": false,
          "start_time": "2022-04-23T06:31:11.148546",
          "status": "completed"
        },
        "tags": [],
        "id": "9b827468"
      },
      "source": [
        "# (TARGET COUNTRY FOR BUISNESS)Checking the demand for categories by Country wise"
      ],
      "id": "9b827468"
    },
    {
      "cell_type": "markdown",
      "metadata": {
        "papermill": {
          "duration": 0.078496,
          "end_time": "2022-04-23T06:31:11.383144",
          "exception": false,
          "start_time": "2022-04-23T06:31:11.304648",
          "status": "completed"
        },
        "tags": [],
        "id": "444863f1"
      },
      "source": [
        "### for understanding that where is the demand of product"
      ],
      "id": "444863f1"
    },
    {
      "cell_type": "code",
      "execution_count": null,
      "metadata": {
        "execution": {
          "iopub.execute_input": "2022-04-23T06:31:11.543639Z",
          "iopub.status.busy": "2022-04-23T06:31:11.543125Z",
          "iopub.status.idle": "2022-04-23T06:31:11.546834Z",
          "shell.execute_reply": "2022-04-23T06:31:11.546309Z"
        },
        "papermill": {
          "duration": 0.086188,
          "end_time": "2022-04-23T06:31:11.548495",
          "exception": false,
          "start_time": "2022-04-23T06:31:11.462307",
          "status": "completed"
        },
        "tags": [],
        "id": "824a41c4"
      },
      "outputs": [],
      "source": [
        "def demand(data,category):\n",
        "    return data[data['Category']==category]['Audience_Country'].value_counts().sort_values(ascending=True).plot.barh(color=pallete)\n",
        "    \n"
      ],
      "id": "824a41c4"
    },
    {
      "cell_type": "code",
      "execution_count": null,
      "metadata": {
        "execution": {
          "iopub.execute_input": "2022-04-23T06:31:11.709985Z",
          "iopub.status.busy": "2022-04-23T06:31:11.709710Z",
          "iopub.status.idle": "2022-04-23T06:31:11.880354Z",
          "shell.execute_reply": "2022-04-23T06:31:11.879508Z"
        },
        "papermill": {
          "duration": 0.255861,
          "end_time": "2022-04-23T06:31:11.882486",
          "exception": false,
          "start_time": "2022-04-23T06:31:11.626625",
          "status": "completed"
        },
        "tags": [],
        "id": "340a2554",
        "colab": {
          "base_uri": "https://localhost:8080/",
          "height": 448
        },
        "outputId": "5237a145-ba79-4374-a9f5-b4355491155d"
      },
      "outputs": [
        {
          "output_type": "execute_result",
          "data": {
            "text/plain": [
              "<Axes: >"
            ]
          },
          "metadata": {},
          "execution_count": 182
        },
        {
          "output_type": "display_data",
          "data": {
            "text/plain": [
              "<Figure size 640x480 with 1 Axes>"
            ],
            "image/png": "[encoded data removed]"
          },
          "metadata": {}
        }
      ],
      "source": [
        "demand(df_y,'Education')"
      ],
      "id": "340a2554"
    },
    {
      "cell_type": "markdown",
      "metadata": {
        "papermill": {
          "duration": 0.079378,
          "end_time": "2022-04-23T06:31:12.635281",
          "exception": false,
          "start_time": "2022-04-23T06:31:12.555903",
          "status": "completed"
        },
        "tags": [],
        "id": "e84bb7a5"
      },
      "source": [
        "## 1-for a particular category we can choose the country where a huge audience is liking that particular category .\n",
        "### for example if you want to make an advertisement of educational app then you can choose India"
      ],
      "id": "e84bb7a5"
    },
    {
      "cell_type": "code",
      "execution_count": null,
      "metadata": {
        "papermill": {
          "duration": 0.08159,
          "end_time": "2022-04-23T06:31:12.796414",
          "exception": false,
          "start_time": "2022-04-23T06:31:12.714824",
          "status": "completed"
        },
        "tags": [],
        "id": "19ca515e"
      },
      "outputs": [],
      "source": [],
      "id": "19ca515e"
    },
    {
      "cell_type": "markdown",
      "metadata": {
        "papermill": {
          "duration": 0.081261,
          "end_time": "2022-04-23T06:31:12.957460",
          "exception": false,
          "start_time": "2022-04-23T06:31:12.876199",
          "status": "completed"
        },
        "tags": [],
        "id": "55f6fc9d"
      },
      "source": [
        "# TOP 15 most followed channels on  youtube"
      ],
      "id": "55f6fc9d"
    },
    {
      "cell_type": "code",
      "execution_count": null,
      "metadata": {
        "execution": {
          "iopub.execute_input": "2022-04-23T06:31:13.121283Z",
          "iopub.status.busy": "2022-04-23T06:31:13.120811Z",
          "iopub.status.idle": "2022-04-23T06:31:13.131465Z",
          "shell.execute_reply": "2022-04-23T06:31:13.130604Z"
        },
        "papermill": {
          "duration": 0.095529,
          "end_time": "2022-04-23T06:31:13.133831",
          "exception": false,
          "start_time": "2022-04-23T06:31:13.038302",
          "status": "completed"
        },
        "tags": [],
        "id": "2c93e90c",
        "colab": {
          "base_uri": "https://localhost:8080/",
          "height": 363
        },
        "outputId": "1523e455-efd1-4175-e4f0-ffa3ce119390"
      },
      "outputs": [
        {
          "output_type": "execute_result",
          "data": {
            "text/plain": [
              "                 Channel_Name       Category Subscribers_Count\n",
              "0                    T-Series  Music & Dance            212.1M\n",
              "1  Cocomelon - Nursery Rhymes      Education            132.1M\n",
              "2                   SET India            NaN            130.4M\n",
              "3                   PewDiePie      Animation            111.4M\n",
              "4                     MrBeast    Video games             92.5M\n",
              "5           ✿ Kids Diana Show      Animation             92.4M\n",
              "6                 Like Nastya      Animation             90.1M\n",
              "7                         WWE    Video games             86.9M\n",
              "8           Zee Music Company  Music & Dance             82.7M\n",
              "9               Vlad and Niki           Toys             80.4M"
            ],
            "text/html": [
              "\n",
              "  <div id=\"df-9028484f-a72e-454e-bca9-ce29330373fb\">\n",
              "    <div class=\"colab-df-container\">\n",
              "      <div>\n",
              "<style scoped>\n",
              "    .dataframe tbody tr th:only-of-type {\n",
              "        vertical-align: middle;\n",
              "    }\n",
              "\n",
              "    .dataframe tbody tr th {\n",
              "        vertical-align: top;\n",
              "    }\n",
              "\n",
              "    .dataframe thead th {\n",
              "        text-align: right;\n",
              "    }\n",
              "</style>\n",
              "<table border=\"1\" class=\"dataframe\">\n",
              "  <thead>\n",
              "    <tr style=\"text-align: right;\">\n",
              "      <th></th>\n",
              "      <th>Channel_Name</th>\n",
              "      <th>Category</th>\n",
              "      <th>Subscribers_Count</th>\n",
              "    </tr>\n",
              "  </thead>\n",
              "  <tbody>\n",
              "    <tr>\n",
              "      <th>0</th>\n",
              "      <td>T-Series</td>\n",
              "      <td>Music &amp; Dance</td>\n",
              "      <td>212.1M</td>\n",
              "    </tr>\n",
              "    <tr>\n",
              "      <th>1</th>\n",
              "      <td>Cocomelon - Nursery Rhymes</td>\n",
              "      <td>Education</td>\n",
              "      <td>132.1M</td>\n",
              "    </tr>\n",
              "    <tr>\n",
              "      <th>2</th>\n",
              "      <td>SET India</td>\n",
              "      <td>NaN</td>\n",
              "      <td>130.4M</td>\n",
              "    </tr>\n",
              "    <tr>\n",
              "      <th>3</th>\n",
              "      <td>PewDiePie</td>\n",
              "      <td>Animation</td>\n",
              "      <td>111.4M</td>\n",
              "    </tr>\n",
              "    <tr>\n",
              "      <th>4</th>\n",
              "      <td>MrBeast</td>\n",
              "      <td>Video games</td>\n",
              "      <td>92.5M</td>\n",
              "    </tr>\n",
              "    <tr>\n",
              "      <th>5</th>\n",
              "      <td>✿ Kids Diana Show</td>\n",
              "      <td>Animation</td>\n",
              "      <td>92.4M</td>\n",
              "    </tr>\n",
              "    <tr>\n",
              "      <th>6</th>\n",
              "      <td>Like Nastya</td>\n",
              "      <td>Animation</td>\n",
              "      <td>90.1M</td>\n",
              "    </tr>\n",
              "    <tr>\n",
              "      <th>7</th>\n",
              "      <td>WWE</td>\n",
              "      <td>Video games</td>\n",
              "      <td>86.9M</td>\n",
              "    </tr>\n",
              "    <tr>\n",
              "      <th>8</th>\n",
              "      <td>Zee Music Company</td>\n",
              "      <td>Music &amp; Dance</td>\n",
              "      <td>82.7M</td>\n",
              "    </tr>\n",
              "    <tr>\n",
              "      <th>9</th>\n",
              "      <td>Vlad and Niki</td>\n",
              "      <td>Toys</td>\n",
              "      <td>80.4M</td>\n",
              "    </tr>\n",
              "  </tbody>\n",
              "</table>\n",
              "</div>\n",
              "      <button class=\"colab-df-convert\" onclick=\"convertToInteractive('df-9028484f-a72e-454e-bca9-ce29330373fb')\"\n",
              "              title=\"Convert this dataframe to an interactive table.\"\n",
              "              style=\"display:none;\">\n",
              "        \n",
              "  <svg xmlns=\"http://www.w3.org/2000/svg\" height=\"24px\"viewBox=\"0 0 24 24\"\n",
              "       width=\"24px\">\n",
              "    <path d=\"M0 0h24v24H0V0z\" fill=\"none\"/>\n",
              "    <path d=\"M18.56 5.44l.94 2.06.94-2.06 2.06-.94-2.06-.94-.94-2.06-.94 2.06-2.06.94zm-11 1L8.5 8.5l.94-2.06 2.06-.94-2.06-.94L8.5 2.5l-.94 2.06-2.06.94zm10 10l.94 2.06.94-2.06 2.06-.94-2.06-.94-.94-2.06-.94 2.06-2.06.94z\"/><path d=\"M17.41 7.96l-1.37-1.37c-.4-.4-.92-.59-1.43-.59-.52 0-1.04.2-1.43.59L10.3 9.45l-7.72 7.72c-.78.78-.78 2.05 0 2.83L4 21.41c.39.39.9.59 1.41.59.51 0 1.02-.2 1.41-.59l7.78-7.78 2.81-2.81c.8-.78.8-2.07 0-2.86zM5.41 20L4 18.59l7.72-7.72 1.47 1.35L5.41 20z\"/>\n",
              "  </svg>\n",
              "      </button>\n",
              "      \n",
              "  <style>\n",
              "    .colab-df-container {\n",
              "      display:flex;\n",
              "      flex-wrap:wrap;\n",
              "      gap: 12px;\n",
              "    }\n",
              "\n",
              "    .colab-df-convert {\n",
              "      background-color: #E8F0FE;\n",
              "      border: none;\n",
              "      border-radius: 50%;\n",
              "      cursor: pointer;\n",
              "      display: none;\n",
              "      fill: #1967D2;\n",
              "      height: 32px;\n",
              "      padding: 0 0 0 0;\n",
              "      width: 32px;\n",
              "    }\n",
              "\n",
              "    .colab-df-convert:hover {\n",
              "      background-color: #E2EBFA;\n",
              "      box-shadow: 0px 1px 2px rgba(60, 64, 67, 0.3), 0px 1px 3px 1px rgba(60, 64, 67, 0.15);\n",
              "      fill: #174EA6;\n",
              "    }\n",
              "\n",
              "    [theme=dark] .colab-df-convert {\n",
              "      background-color: #3B4455;\n",
              "      fill: #D2E3FC;\n",
              "    }\n",
              "\n",
              "    [theme=dark] .colab-df-convert:hover {\n",
              "      background-color: #434B5C;\n",
              "      box-shadow: 0px 1px 3px 1px rgba(0, 0, 0, 0.15);\n",
              "      filter: drop-shadow(0px 1px 2px rgba(0, 0, 0, 0.3));\n",
              "      fill: #FFFFFF;\n",
              "    }\n",
              "  </style>\n",
              "\n",
              "      <script>\n",
              "        const buttonEl =\n",
              "          document.querySelector('#df-9028484f-a72e-454e-bca9-ce29330373fb button.colab-df-convert');\n",
              "        buttonEl.style.display =\n",
              "          google.colab.kernel.accessAllowed ? 'block' : 'none';\n",
              "\n",
              "        async function convertToInteractive(key) {\n",
              "          const element = document.querySelector('#df-9028484f-a72e-454e-bca9-ce29330373fb');\n",
              "          const dataTable =\n",
              "            await google.colab.kernel.invokeFunction('convertToInteractive',\n",
              "                                                     [key], {});\n",
              "          if (!dataTable) return;\n",
              "\n",
              "          const docLinkHtml = 'Like what you see? Visit the ' +\n",
              "            '<a target=\"_blank\" href=https://colab.research.google.com/notebooks/data_table.ipynb>data table notebook</a>'\n",
              "            + ' to learn more about interactive tables.';\n",
              "          element.innerHTML = '';\n",
              "          dataTable['output_type'] = 'display_data';\n",
              "          await google.colab.output.renderOutput(dataTable, element);\n",
              "          const docLink = document.createElement('div');\n",
              "          docLink.innerHTML = docLinkHtml;\n",
              "          element.appendChild(docLink);\n",
              "        }\n",
              "      </script>\n",
              "    </div>\n",
              "  </div>\n",
              "  "
            ]
          },
          "metadata": {},
          "execution_count": 183
        }
      ],
      "source": [
        "df_y.iloc[0:10,[1,2,3]]\n",
        "# youtube dataset is already sorted"
      ],
      "id": "2c93e90c"
    },
    {
      "cell_type": "code",
      "execution_count": null,
      "metadata": {
        "execution": {
          "iopub.execute_input": "2022-04-23T06:31:13.303795Z",
          "iopub.status.busy": "2022-04-23T06:31:13.303496Z",
          "iopub.status.idle": "2022-04-23T06:31:13.307964Z",
          "shell.execute_reply": "2022-04-23T06:31:13.307038Z"
        },
        "papermill": {
          "duration": 0.092524,
          "end_time": "2022-04-23T06:31:13.310023",
          "exception": false,
          "start_time": "2022-04-23T06:31:13.217499",
          "status": "completed"
        },
        "tags": [],
        "id": "977b7891"
      },
      "outputs": [],
      "source": [
        "ly=['Followers','avg views', 'avg likes', 'avg comments']"
      ],
      "id": "977b7891"
    },
    {
      "cell_type": "code",
      "execution_count": null,
      "metadata": {
        "papermill": {
          "duration": 0.081079,
          "end_time": "2022-04-23T06:31:13.474014",
          "exception": false,
          "start_time": "2022-04-23T06:31:13.392935",
          "status": "completed"
        },
        "tags": [],
        "id": "a2e53ffe"
      },
      "outputs": [],
      "source": [],
      "id": "a2e53ffe"
    },
    {
      "cell_type": "markdown",
      "metadata": {
        "papermill": {
          "duration": 0.080314,
          "end_time": "2022-04-23T06:31:13.634560",
          "exception": false,
          "start_time": "2022-04-23T06:31:13.554246",
          "status": "completed"
        },
        "tags": [],
        "id": "39a2f41d"
      },
      "source": [
        "### if you want to go with mini followers for advertisement on instagram"
      ],
      "id": "39a2f41d"
    },
    {
      "cell_type": "code",
      "execution_count": null,
      "metadata": {
        "execution": {
          "iopub.execute_input": "2022-04-23T06:31:13.797530Z",
          "iopub.status.busy": "2022-04-23T06:31:13.797245Z",
          "iopub.status.idle": "2022-04-23T06:31:13.807885Z",
          "shell.execute_reply": "2022-04-23T06:31:13.807229Z"
        },
        "papermill": {
          "duration": 0.094119,
          "end_time": "2022-04-23T06:31:13.809601",
          "exception": false,
          "start_time": "2022-04-23T06:31:13.715482",
          "status": "completed"
        },
        "tags": [],
        "id": "fe550ca4",
        "colab": {
          "base_uri": "https://localhost:8080/"
        },
        "outputId": "bfe3a922-4d04-48df-eb39-a1ae4f5c1c5b"
      },
      "outputs": [
        {
          "output_type": "execute_result",
          "data": {
            "text/plain": [
              "count    1000.000000\n",
              "mean       25.716200\n",
              "std        41.029031\n",
              "min         2.600000\n",
              "25%         9.000000\n",
              "50%        14.550000\n",
              "75%        26.525000\n",
              "max       487.200000\n",
              "Name: newFollowers_Count, dtype: float64"
            ]
          },
          "metadata": {},
          "execution_count": 185
        }
      ],
      "source": [
        "df_i['newFollowers_Count'].describe()"
      ],
      "id": "fe550ca4"
    },
    {
      "cell_type": "code",
      "execution_count": null,
      "metadata": {
        "execution": {
          "iopub.execute_input": "2022-04-23T06:31:13.977621Z",
          "iopub.status.busy": "2022-04-23T06:31:13.976628Z",
          "iopub.status.idle": "2022-04-23T06:31:13.983840Z",
          "shell.execute_reply": "2022-04-23T06:31:13.983180Z"
        },
        "papermill": {
          "duration": 0.095483,
          "end_time": "2022-04-23T06:31:13.985847",
          "exception": false,
          "start_time": "2022-04-23T06:31:13.890364",
          "status": "completed"
        },
        "tags": [],
        "id": "adc9b4a7",
        "colab": {
          "base_uri": "https://localhost:8080/"
        },
        "outputId": "8573b0e7-adbb-40f0-8c8b-263a2cedead1"
      },
      "outputs": [
        {
          "output_type": "execute_result",
          "data": {
            "text/plain": [
              "61.705999999999996"
            ]
          },
          "metadata": {},
          "execution_count": 186
        }
      ],
      "source": [
        "df_i['newFollowers_Count'].quantile(0.94)"
      ],
      "id": "adc9b4a7"
    },
    {
      "cell_type": "markdown",
      "metadata": {
        "papermill": {
          "duration": 0.081526,
          "end_time": "2022-04-23T06:31:14.151017",
          "exception": false,
          "start_time": "2022-04-23T06:31:14.069491",
          "status": "completed"
        },
        "tags": [],
        "id": "2b747965"
      },
      "source": [
        "#### I am taking 60M as a threshold means for instagram celebrity havning above 60M followers are considerd to be mega celebrity"
      ],
      "id": "2b747965"
    },
    {
      "cell_type": "code",
      "execution_count": null,
      "metadata": {
        "execution": {
          "iopub.execute_input": "2022-04-23T06:31:14.314027Z",
          "iopub.status.busy": "2022-04-23T06:31:14.313589Z",
          "iopub.status.idle": "2022-04-23T06:31:14.324559Z",
          "shell.execute_reply": "2022-04-23T06:31:14.324051Z"
        },
        "papermill": {
          "duration": 0.09494,
          "end_time": "2022-04-23T06:31:14.326492",
          "exception": false,
          "start_time": "2022-04-23T06:31:14.231552",
          "status": "completed"
        },
        "tags": [],
        "id": "1a72c526",
        "colab": {
          "base_uri": "https://localhost:8080/",
          "height": 112
        },
        "outputId": "8a978d9e-769b-4d19-ea2e-643c01b9330e"
      },
      "outputs": [
        {
          "output_type": "execute_result",
          "data": {
            "text/plain": [
              "  Influencer_Name          Category_1 Category_2 Followers_Count  \\\n",
              "0             433  Sports with a ball        NaN           48.5M   \n",
              "1         TAEYANG               Music        NaN           12.7M   \n",
              "\n",
              "  Audience_Country(mostly)  newFollowers_Count  Engagement Rate  \n",
              "0                    Spain                48.5            1.313  \n",
              "1                Indonesia                12.7            4.270  "
            ],
            "text/html": [
              "\n",
              "  <div id=\"df-d4e65b69-4509-43f0-931b-11cef5c12d56\">\n",
              "    <div class=\"colab-df-container\">\n",
              "      <div>\n",
              "<style scoped>\n",
              "    .dataframe tbody tr th:only-of-type {\n",
              "        vertical-align: middle;\n",
              "    }\n",
              "\n",
              "    .dataframe tbody tr th {\n",
              "        vertical-align: top;\n",
              "    }\n",
              "\n",
              "    .dataframe thead th {\n",
              "        text-align: right;\n",
              "    }\n",
              "</style>\n",
              "<table border=\"1\" class=\"dataframe\">\n",
              "  <thead>\n",
              "    <tr style=\"text-align: right;\">\n",
              "      <th></th>\n",
              "      <th>Influencer_Name</th>\n",
              "      <th>Category_1</th>\n",
              "      <th>Category_2</th>\n",
              "      <th>Followers_Count</th>\n",
              "      <th>Audience_Country(mostly)</th>\n",
              "      <th>newFollowers_Count</th>\n",
              "      <th>Engagement Rate</th>\n",
              "    </tr>\n",
              "  </thead>\n",
              "  <tbody>\n",
              "    <tr>\n",
              "      <th>0</th>\n",
              "      <td>433</td>\n",
              "      <td>Sports with a ball</td>\n",
              "      <td>NaN</td>\n",
              "      <td>48.5M</td>\n",
              "      <td>Spain</td>\n",
              "      <td>48.5</td>\n",
              "      <td>1.313</td>\n",
              "    </tr>\n",
              "    <tr>\n",
              "      <th>1</th>\n",
              "      <td>TAEYANG</td>\n",
              "      <td>Music</td>\n",
              "      <td>NaN</td>\n",
              "      <td>12.7M</td>\n",
              "      <td>Indonesia</td>\n",
              "      <td>12.7</td>\n",
              "      <td>4.270</td>\n",
              "    </tr>\n",
              "  </tbody>\n",
              "</table>\n",
              "</div>\n",
              "      <button class=\"colab-df-convert\" onclick=\"convertToInteractive('df-d4e65b69-4509-43f0-931b-11cef5c12d56')\"\n",
              "              title=\"Convert this dataframe to an interactive table.\"\n",
              "              style=\"display:none;\">\n",
              "        \n",
              "  <svg xmlns=\"http://www.w3.org/2000/svg\" height=\"24px\"viewBox=\"0 0 24 24\"\n",
              "       width=\"24px\">\n",
              "    <path d=\"M0 0h24v24H0V0z\" fill=\"none\"/>\n",
              "    <path d=\"M18.56 5.44l.94 2.06.94-2.06 2.06-.94-2.06-.94-.94-2.06-.94 2.06-2.06.94zm-11 1L8.5 8.5l.94-2.06 2.06-.94-2.06-.94L8.5 2.5l-.94 2.06-2.06.94zm10 10l.94 2.06.94-2.06 2.06-.94-2.06-.94-.94-2.06-.94 2.06-2.06.94z\"/><path d=\"M17.41 7.96l-1.37-1.37c-.4-.4-.92-.59-1.43-.59-.52 0-1.04.2-1.43.59L10.3 9.45l-7.72 7.72c-.78.78-.78 2.05 0 2.83L4 21.41c.39.39.9.59 1.41.59.51 0 1.02-.2 1.41-.59l7.78-7.78 2.81-2.81c.8-.78.8-2.07 0-2.86zM5.41 20L4 18.59l7.72-7.72 1.47 1.35L5.41 20z\"/>\n",
              "  </svg>\n",
              "      </button>\n",
              "      \n",
              "  <style>\n",
              "    .colab-df-container {\n",
              "      display:flex;\n",
              "      flex-wrap:wrap;\n",
              "      gap: 12px;\n",
              "    }\n",
              "\n",
              "    .colab-df-convert {\n",
              "      background-color: #E8F0FE;\n",
              "      border: none;\n",
              "      border-radius: 50%;\n",
              "      cursor: pointer;\n",
              "      display: none;\n",
              "      fill: #1967D2;\n",
              "      height: 32px;\n",
              "      padding: 0 0 0 0;\n",
              "      width: 32px;\n",
              "    }\n",
              "\n",
              "    .colab-df-convert:hover {\n",
              "      background-color: #E2EBFA;\n",
              "      box-shadow: 0px 1px 2px rgba(60, 64, 67, 0.3), 0px 1px 3px 1px rgba(60, 64, 67, 0.15);\n",
              "      fill: #174EA6;\n",
              "    }\n",
              "\n",
              "    [theme=dark] .colab-df-convert {\n",
              "      background-color: #3B4455;\n",
              "      fill: #D2E3FC;\n",
              "    }\n",
              "\n",
              "    [theme=dark] .colab-df-convert:hover {\n",
              "      background-color: #434B5C;\n",
              "      box-shadow: 0px 1px 3px 1px rgba(0, 0, 0, 0.15);\n",
              "      filter: drop-shadow(0px 1px 2px rgba(0, 0, 0, 0.3));\n",
              "      fill: #FFFFFF;\n",
              "    }\n",
              "  </style>\n",
              "\n",
              "      <script>\n",
              "        const buttonEl =\n",
              "          document.querySelector('#df-d4e65b69-4509-43f0-931b-11cef5c12d56 button.colab-df-convert');\n",
              "        buttonEl.style.display =\n",
              "          google.colab.kernel.accessAllowed ? 'block' : 'none';\n",
              "\n",
              "        async function convertToInteractive(key) {\n",
              "          const element = document.querySelector('#df-d4e65b69-4509-43f0-931b-11cef5c12d56');\n",
              "          const dataTable =\n",
              "            await google.colab.kernel.invokeFunction('convertToInteractive',\n",
              "                                                     [key], {});\n",
              "          if (!dataTable) return;\n",
              "\n",
              "          const docLinkHtml = 'Like what you see? Visit the ' +\n",
              "            '<a target=\"_blank\" href=https://colab.research.google.com/notebooks/data_table.ipynb>data table notebook</a>'\n",
              "            + ' to learn more about interactive tables.';\n",
              "          element.innerHTML = '';\n",
              "          dataTable['output_type'] = 'display_data';\n",
              "          await google.colab.output.renderOutput(dataTable, element);\n",
              "          const docLink = document.createElement('div');\n",
              "          docLink.innerHTML = docLinkHtml;\n",
              "          element.appendChild(docLink);\n",
              "        }\n",
              "      </script>\n",
              "    </div>\n",
              "  </div>\n",
              "  "
            ]
          },
          "metadata": {},
          "execution_count": 187
        }
      ],
      "source": [
        "df_i.head(2)"
      ],
      "id": "1a72c526"
    },
    {
      "cell_type": "markdown",
      "metadata": {
        "papermill": {
          "duration": 0.081388,
          "end_time": "2022-04-23T06:31:14.489021",
          "exception": false,
          "start_time": "2022-04-23T06:31:14.407633",
          "status": "completed"
        },
        "tags": [],
        "id": "567dfd37"
      },
      "source": [
        "## if you  want to make ads by mini influencers "
      ],
      "id": "567dfd37"
    },
    {
      "cell_type": "code",
      "execution_count": null,
      "metadata": {
        "execution": {
          "iopub.execute_input": "2022-04-23T06:31:14.653431Z",
          "iopub.status.busy": "2022-04-23T06:31:14.652919Z",
          "iopub.status.idle": "2022-04-23T06:31:14.657581Z",
          "shell.execute_reply": "2022-04-23T06:31:14.657037Z"
        },
        "papermill": {
          "duration": 0.089294,
          "end_time": "2022-04-23T06:31:14.659230",
          "exception": false,
          "start_time": "2022-04-23T06:31:14.569936",
          "status": "completed"
        },
        "tags": [],
        "id": "1b585f4b"
      },
      "outputs": [],
      "source": [
        "def for_mini_followers_instagram(coun,cat):\n",
        "    df1=df_i[df_i['Audience_Country(mostly)']==coun]\n",
        "    df1_mini=df1[df1['newFollowers_Count']<60]\n",
        "    return df1_mini.sort_values(by='Engagement Rate',ascending=False).groupby('Category_1').get_group(cat).iloc[:,[0,3,-1]]\n",
        "    \n",
        "    "
      ],
      "id": "1b585f4b"
    },
    {
      "cell_type": "code",
      "source": [],
      "metadata": {
        "id": "iHtPPmQR6BO6"
      },
      "execution_count": null,
      "outputs": [],
      "id": "iHtPPmQR6BO6"
    },
    {
      "cell_type": "code",
      "execution_count": null,
      "metadata": {
        "execution": {
          "iopub.execute_input": "2022-04-23T06:31:14.825744Z",
          "iopub.status.busy": "2022-04-23T06:31:14.825243Z",
          "iopub.status.idle": "2022-04-23T06:31:14.837962Z",
          "shell.execute_reply": "2022-04-23T06:31:14.836946Z"
        },
        "papermill": {
          "duration": 0.099284,
          "end_time": "2022-04-23T06:31:14.840049",
          "exception": false,
          "start_time": "2022-04-23T06:31:14.740765",
          "status": "completed"
        },
        "tags": [],
        "id": "b7cd7d96",
        "colab": {
          "base_uri": "https://localhost:8080/",
          "height": 363
        },
        "outputId": "a74faf8c-97f3-4c64-e17c-5f58d38070e2"
      },
      "outputs": [
        {
          "output_type": "execute_result",
          "data": {
            "text/plain": [
              "           Influencer_Name Followers_Count  Engagement Rate\n",
              "705         Olivia Rodrigo           22.9M           15.284\n",
              "992             Zayn Malik           44.9M           12.918\n",
              "242                djsnake            9.1M            4.721\n",
              "118             Bebe Rexha           10.8M            3.028\n",
              "876       Tamannaah Bhatia           15.9M            2.528\n",
              "216  Darshan Raval #Goriye           14.8M            1.683\n",
              "604             marshmello           29.2M            1.392\n",
              "581          Madhuri Dixit           30.6M            1.121\n",
              "824          shreyaghoshal           23.7M            0.601\n",
              "333          Guru Randhawa           31.5M            0.430"
            ],
            "text/html": [
              "\n",
              "  <div id=\"df-d6a8c8c4-3deb-4bbe-b876-d2fafd9a8cdf\">\n",
              "    <div class=\"colab-df-container\">\n",
              "      <div>\n",
              "<style scoped>\n",
              "    .dataframe tbody tr th:only-of-type {\n",
              "        vertical-align: middle;\n",
              "    }\n",
              "\n",
              "    .dataframe tbody tr th {\n",
              "        vertical-align: top;\n",
              "    }\n",
              "\n",
              "    .dataframe thead th {\n",
              "        text-align: right;\n",
              "    }\n",
              "</style>\n",
              "<table border=\"1\" class=\"dataframe\">\n",
              "  <thead>\n",
              "    <tr style=\"text-align: right;\">\n",
              "      <th></th>\n",
              "      <th>Influencer_Name</th>\n",
              "      <th>Followers_Count</th>\n",
              "      <th>Engagement Rate</th>\n",
              "    </tr>\n",
              "  </thead>\n",
              "  <tbody>\n",
              "    <tr>\n",
              "      <th>705</th>\n",
              "      <td>Olivia Rodrigo</td>\n",
              "      <td>22.9M</td>\n",
              "      <td>15.284</td>\n",
              "    </tr>\n",
              "    <tr>\n",
              "      <th>992</th>\n",
              "      <td>Zayn Malik</td>\n",
              "      <td>44.9M</td>\n",
              "      <td>12.918</td>\n",
              "    </tr>\n",
              "    <tr>\n",
              "      <th>242</th>\n",
              "      <td>djsnake</td>\n",
              "      <td>9.1M</td>\n",
              "      <td>4.721</td>\n",
              "    </tr>\n",
              "    <tr>\n",
              "      <th>118</th>\n",
              "      <td>Bebe Rexha</td>\n",
              "      <td>10.8M</td>\n",
              "      <td>3.028</td>\n",
              "    </tr>\n",
              "    <tr>\n",
              "      <th>876</th>\n",
              "      <td>Tamannaah Bhatia</td>\n",
              "      <td>15.9M</td>\n",
              "      <td>2.528</td>\n",
              "    </tr>\n",
              "    <tr>\n",
              "      <th>216</th>\n",
              "      <td>Darshan Raval #Goriye</td>\n",
              "      <td>14.8M</td>\n",
              "      <td>1.683</td>\n",
              "    </tr>\n",
              "    <tr>\n",
              "      <th>604</th>\n",
              "      <td>marshmello</td>\n",
              "      <td>29.2M</td>\n",
              "      <td>1.392</td>\n",
              "    </tr>\n",
              "    <tr>\n",
              "      <th>581</th>\n",
              "      <td>Madhuri Dixit</td>\n",
              "      <td>30.6M</td>\n",
              "      <td>1.121</td>\n",
              "    </tr>\n",
              "    <tr>\n",
              "      <th>824</th>\n",
              "      <td>shreyaghoshal</td>\n",
              "      <td>23.7M</td>\n",
              "      <td>0.601</td>\n",
              "    </tr>\n",
              "    <tr>\n",
              "      <th>333</th>\n",
              "      <td>Guru Randhawa</td>\n",
              "      <td>31.5M</td>\n",
              "      <td>0.430</td>\n",
              "    </tr>\n",
              "  </tbody>\n",
              "</table>\n",
              "</div>\n",
              "      <button class=\"colab-df-convert\" onclick=\"convertToInteractive('df-d6a8c8c4-3deb-4bbe-b876-d2fafd9a8cdf')\"\n",
              "              title=\"Convert this dataframe to an interactive table.\"\n",
              "              style=\"display:none;\">\n",
              "        \n",
              "  <svg xmlns=\"http://www.w3.org/2000/svg\" height=\"24px\"viewBox=\"0 0 24 24\"\n",
              "       width=\"24px\">\n",
              "    <path d=\"M0 0h24v24H0V0z\" fill=\"none\"/>\n",
              "    <path d=\"M18.56 5.44l.94 2.06.94-2.06 2.06-.94-2.06-.94-.94-2.06-.94 2.06-2.06.94zm-11 1L8.5 8.5l.94-2.06 2.06-.94-2.06-.94L8.5 2.5l-.94 2.06-2.06.94zm10 10l.94 2.06.94-2.06 2.06-.94-2.06-.94-.94-2.06-.94 2.06-2.06.94z\"/><path d=\"M17.41 7.96l-1.37-1.37c-.4-.4-.92-.59-1.43-.59-.52 0-1.04.2-1.43.59L10.3 9.45l-7.72 7.72c-.78.78-.78 2.05 0 2.83L4 21.41c.39.39.9.59 1.41.59.51 0 1.02-.2 1.41-.59l7.78-7.78 2.81-2.81c.8-.78.8-2.07 0-2.86zM5.41 20L4 18.59l7.72-7.72 1.47 1.35L5.41 20z\"/>\n",
              "  </svg>\n",
              "      </button>\n",
              "      \n",
              "  <style>\n",
              "    .colab-df-container {\n",
              "      display:flex;\n",
              "      flex-wrap:wrap;\n",
              "      gap: 12px;\n",
              "    }\n",
              "\n",
              "    .colab-df-convert {\n",
              "      background-color: #E8F0FE;\n",
              "      border: none;\n",
              "      border-radius: 50%;\n",
              "      cursor: pointer;\n",
              "      display: none;\n",
              "      fill: #1967D2;\n",
              "      height: 32px;\n",
              "      padding: 0 0 0 0;\n",
              "      width: 32px;\n",
              "    }\n",
              "\n",
              "    .colab-df-convert:hover {\n",
              "      background-color: #E2EBFA;\n",
              "      box-shadow: 0px 1px 2px rgba(60, 64, 67, 0.3), 0px 1px 3px 1px rgba(60, 64, 67, 0.15);\n",
              "      fill: #174EA6;\n",
              "    }\n",
              "\n",
              "    [theme=dark] .colab-df-convert {\n",
              "      background-color: #3B4455;\n",
              "      fill: #D2E3FC;\n",
              "    }\n",
              "\n",
              "    [theme=dark] .colab-df-convert:hover {\n",
              "      background-color: #434B5C;\n",
              "      box-shadow: 0px 1px 3px 1px rgba(0, 0, 0, 0.15);\n",
              "      filter: drop-shadow(0px 1px 2px rgba(0, 0, 0, 0.3));\n",
              "      fill: #FFFFFF;\n",
              "    }\n",
              "  </style>\n",
              "\n",
              "      <script>\n",
              "        const buttonEl =\n",
              "          document.querySelector('#df-d6a8c8c4-3deb-4bbe-b876-d2fafd9a8cdf button.colab-df-convert');\n",
              "        buttonEl.style.display =\n",
              "          google.colab.kernel.accessAllowed ? 'block' : 'none';\n",
              "\n",
              "        async function convertToInteractive(key) {\n",
              "          const element = document.querySelector('#df-d6a8c8c4-3deb-4bbe-b876-d2fafd9a8cdf');\n",
              "          const dataTable =\n",
              "            await google.colab.kernel.invokeFunction('convertToInteractive',\n",
              "                                                     [key], {});\n",
              "          if (!dataTable) return;\n",
              "\n",
              "          const docLinkHtml = 'Like what you see? Visit the ' +\n",
              "            '<a target=\"_blank\" href=https://colab.research.google.com/notebooks/data_table.ipynb>data table notebook</a>'\n",
              "            + ' to learn more about interactive tables.';\n",
              "          element.innerHTML = '';\n",
              "          dataTable['output_type'] = 'display_data';\n",
              "          await google.colab.output.renderOutput(dataTable, element);\n",
              "          const docLink = document.createElement('div');\n",
              "          docLink.innerHTML = docLinkHtml;\n",
              "          element.appendChild(docLink);\n",
              "        }\n",
              "      </script>\n",
              "    </div>\n",
              "  </div>\n",
              "  "
            ]
          },
          "metadata": {},
          "execution_count": 189
        }
      ],
      "source": [
        "for_mini_followers_instagram('India','Music')"
      ],
      "id": "b7cd7d96"
    },
    {
      "cell_type": "markdown",
      "metadata": {
        "execution": {
          "iopub.execute_input": "2022-04-23T06:25:44.527034Z",
          "iopub.status.busy": "2022-04-23T06:25:44.526736Z",
          "iopub.status.idle": "2022-04-23T06:25:44.531262Z",
          "shell.execute_reply": "2022-04-23T06:25:44.530163Z",
          "shell.execute_reply.started": "2022-04-23T06:25:44.527004Z"
        },
        "papermill": {
          "duration": 0.081726,
          "end_time": "2022-04-23T06:31:15.007040",
          "exception": false,
          "start_time": "2022-04-23T06:31:14.925314",
          "status": "completed"
        },
        "tags": [],
        "id": "c34f0dc0"
      },
      "source": [
        "## if you want to make ads by mega influencers"
      ],
      "id": "c34f0dc0"
    },
    {
      "cell_type": "code",
      "execution_count": null,
      "metadata": {
        "execution": {
          "iopub.execute_input": "2022-04-23T06:31:15.175411Z",
          "iopub.status.busy": "2022-04-23T06:31:15.174880Z",
          "iopub.status.idle": "2022-04-23T06:31:15.179663Z",
          "shell.execute_reply": "2022-04-23T06:31:15.179035Z"
        },
        "papermill": {
          "duration": 0.09129,
          "end_time": "2022-04-23T06:31:15.181450",
          "exception": false,
          "start_time": "2022-04-23T06:31:15.090160",
          "status": "completed"
        },
        "tags": [],
        "id": "363338da"
      },
      "outputs": [],
      "source": [
        "def for_mega_followers_instagram(coun,cat):\n",
        "    df1=df_i[df_i['Audience_Country(mostly)']==coun]\n",
        "    df1_mini=df1[df1['newFollowers_Count']>60]\n",
        "    return df1_mini.sort_values(by='Engagement Rate',ascending=False).groupby('Category_1').get_group(cat).iloc[:,[0,3,-1]]\n",
        "    \n",
        "    "
      ],
      "id": "363338da"
    },
    {
      "cell_type": "code",
      "execution_count": null,
      "metadata": {
        "execution": {
          "iopub.execute_input": "2022-04-23T06:31:15.349974Z",
          "iopub.status.busy": "2022-04-23T06:31:15.349464Z",
          "iopub.status.idle": "2022-04-23T06:31:15.360548Z",
          "shell.execute_reply": "2022-04-23T06:31:15.359959Z"
        },
        "papermill": {
          "duration": 0.096948,
          "end_time": "2022-04-23T06:31:15.362327",
          "exception": false,
          "start_time": "2022-04-23T06:31:15.265379",
          "status": "completed"
        },
        "tags": [],
        "id": "216b447e",
        "colab": {
          "base_uri": "https://localhost:8080/",
          "height": 175
        },
        "outputId": "07889c3d-cef0-4af6-910b-0c51ea5f0d87"
      },
      "outputs": [
        {
          "output_type": "execute_result",
          "data": {
            "text/plain": [
              "              Influencer_Name Followers_Count  Engagement Rate\n",
              "818                   Shakira           71.9M            1.317\n",
              "670  Neha Kakkar (Mrs. Singh)           68.5M            1.131\n",
              "458             Justin Bieber            227M            0.281\n",
              "459             Justin Bieber          227.4M            0.196"
            ],
            "text/html": [
              "\n",
              "  <div id=\"df-bde1157d-5845-4b6c-b150-f10bc3d08431\">\n",
              "    <div class=\"colab-df-container\">\n",
              "      <div>\n",
              "<style scoped>\n",
              "    .dataframe tbody tr th:only-of-type {\n",
              "        vertical-align: middle;\n",
              "    }\n",
              "\n",
              "    .dataframe tbody tr th {\n",
              "        vertical-align: top;\n",
              "    }\n",
              "\n",
              "    .dataframe thead th {\n",
              "        text-align: right;\n",
              "    }\n",
              "</style>\n",
              "<table border=\"1\" class=\"dataframe\">\n",
              "  <thead>\n",
              "    <tr style=\"text-align: right;\">\n",
              "      <th></th>\n",
              "      <th>Influencer_Name</th>\n",
              "      <th>Followers_Count</th>\n",
              "      <th>Engagement Rate</th>\n",
              "    </tr>\n",
              "  </thead>\n",
              "  <tbody>\n",
              "    <tr>\n",
              "      <th>818</th>\n",
              "      <td>Shakira</td>\n",
              "      <td>71.9M</td>\n",
              "      <td>1.317</td>\n",
              "    </tr>\n",
              "    <tr>\n",
              "      <th>670</th>\n",
              "      <td>Neha Kakkar (Mrs. Singh)</td>\n",
              "      <td>68.5M</td>\n",
              "      <td>1.131</td>\n",
              "    </tr>\n",
              "    <tr>\n",
              "      <th>458</th>\n",
              "      <td>Justin Bieber</td>\n",
              "      <td>227M</td>\n",
              "      <td>0.281</td>\n",
              "    </tr>\n",
              "    <tr>\n",
              "      <th>459</th>\n",
              "      <td>Justin Bieber</td>\n",
              "      <td>227.4M</td>\n",
              "      <td>0.196</td>\n",
              "    </tr>\n",
              "  </tbody>\n",
              "</table>\n",
              "</div>\n",
              "      <button class=\"colab-df-convert\" onclick=\"convertToInteractive('df-bde1157d-5845-4b6c-b150-f10bc3d08431')\"\n",
              "              title=\"Convert this dataframe to an interactive table.\"\n",
              "              style=\"display:none;\">\n",
              "        \n",
              "  <svg xmlns=\"http://www.w3.org/2000/svg\" height=\"24px\"viewBox=\"0 0 24 24\"\n",
              "       width=\"24px\">\n",
              "    <path d=\"M0 0h24v24H0V0z\" fill=\"none\"/>\n",
              "    <path d=\"M18.56 5.44l.94 2.06.94-2.06 2.06-.94-2.06-.94-.94-2.06-.94 2.06-2.06.94zm-11 1L8.5 8.5l.94-2.06 2.06-.94-2.06-.94L8.5 2.5l-.94 2.06-2.06.94zm10 10l.94 2.06.94-2.06 2.06-.94-2.06-.94-.94-2.06-.94 2.06-2.06.94z\"/><path d=\"M17.41 7.96l-1.37-1.37c-.4-.4-.92-.59-1.43-.59-.52 0-1.04.2-1.43.59L10.3 9.45l-7.72 7.72c-.78.78-.78 2.05 0 2.83L4 21.41c.39.39.9.59 1.41.59.51 0 1.02-.2 1.41-.59l7.78-7.78 2.81-2.81c.8-.78.8-2.07 0-2.86zM5.41 20L4 18.59l7.72-7.72 1.47 1.35L5.41 20z\"/>\n",
              "  </svg>\n",
              "      </button>\n",
              "      \n",
              "  <style>\n",
              "    .colab-df-container {\n",
              "      display:flex;\n",
              "      flex-wrap:wrap;\n",
              "      gap: 12px;\n",
              "    }\n",
              "\n",
              "    .colab-df-convert {\n",
              "      background-color: #E8F0FE;\n",
              "      border: none;\n",
              "      border-radius: 50%;\n",
              "      cursor: pointer;\n",
              "      display: none;\n",
              "      fill: #1967D2;\n",
              "      height: 32px;\n",
              "      padding: 0 0 0 0;\n",
              "      width: 32px;\n",
              "    }\n",
              "\n",
              "    .colab-df-convert:hover {\n",
              "      background-color: #E2EBFA;\n",
              "      box-shadow: 0px 1px 2px rgba(60, 64, 67, 0.3), 0px 1px 3px 1px rgba(60, 64, 67, 0.15);\n",
              "      fill: #174EA6;\n",
              "    }\n",
              "\n",
              "    [theme=dark] .colab-df-convert {\n",
              "      background-color: #3B4455;\n",
              "      fill: #D2E3FC;\n",
              "    }\n",
              "\n",
              "    [theme=dark] .colab-df-convert:hover {\n",
              "      background-color: #434B5C;\n",
              "      box-shadow: 0px 1px 3px 1px rgba(0, 0, 0, 0.15);\n",
              "      filter: drop-shadow(0px 1px 2px rgba(0, 0, 0, 0.3));\n",
              "      fill: #FFFFFF;\n",
              "    }\n",
              "  </style>\n",
              "\n",
              "      <script>\n",
              "        const buttonEl =\n",
              "          document.querySelector('#df-bde1157d-5845-4b6c-b150-f10bc3d08431 button.colab-df-convert');\n",
              "        buttonEl.style.display =\n",
              "          google.colab.kernel.accessAllowed ? 'block' : 'none';\n",
              "\n",
              "        async function convertToInteractive(key) {\n",
              "          const element = document.querySelector('#df-bde1157d-5845-4b6c-b150-f10bc3d08431');\n",
              "          const dataTable =\n",
              "            await google.colab.kernel.invokeFunction('convertToInteractive',\n",
              "                                                     [key], {});\n",
              "          if (!dataTable) return;\n",
              "\n",
              "          const docLinkHtml = 'Like what you see? Visit the ' +\n",
              "            '<a target=\"_blank\" href=https://colab.research.google.com/notebooks/data_table.ipynb>data table notebook</a>'\n",
              "            + ' to learn more about interactive tables.';\n",
              "          element.innerHTML = '';\n",
              "          dataTable['output_type'] = 'display_data';\n",
              "          await google.colab.output.renderOutput(dataTable, element);\n",
              "          const docLink = document.createElement('div');\n",
              "          docLink.innerHTML = docLinkHtml;\n",
              "          element.appendChild(docLink);\n",
              "        }\n",
              "      </script>\n",
              "    </div>\n",
              "  </div>\n",
              "  "
            ]
          },
          "metadata": {},
          "execution_count": 191
        }
      ],
      "source": [
        "for_mega_followers_instagram('India','Music')"
      ],
      "id": "216b447e"
    },
    {
      "cell_type": "code",
      "execution_count": null,
      "metadata": {
        "execution": {
          "iopub.execute_input": "2022-04-23T06:31:15.534687Z",
          "iopub.status.busy": "2022-04-23T06:31:15.534172Z",
          "iopub.status.idle": "2022-04-23T06:31:15.546131Z",
          "shell.execute_reply": "2022-04-23T06:31:15.545566Z"
        },
        "papermill": {
          "duration": 0.098553,
          "end_time": "2022-04-23T06:31:15.547952",
          "exception": false,
          "start_time": "2022-04-23T06:31:15.449399",
          "status": "completed"
        },
        "tags": [],
        "id": "fe028b2d",
        "colab": {
          "base_uri": "https://localhost:8080/",
          "height": 175
        },
        "outputId": "ba70710c-2898-490b-841f-597f308c492d"
      },
      "outputs": [
        {
          "output_type": "execute_result",
          "data": {
            "text/plain": [
              "       Influencer_Name Followers_Count  Engagement Rate\n",
              "883   Tejasswi Prakash            5.5M            9.335\n",
              "757  Rashmika Mandanna             30M            6.667\n",
              "803           Samantha           22.9M            3.063\n",
              "865        Sunny Leone           51.5M            0.819"
            ],
            "text/html": [
              "\n",
              "  <div id=\"df-6c8542d2-6a65-4c8c-8db7-1dc0186d99dd\">\n",
              "    <div class=\"colab-df-container\">\n",
              "      <div>\n",
              "<style scoped>\n",
              "    .dataframe tbody tr th:only-of-type {\n",
              "        vertical-align: middle;\n",
              "    }\n",
              "\n",
              "    .dataframe tbody tr th {\n",
              "        vertical-align: top;\n",
              "    }\n",
              "\n",
              "    .dataframe thead th {\n",
              "        text-align: right;\n",
              "    }\n",
              "</style>\n",
              "<table border=\"1\" class=\"dataframe\">\n",
              "  <thead>\n",
              "    <tr style=\"text-align: right;\">\n",
              "      <th></th>\n",
              "      <th>Influencer_Name</th>\n",
              "      <th>Followers_Count</th>\n",
              "      <th>Engagement Rate</th>\n",
              "    </tr>\n",
              "  </thead>\n",
              "  <tbody>\n",
              "    <tr>\n",
              "      <th>883</th>\n",
              "      <td>Tejasswi Prakash</td>\n",
              "      <td>5.5M</td>\n",
              "      <td>9.335</td>\n",
              "    </tr>\n",
              "    <tr>\n",
              "      <th>757</th>\n",
              "      <td>Rashmika Mandanna</td>\n",
              "      <td>30M</td>\n",
              "      <td>6.667</td>\n",
              "    </tr>\n",
              "    <tr>\n",
              "      <th>803</th>\n",
              "      <td>Samantha</td>\n",
              "      <td>22.9M</td>\n",
              "      <td>3.063</td>\n",
              "    </tr>\n",
              "    <tr>\n",
              "      <th>865</th>\n",
              "      <td>Sunny Leone</td>\n",
              "      <td>51.5M</td>\n",
              "      <td>0.819</td>\n",
              "    </tr>\n",
              "  </tbody>\n",
              "</table>\n",
              "</div>\n",
              "      <button class=\"colab-df-convert\" onclick=\"convertToInteractive('df-6c8542d2-6a65-4c8c-8db7-1dc0186d99dd')\"\n",
              "              title=\"Convert this dataframe to an interactive table.\"\n",
              "              style=\"display:none;\">\n",
              "        \n",
              "  <svg xmlns=\"http://www.w3.org/2000/svg\" height=\"24px\"viewBox=\"0 0 24 24\"\n",
              "       width=\"24px\">\n",
              "    <path d=\"M0 0h24v24H0V0z\" fill=\"none\"/>\n",
              "    <path d=\"M18.56 5.44l.94 2.06.94-2.06 2.06-.94-2.06-.94-.94-2.06-.94 2.06-2.06.94zm-11 1L8.5 8.5l.94-2.06 2.06-.94-2.06-.94L8.5 2.5l-.94 2.06-2.06.94zm10 10l.94 2.06.94-2.06 2.06-.94-2.06-.94-.94-2.06-.94 2.06-2.06.94z\"/><path d=\"M17.41 7.96l-1.37-1.37c-.4-.4-.92-.59-1.43-.59-.52 0-1.04.2-1.43.59L10.3 9.45l-7.72 7.72c-.78.78-.78 2.05 0 2.83L4 21.41c.39.39.9.59 1.41.59.51 0 1.02-.2 1.41-.59l7.78-7.78 2.81-2.81c.8-.78.8-2.07 0-2.86zM5.41 20L4 18.59l7.72-7.72 1.47 1.35L5.41 20z\"/>\n",
              "  </svg>\n",
              "      </button>\n",
              "      \n",
              "  <style>\n",
              "    .colab-df-container {\n",
              "      display:flex;\n",
              "      flex-wrap:wrap;\n",
              "      gap: 12px;\n",
              "    }\n",
              "\n",
              "    .colab-df-convert {\n",
              "      background-color: #E8F0FE;\n",
              "      border: none;\n",
              "      border-radius: 50%;\n",
              "      cursor: pointer;\n",
              "      display: none;\n",
              "      fill: #1967D2;\n",
              "      height: 32px;\n",
              "      padding: 0 0 0 0;\n",
              "      width: 32px;\n",
              "    }\n",
              "\n",
              "    .colab-df-convert:hover {\n",
              "      background-color: #E2EBFA;\n",
              "      box-shadow: 0px 1px 2px rgba(60, 64, 67, 0.3), 0px 1px 3px 1px rgba(60, 64, 67, 0.15);\n",
              "      fill: #174EA6;\n",
              "    }\n",
              "\n",
              "    [theme=dark] .colab-df-convert {\n",
              "      background-color: #3B4455;\n",
              "      fill: #D2E3FC;\n",
              "    }\n",
              "\n",
              "    [theme=dark] .colab-df-convert:hover {\n",
              "      background-color: #434B5C;\n",
              "      box-shadow: 0px 1px 3px 1px rgba(0, 0, 0, 0.15);\n",
              "      filter: drop-shadow(0px 1px 2px rgba(0, 0, 0, 0.3));\n",
              "      fill: #FFFFFF;\n",
              "    }\n",
              "  </style>\n",
              "\n",
              "      <script>\n",
              "        const buttonEl =\n",
              "          document.querySelector('#df-6c8542d2-6a65-4c8c-8db7-1dc0186d99dd button.colab-df-convert');\n",
              "        buttonEl.style.display =\n",
              "          google.colab.kernel.accessAllowed ? 'block' : 'none';\n",
              "\n",
              "        async function convertToInteractive(key) {\n",
              "          const element = document.querySelector('#df-6c8542d2-6a65-4c8c-8db7-1dc0186d99dd');\n",
              "          const dataTable =\n",
              "            await google.colab.kernel.invokeFunction('convertToInteractive',\n",
              "                                                     [key], {});\n",
              "          if (!dataTable) return;\n",
              "\n",
              "          const docLinkHtml = 'Like what you see? Visit the ' +\n",
              "            '<a target=\"_blank\" href=https://colab.research.google.com/notebooks/data_table.ipynb>data table notebook</a>'\n",
              "            + ' to learn more about interactive tables.';\n",
              "          element.innerHTML = '';\n",
              "          dataTable['output_type'] = 'display_data';\n",
              "          await google.colab.output.renderOutput(dataTable, element);\n",
              "          const docLink = document.createElement('div');\n",
              "          docLink.innerHTML = docLinkHtml;\n",
              "          element.appendChild(docLink);\n",
              "        }\n",
              "      </script>\n",
              "    </div>\n",
              "  </div>\n",
              "  "
            ]
          },
          "metadata": {},
          "execution_count": 192
        }
      ],
      "source": [
        "for_mini_followers_instagram('India','Beauty')"
      ],
      "id": "fe028b2d"
    },
    {
      "cell_type": "code",
      "execution_count": null,
      "metadata": {
        "execution": {
          "iopub.execute_input": "2022-04-23T06:31:15.716383Z",
          "iopub.status.busy": "2022-04-23T06:31:15.716130Z",
          "iopub.status.idle": "2022-04-23T06:31:15.728547Z",
          "shell.execute_reply": "2022-04-23T06:31:15.727949Z"
        },
        "papermill": {
          "duration": 0.099253,
          "end_time": "2022-04-23T06:31:15.730295",
          "exception": false,
          "start_time": "2022-04-23T06:31:15.631042",
          "status": "completed"
        },
        "tags": [],
        "id": "7e8a36b0",
        "colab": {
          "base_uri": "https://localhost:8080/",
          "height": 175
        },
        "outputId": "bca9c551-2811-491a-820c-97f59a6b2d30"
      },
      "outputs": [
        {
          "output_type": "execute_result",
          "data": {
            "text/plain": [
              "                    Influencer_Name Followers_Count  Engagement Rate\n",
              "786  𝐑𝐨𝐡𝐢𝐭 𝐙𝐢𝐧𝐣𝐮𝐫𝐤𝐞 ~ 𝐫𝐞𝐚𝐜𝐭𝐢𝐨𝐧𝐛𝐨𝐢 💫           21.2M            5.189\n",
              "73                       ANNE-MARIE            9.2M            3.691\n",
              "108                     Awez Darbar           17.8M            3.137\n",
              "239        Divyanka Tripathi Dahiya           18.9M            0.890"
            ],
            "text/html": [
              "\n",
              "  <div id=\"df-b4da0ebd-ddac-4fa1-b535-6abd71673006\">\n",
              "    <div class=\"colab-df-container\">\n",
              "      <div>\n",
              "<style scoped>\n",
              "    .dataframe tbody tr th:only-of-type {\n",
              "        vertical-align: middle;\n",
              "    }\n",
              "\n",
              "    .dataframe tbody tr th {\n",
              "        vertical-align: top;\n",
              "    }\n",
              "\n",
              "    .dataframe thead th {\n",
              "        text-align: right;\n",
              "    }\n",
              "</style>\n",
              "<table border=\"1\" class=\"dataframe\">\n",
              "  <thead>\n",
              "    <tr style=\"text-align: right;\">\n",
              "      <th></th>\n",
              "      <th>Influencer_Name</th>\n",
              "      <th>Followers_Count</th>\n",
              "      <th>Engagement Rate</th>\n",
              "    </tr>\n",
              "  </thead>\n",
              "  <tbody>\n",
              "    <tr>\n",
              "      <th>786</th>\n",
              "      <td>𝐑𝐨𝐡𝐢𝐭 𝐙𝐢𝐧𝐣𝐮𝐫𝐤𝐞 ~ 𝐫𝐞𝐚𝐜𝐭𝐢𝐨𝐧𝐛𝐨𝐢 💫</td>\n",
              "      <td>21.2M</td>\n",
              "      <td>5.189</td>\n",
              "    </tr>\n",
              "    <tr>\n",
              "      <th>73</th>\n",
              "      <td>ANNE-MARIE</td>\n",
              "      <td>9.2M</td>\n",
              "      <td>3.691</td>\n",
              "    </tr>\n",
              "    <tr>\n",
              "      <th>108</th>\n",
              "      <td>Awez Darbar</td>\n",
              "      <td>17.8M</td>\n",
              "      <td>3.137</td>\n",
              "    </tr>\n",
              "    <tr>\n",
              "      <th>239</th>\n",
              "      <td>Divyanka Tripathi Dahiya</td>\n",
              "      <td>18.9M</td>\n",
              "      <td>0.890</td>\n",
              "    </tr>\n",
              "  </tbody>\n",
              "</table>\n",
              "</div>\n",
              "      <button class=\"colab-df-convert\" onclick=\"convertToInteractive('df-b4da0ebd-ddac-4fa1-b535-6abd71673006')\"\n",
              "              title=\"Convert this dataframe to an interactive table.\"\n",
              "              style=\"display:none;\">\n",
              "        \n",
              "  <svg xmlns=\"http://www.w3.org/2000/svg\" height=\"24px\"viewBox=\"0 0 24 24\"\n",
              "       width=\"24px\">\n",
              "    <path d=\"M0 0h24v24H0V0z\" fill=\"none\"/>\n",
              "    <path d=\"M18.56 5.44l.94 2.06.94-2.06 2.06-.94-2.06-.94-.94-2.06-.94 2.06-2.06.94zm-11 1L8.5 8.5l.94-2.06 2.06-.94-2.06-.94L8.5 2.5l-.94 2.06-2.06.94zm10 10l.94 2.06.94-2.06 2.06-.94-2.06-.94-.94-2.06-.94 2.06-2.06.94z\"/><path d=\"M17.41 7.96l-1.37-1.37c-.4-.4-.92-.59-1.43-.59-.52 0-1.04.2-1.43.59L10.3 9.45l-7.72 7.72c-.78.78-.78 2.05 0 2.83L4 21.41c.39.39.9.59 1.41.59.51 0 1.02-.2 1.41-.59l7.78-7.78 2.81-2.81c.8-.78.8-2.07 0-2.86zM5.41 20L4 18.59l7.72-7.72 1.47 1.35L5.41 20z\"/>\n",
              "  </svg>\n",
              "      </button>\n",
              "      \n",
              "  <style>\n",
              "    .colab-df-container {\n",
              "      display:flex;\n",
              "      flex-wrap:wrap;\n",
              "      gap: 12px;\n",
              "    }\n",
              "\n",
              "    .colab-df-convert {\n",
              "      background-color: #E8F0FE;\n",
              "      border: none;\n",
              "      border-radius: 50%;\n",
              "      cursor: pointer;\n",
              "      display: none;\n",
              "      fill: #1967D2;\n",
              "      height: 32px;\n",
              "      padding: 0 0 0 0;\n",
              "      width: 32px;\n",
              "    }\n",
              "\n",
              "    .colab-df-convert:hover {\n",
              "      background-color: #E2EBFA;\n",
              "      box-shadow: 0px 1px 2px rgba(60, 64, 67, 0.3), 0px 1px 3px 1px rgba(60, 64, 67, 0.15);\n",
              "      fill: #174EA6;\n",
              "    }\n",
              "\n",
              "    [theme=dark] .colab-df-convert {\n",
              "      background-color: #3B4455;\n",
              "      fill: #D2E3FC;\n",
              "    }\n",
              "\n",
              "    [theme=dark] .colab-df-convert:hover {\n",
              "      background-color: #434B5C;\n",
              "      box-shadow: 0px 1px 3px 1px rgba(0, 0, 0, 0.15);\n",
              "      filter: drop-shadow(0px 1px 2px rgba(0, 0, 0, 0.3));\n",
              "      fill: #FFFFFF;\n",
              "    }\n",
              "  </style>\n",
              "\n",
              "      <script>\n",
              "        const buttonEl =\n",
              "          document.querySelector('#df-b4da0ebd-ddac-4fa1-b535-6abd71673006 button.colab-df-convert');\n",
              "        buttonEl.style.display =\n",
              "          google.colab.kernel.accessAllowed ? 'block' : 'none';\n",
              "\n",
              "        async function convertToInteractive(key) {\n",
              "          const element = document.querySelector('#df-b4da0ebd-ddac-4fa1-b535-6abd71673006');\n",
              "          const dataTable =\n",
              "            await google.colab.kernel.invokeFunction('convertToInteractive',\n",
              "                                                     [key], {});\n",
              "          if (!dataTable) return;\n",
              "\n",
              "          const docLinkHtml = 'Like what you see? Visit the ' +\n",
              "            '<a target=\"_blank\" href=https://colab.research.google.com/notebooks/data_table.ipynb>data table notebook</a>'\n",
              "            + ' to learn more about interactive tables.';\n",
              "          element.innerHTML = '';\n",
              "          dataTable['output_type'] = 'display_data';\n",
              "          await google.colab.output.renderOutput(dataTable, element);\n",
              "          const docLink = document.createElement('div');\n",
              "          docLink.innerHTML = docLinkHtml;\n",
              "          element.appendChild(docLink);\n",
              "        }\n",
              "      </script>\n",
              "    </div>\n",
              "  </div>\n",
              "  "
            ]
          },
          "metadata": {},
          "execution_count": 193
        }
      ],
      "source": [
        "for_mini_followers_instagram('India','Shows')"
      ],
      "id": "7e8a36b0"
    },
    {
      "cell_type": "code",
      "execution_count": null,
      "metadata": {
        "execution": {
          "iopub.execute_input": "2022-04-23T06:31:16.082389Z",
          "iopub.status.busy": "2022-04-23T06:31:16.082100Z",
          "iopub.status.idle": "2022-04-23T06:31:16.096214Z",
          "shell.execute_reply": "2022-04-23T06:31:16.095622Z"
        },
        "papermill": {
          "duration": 0.101982,
          "end_time": "2022-04-23T06:31:16.097968",
          "exception": false,
          "start_time": "2022-04-23T06:31:15.995986",
          "status": "completed"
        },
        "tags": [],
        "id": "7abb0145",
        "colab": {
          "base_uri": "https://localhost:8080/",
          "height": 488
        },
        "outputId": "a4c45faa-bafb-4497-b1e0-cd34859de3b4"
      },
      "outputs": [
        {
          "output_type": "execute_result",
          "data": {
            "text/plain": [
              "            Influencer_Name Followers_Count  Engagement Rate\n",
              "653                    Nani            4.8M           11.646\n",
              "836         Smriti Mandhana            5.9M           10.808\n",
              "825            Shreyas Iyer            5.9M            9.758\n",
              "774            Rishabh Pant            6.1M            9.666\n",
              "752               KL Rahul👑           11.9M            6.626\n",
              "343  Hardik Himanshu Pandya           20.6M            5.340\n",
              "785            Rohit Sharma           23.3M            5.150\n",
              "15           AB de Villiers           17.2M            3.581\n",
              "222            David Warner            9.1M            3.074\n",
              "822          Shikhar Dhawan           10.8M            2.763\n",
              "797        Sachin Tendulkar           33.5M            1.194\n",
              "385              Team India           23.9M            1.089\n",
              "300          FIFA World Cup           25.5M            0.428\n",
              "461                Juventus           52.9M            0.169"
            ],
            "text/html": [
              "\n",
              "  <div id=\"df-f5762571-5b38-4833-8a8b-cf436fe9e2d2\">\n",
              "    <div class=\"colab-df-container\">\n",
              "      <div>\n",
              "<style scoped>\n",
              "    .dataframe tbody tr th:only-of-type {\n",
              "        vertical-align: middle;\n",
              "    }\n",
              "\n",
              "    .dataframe tbody tr th {\n",
              "        vertical-align: top;\n",
              "    }\n",
              "\n",
              "    .dataframe thead th {\n",
              "        text-align: right;\n",
              "    }\n",
              "</style>\n",
              "<table border=\"1\" class=\"dataframe\">\n",
              "  <thead>\n",
              "    <tr style=\"text-align: right;\">\n",
              "      <th></th>\n",
              "      <th>Influencer_Name</th>\n",
              "      <th>Followers_Count</th>\n",
              "      <th>Engagement Rate</th>\n",
              "    </tr>\n",
              "  </thead>\n",
              "  <tbody>\n",
              "    <tr>\n",
              "      <th>653</th>\n",
              "      <td>Nani</td>\n",
              "      <td>4.8M</td>\n",
              "      <td>11.646</td>\n",
              "    </tr>\n",
              "    <tr>\n",
              "      <th>836</th>\n",
              "      <td>Smriti Mandhana</td>\n",
              "      <td>5.9M</td>\n",
              "      <td>10.808</td>\n",
              "    </tr>\n",
              "    <tr>\n",
              "      <th>825</th>\n",
              "      <td>Shreyas Iyer</td>\n",
              "      <td>5.9M</td>\n",
              "      <td>9.758</td>\n",
              "    </tr>\n",
              "    <tr>\n",
              "      <th>774</th>\n",
              "      <td>Rishabh Pant</td>\n",
              "      <td>6.1M</td>\n",
              "      <td>9.666</td>\n",
              "    </tr>\n",
              "    <tr>\n",
              "      <th>752</th>\n",
              "      <td>KL Rahul👑</td>\n",
              "      <td>11.9M</td>\n",
              "      <td>6.626</td>\n",
              "    </tr>\n",
              "    <tr>\n",
              "      <th>343</th>\n",
              "      <td>Hardik Himanshu Pandya</td>\n",
              "      <td>20.6M</td>\n",
              "      <td>5.340</td>\n",
              "    </tr>\n",
              "    <tr>\n",
              "      <th>785</th>\n",
              "      <td>Rohit Sharma</td>\n",
              "      <td>23.3M</td>\n",
              "      <td>5.150</td>\n",
              "    </tr>\n",
              "    <tr>\n",
              "      <th>15</th>\n",
              "      <td>AB de Villiers</td>\n",
              "      <td>17.2M</td>\n",
              "      <td>3.581</td>\n",
              "    </tr>\n",
              "    <tr>\n",
              "      <th>222</th>\n",
              "      <td>David Warner</td>\n",
              "      <td>9.1M</td>\n",
              "      <td>3.074</td>\n",
              "    </tr>\n",
              "    <tr>\n",
              "      <th>822</th>\n",
              "      <td>Shikhar Dhawan</td>\n",
              "      <td>10.8M</td>\n",
              "      <td>2.763</td>\n",
              "    </tr>\n",
              "    <tr>\n",
              "      <th>797</th>\n",
              "      <td>Sachin Tendulkar</td>\n",
              "      <td>33.5M</td>\n",
              "      <td>1.194</td>\n",
              "    </tr>\n",
              "    <tr>\n",
              "      <th>385</th>\n",
              "      <td>Team India</td>\n",
              "      <td>23.9M</td>\n",
              "      <td>1.089</td>\n",
              "    </tr>\n",
              "    <tr>\n",
              "      <th>300</th>\n",
              "      <td>FIFA World Cup</td>\n",
              "      <td>25.5M</td>\n",
              "      <td>0.428</td>\n",
              "    </tr>\n",
              "    <tr>\n",
              "      <th>461</th>\n",
              "      <td>Juventus</td>\n",
              "      <td>52.9M</td>\n",
              "      <td>0.169</td>\n",
              "    </tr>\n",
              "  </tbody>\n",
              "</table>\n",
              "</div>\n",
              "      <button class=\"colab-df-convert\" onclick=\"convertToInteractive('df-f5762571-5b38-4833-8a8b-cf436fe9e2d2')\"\n",
              "              title=\"Convert this dataframe to an interactive table.\"\n",
              "              style=\"display:none;\">\n",
              "        \n",
              "  <svg xmlns=\"http://www.w3.org/2000/svg\" height=\"24px\"viewBox=\"0 0 24 24\"\n",
              "       width=\"24px\">\n",
              "    <path d=\"M0 0h24v24H0V0z\" fill=\"none\"/>\n",
              "    <path d=\"M18.56 5.44l.94 2.06.94-2.06 2.06-.94-2.06-.94-.94-2.06-.94 2.06-2.06.94zm-11 1L8.5 8.5l.94-2.06 2.06-.94-2.06-.94L8.5 2.5l-.94 2.06-2.06.94zm10 10l.94 2.06.94-2.06 2.06-.94-2.06-.94-.94-2.06-.94 2.06-2.06.94z\"/><path d=\"M17.41 7.96l-1.37-1.37c-.4-.4-.92-.59-1.43-.59-.52 0-1.04.2-1.43.59L10.3 9.45l-7.72 7.72c-.78.78-.78 2.05 0 2.83L4 21.41c.39.39.9.59 1.41.59.51 0 1.02-.2 1.41-.59l7.78-7.78 2.81-2.81c.8-.78.8-2.07 0-2.86zM5.41 20L4 18.59l7.72-7.72 1.47 1.35L5.41 20z\"/>\n",
              "  </svg>\n",
              "      </button>\n",
              "      \n",
              "  <style>\n",
              "    .colab-df-container {\n",
              "      display:flex;\n",
              "      flex-wrap:wrap;\n",
              "      gap: 12px;\n",
              "    }\n",
              "\n",
              "    .colab-df-convert {\n",
              "      background-color: #E8F0FE;\n",
              "      border: none;\n",
              "      border-radius: 50%;\n",
              "      cursor: pointer;\n",
              "      display: none;\n",
              "      fill: #1967D2;\n",
              "      height: 32px;\n",
              "      padding: 0 0 0 0;\n",
              "      width: 32px;\n",
              "    }\n",
              "\n",
              "    .colab-df-convert:hover {\n",
              "      background-color: #E2EBFA;\n",
              "      box-shadow: 0px 1px 2px rgba(60, 64, 67, 0.3), 0px 1px 3px 1px rgba(60, 64, 67, 0.15);\n",
              "      fill: #174EA6;\n",
              "    }\n",
              "\n",
              "    [theme=dark] .colab-df-convert {\n",
              "      background-color: #3B4455;\n",
              "      fill: #D2E3FC;\n",
              "    }\n",
              "\n",
              "    [theme=dark] .colab-df-convert:hover {\n",
              "      background-color: #434B5C;\n",
              "      box-shadow: 0px 1px 3px 1px rgba(0, 0, 0, 0.15);\n",
              "      filter: drop-shadow(0px 1px 2px rgba(0, 0, 0, 0.3));\n",
              "      fill: #FFFFFF;\n",
              "    }\n",
              "  </style>\n",
              "\n",
              "      <script>\n",
              "        const buttonEl =\n",
              "          document.querySelector('#df-f5762571-5b38-4833-8a8b-cf436fe9e2d2 button.colab-df-convert');\n",
              "        buttonEl.style.display =\n",
              "          google.colab.kernel.accessAllowed ? 'block' : 'none';\n",
              "\n",
              "        async function convertToInteractive(key) {\n",
              "          const element = document.querySelector('#df-f5762571-5b38-4833-8a8b-cf436fe9e2d2');\n",
              "          const dataTable =\n",
              "            await google.colab.kernel.invokeFunction('convertToInteractive',\n",
              "                                                     [key], {});\n",
              "          if (!dataTable) return;\n",
              "\n",
              "          const docLinkHtml = 'Like what you see? Visit the ' +\n",
              "            '<a target=\"_blank\" href=https://colab.research.google.com/notebooks/data_table.ipynb>data table notebook</a>'\n",
              "            + ' to learn more about interactive tables.';\n",
              "          element.innerHTML = '';\n",
              "          dataTable['output_type'] = 'display_data';\n",
              "          await google.colab.output.renderOutput(dataTable, element);\n",
              "          const docLink = document.createElement('div');\n",
              "          docLink.innerHTML = docLinkHtml;\n",
              "          element.appendChild(docLink);\n",
              "        }\n",
              "      </script>\n",
              "    </div>\n",
              "  </div>\n",
              "  "
            ]
          },
          "metadata": {},
          "execution_count": 194
        }
      ],
      "source": [
        " for_mini_followers_instagram('India','Sports with a ball')"
      ],
      "id": "7abb0145"
    },
    {
      "cell_type": "code",
      "execution_count": null,
      "metadata": {
        "execution": {
          "iopub.execute_input": "2022-04-23T06:31:16.269385Z",
          "iopub.status.busy": "2022-04-23T06:31:16.268916Z",
          "iopub.status.idle": "2022-04-23T06:31:16.283560Z",
          "shell.execute_reply": "2022-04-23T06:31:16.282617Z"
        },
        "papermill": {
          "duration": 0.102494,
          "end_time": "2022-04-23T06:31:16.285821",
          "exception": false,
          "start_time": "2022-04-23T06:31:16.183327",
          "status": "completed"
        },
        "tags": [],
        "id": "82a4f496",
        "colab": {
          "base_uri": "https://localhost:8080/",
          "height": 112
        },
        "outputId": "782a4bda-de95-45d2-8d53-15b2e77208d6"
      },
      "outputs": [
        {
          "output_type": "execute_result",
          "data": {
            "text/plain": [
              "       Influencer_Name Followers_Count  Engagement Rate\n",
              "943        Virat Kohli          188.1M            1.808\n",
              "203  Cristiano Ronaldo          419.6M            1.668"
            ],
            "text/html": [
              "\n",
              "  <div id=\"df-98737a07-5512-4d8d-b694-1376e666629e\">\n",
              "    <div class=\"colab-df-container\">\n",
              "      <div>\n",
              "<style scoped>\n",
              "    .dataframe tbody tr th:only-of-type {\n",
              "        vertical-align: middle;\n",
              "    }\n",
              "\n",
              "    .dataframe tbody tr th {\n",
              "        vertical-align: top;\n",
              "    }\n",
              "\n",
              "    .dataframe thead th {\n",
              "        text-align: right;\n",
              "    }\n",
              "</style>\n",
              "<table border=\"1\" class=\"dataframe\">\n",
              "  <thead>\n",
              "    <tr style=\"text-align: right;\">\n",
              "      <th></th>\n",
              "      <th>Influencer_Name</th>\n",
              "      <th>Followers_Count</th>\n",
              "      <th>Engagement Rate</th>\n",
              "    </tr>\n",
              "  </thead>\n",
              "  <tbody>\n",
              "    <tr>\n",
              "      <th>943</th>\n",
              "      <td>Virat Kohli</td>\n",
              "      <td>188.1M</td>\n",
              "      <td>1.808</td>\n",
              "    </tr>\n",
              "    <tr>\n",
              "      <th>203</th>\n",
              "      <td>Cristiano Ronaldo</td>\n",
              "      <td>419.6M</td>\n",
              "      <td>1.668</td>\n",
              "    </tr>\n",
              "  </tbody>\n",
              "</table>\n",
              "</div>\n",
              "      <button class=\"colab-df-convert\" onclick=\"convertToInteractive('df-98737a07-5512-4d8d-b694-1376e666629e')\"\n",
              "              title=\"Convert this dataframe to an interactive table.\"\n",
              "              style=\"display:none;\">\n",
              "        \n",
              "  <svg xmlns=\"http://www.w3.org/2000/svg\" height=\"24px\"viewBox=\"0 0 24 24\"\n",
              "       width=\"24px\">\n",
              "    <path d=\"M0 0h24v24H0V0z\" fill=\"none\"/>\n",
              "    <path d=\"M18.56 5.44l.94 2.06.94-2.06 2.06-.94-2.06-.94-.94-2.06-.94 2.06-2.06.94zm-11 1L8.5 8.5l.94-2.06 2.06-.94-2.06-.94L8.5 2.5l-.94 2.06-2.06.94zm10 10l.94 2.06.94-2.06 2.06-.94-2.06-.94-.94-2.06-.94 2.06-2.06.94z\"/><path d=\"M17.41 7.96l-1.37-1.37c-.4-.4-.92-.59-1.43-.59-.52 0-1.04.2-1.43.59L10.3 9.45l-7.72 7.72c-.78.78-.78 2.05 0 2.83L4 21.41c.39.39.9.59 1.41.59.51 0 1.02-.2 1.41-.59l7.78-7.78 2.81-2.81c.8-.78.8-2.07 0-2.86zM5.41 20L4 18.59l7.72-7.72 1.47 1.35L5.41 20z\"/>\n",
              "  </svg>\n",
              "      </button>\n",
              "      \n",
              "  <style>\n",
              "    .colab-df-container {\n",
              "      display:flex;\n",
              "      flex-wrap:wrap;\n",
              "      gap: 12px;\n",
              "    }\n",
              "\n",
              "    .colab-df-convert {\n",
              "      background-color: #E8F0FE;\n",
              "      border: none;\n",
              "      border-radius: 50%;\n",
              "      cursor: pointer;\n",
              "      display: none;\n",
              "      fill: #1967D2;\n",
              "      height: 32px;\n",
              "      padding: 0 0 0 0;\n",
              "      width: 32px;\n",
              "    }\n",
              "\n",
              "    .colab-df-convert:hover {\n",
              "      background-color: #E2EBFA;\n",
              "      box-shadow: 0px 1px 2px rgba(60, 64, 67, 0.3), 0px 1px 3px 1px rgba(60, 64, 67, 0.15);\n",
              "      fill: #174EA6;\n",
              "    }\n",
              "\n",
              "    [theme=dark] .colab-df-convert {\n",
              "      background-color: #3B4455;\n",
              "      fill: #D2E3FC;\n",
              "    }\n",
              "\n",
              "    [theme=dark] .colab-df-convert:hover {\n",
              "      background-color: #434B5C;\n",
              "      box-shadow: 0px 1px 3px 1px rgba(0, 0, 0, 0.15);\n",
              "      filter: drop-shadow(0px 1px 2px rgba(0, 0, 0, 0.3));\n",
              "      fill: #FFFFFF;\n",
              "    }\n",
              "  </style>\n",
              "\n",
              "      <script>\n",
              "        const buttonEl =\n",
              "          document.querySelector('#df-98737a07-5512-4d8d-b694-1376e666629e button.colab-df-convert');\n",
              "        buttonEl.style.display =\n",
              "          google.colab.kernel.accessAllowed ? 'block' : 'none';\n",
              "\n",
              "        async function convertToInteractive(key) {\n",
              "          const element = document.querySelector('#df-98737a07-5512-4d8d-b694-1376e666629e');\n",
              "          const dataTable =\n",
              "            await google.colab.kernel.invokeFunction('convertToInteractive',\n",
              "                                                     [key], {});\n",
              "          if (!dataTable) return;\n",
              "\n",
              "          const docLinkHtml = 'Like what you see? Visit the ' +\n",
              "            '<a target=\"_blank\" href=https://colab.research.google.com/notebooks/data_table.ipynb>data table notebook</a>'\n",
              "            + ' to learn more about interactive tables.';\n",
              "          element.innerHTML = '';\n",
              "          dataTable['output_type'] = 'display_data';\n",
              "          await google.colab.output.renderOutput(dataTable, element);\n",
              "          const docLink = document.createElement('div');\n",
              "          docLink.innerHTML = docLinkHtml;\n",
              "          element.appendChild(docLink);\n",
              "        }\n",
              "      </script>\n",
              "    </div>\n",
              "  </div>\n",
              "  "
            ]
          },
          "metadata": {},
          "execution_count": 195
        }
      ],
      "source": [
        "for_mega_followers_instagram('India','Sports with a ball')"
      ],
      "id": "82a4f496"
    },
    {
      "cell_type": "code",
      "execution_count": null,
      "metadata": {
        "execution": {
          "iopub.execute_input": "2022-04-23T06:31:16.458412Z",
          "iopub.status.busy": "2022-04-23T06:31:16.457999Z",
          "iopub.status.idle": "2022-04-23T06:31:16.469687Z",
          "shell.execute_reply": "2022-04-23T06:31:16.468913Z"
        },
        "papermill": {
          "duration": 0.099128,
          "end_time": "2022-04-23T06:31:16.471506",
          "exception": false,
          "start_time": "2022-04-23T06:31:16.372378",
          "status": "completed"
        },
        "tags": [],
        "id": "c73a5cc6",
        "colab": {
          "base_uri": "https://localhost:8080/",
          "height": 143
        },
        "outputId": "1ce6dffe-5610-47e3-cae8-671617210a56"
      },
      "outputs": [
        {
          "output_type": "execute_result",
          "data": {
            "text/plain": [
              "  Youtuber_Name                Channel_Name       Category Subscribers_Count  \\\n",
              "0       tseries                    T-Series  Music & Dance            212.1M   \n",
              "1     checkgate  Cocomelon - Nursery Rhymes      Education            132.1M   \n",
              "2      setindia                   SET India            NaN            130.4M   \n",
              "\n",
              "  Audience_Country Avg_Views Avg_Likes Avg_Comments  \n",
              "0            India    323.7K      9.8K          290  \n",
              "1              NaN     13.8M     80.9K          NaN  \n",
              "2            India     23.6K       314           21  "
            ],
            "text/html": [
              "\n",
              "  <div id=\"df-1aa27519-2f10-464f-a15f-480912282646\">\n",
              "    <div class=\"colab-df-container\">\n",
              "      <div>\n",
              "<style scoped>\n",
              "    .dataframe tbody tr th:only-of-type {\n",
              "        vertical-align: middle;\n",
              "    }\n",
              "\n",
              "    .dataframe tbody tr th {\n",
              "        vertical-align: top;\n",
              "    }\n",
              "\n",
              "    .dataframe thead th {\n",
              "        text-align: right;\n",
              "    }\n",
              "</style>\n",
              "<table border=\"1\" class=\"dataframe\">\n",
              "  <thead>\n",
              "    <tr style=\"text-align: right;\">\n",
              "      <th></th>\n",
              "      <th>Youtuber_Name</th>\n",
              "      <th>Channel_Name</th>\n",
              "      <th>Category</th>\n",
              "      <th>Subscribers_Count</th>\n",
              "      <th>Audience_Country</th>\n",
              "      <th>Avg_Views</th>\n",
              "      <th>Avg_Likes</th>\n",
              "      <th>Avg_Comments</th>\n",
              "    </tr>\n",
              "  </thead>\n",
              "  <tbody>\n",
              "    <tr>\n",
              "      <th>0</th>\n",
              "      <td>tseries</td>\n",
              "      <td>T-Series</td>\n",
              "      <td>Music &amp; Dance</td>\n",
              "      <td>212.1M</td>\n",
              "      <td>India</td>\n",
              "      <td>323.7K</td>\n",
              "      <td>9.8K</td>\n",
              "      <td>290</td>\n",
              "    </tr>\n",
              "    <tr>\n",
              "      <th>1</th>\n",
              "      <td>checkgate</td>\n",
              "      <td>Cocomelon - Nursery Rhymes</td>\n",
              "      <td>Education</td>\n",
              "      <td>132.1M</td>\n",
              "      <td>NaN</td>\n",
              "      <td>13.8M</td>\n",
              "      <td>80.9K</td>\n",
              "      <td>NaN</td>\n",
              "    </tr>\n",
              "    <tr>\n",
              "      <th>2</th>\n",
              "      <td>setindia</td>\n",
              "      <td>SET India</td>\n",
              "      <td>NaN</td>\n",
              "      <td>130.4M</td>\n",
              "      <td>India</td>\n",
              "      <td>23.6K</td>\n",
              "      <td>314</td>\n",
              "      <td>21</td>\n",
              "    </tr>\n",
              "  </tbody>\n",
              "</table>\n",
              "</div>\n",
              "      <button class=\"colab-df-convert\" onclick=\"convertToInteractive('df-1aa27519-2f10-464f-a15f-480912282646')\"\n",
              "              title=\"Convert this dataframe to an interactive table.\"\n",
              "              style=\"display:none;\">\n",
              "        \n",
              "  <svg xmlns=\"http://www.w3.org/2000/svg\" height=\"24px\"viewBox=\"0 0 24 24\"\n",
              "       width=\"24px\">\n",
              "    <path d=\"M0 0h24v24H0V0z\" fill=\"none\"/>\n",
              "    <path d=\"M18.56 5.44l.94 2.06.94-2.06 2.06-.94-2.06-.94-.94-2.06-.94 2.06-2.06.94zm-11 1L8.5 8.5l.94-2.06 2.06-.94-2.06-.94L8.5 2.5l-.94 2.06-2.06.94zm10 10l.94 2.06.94-2.06 2.06-.94-2.06-.94-.94-2.06-.94 2.06-2.06.94z\"/><path d=\"M17.41 7.96l-1.37-1.37c-.4-.4-.92-.59-1.43-.59-.52 0-1.04.2-1.43.59L10.3 9.45l-7.72 7.72c-.78.78-.78 2.05 0 2.83L4 21.41c.39.39.9.59 1.41.59.51 0 1.02-.2 1.41-.59l7.78-7.78 2.81-2.81c.8-.78.8-2.07 0-2.86zM5.41 20L4 18.59l7.72-7.72 1.47 1.35L5.41 20z\"/>\n",
              "  </svg>\n",
              "      </button>\n",
              "      \n",
              "  <style>\n",
              "    .colab-df-container {\n",
              "      display:flex;\n",
              "      flex-wrap:wrap;\n",
              "      gap: 12px;\n",
              "    }\n",
              "\n",
              "    .colab-df-convert {\n",
              "      background-color: #E8F0FE;\n",
              "      border: none;\n",
              "      border-radius: 50%;\n",
              "      cursor: pointer;\n",
              "      display: none;\n",
              "      fill: #1967D2;\n",
              "      height: 32px;\n",
              "      padding: 0 0 0 0;\n",
              "      width: 32px;\n",
              "    }\n",
              "\n",
              "    .colab-df-convert:hover {\n",
              "      background-color: #E2EBFA;\n",
              "      box-shadow: 0px 1px 2px rgba(60, 64, 67, 0.3), 0px 1px 3px 1px rgba(60, 64, 67, 0.15);\n",
              "      fill: #174EA6;\n",
              "    }\n",
              "\n",
              "    [theme=dark] .colab-df-convert {\n",
              "      background-color: #3B4455;\n",
              "      fill: #D2E3FC;\n",
              "    }\n",
              "\n",
              "    [theme=dark] .colab-df-convert:hover {\n",
              "      background-color: #434B5C;\n",
              "      box-shadow: 0px 1px 3px 1px rgba(0, 0, 0, 0.15);\n",
              "      filter: drop-shadow(0px 1px 2px rgba(0, 0, 0, 0.3));\n",
              "      fill: #FFFFFF;\n",
              "    }\n",
              "  </style>\n",
              "\n",
              "      <script>\n",
              "        const buttonEl =\n",
              "          document.querySelector('#df-1aa27519-2f10-464f-a15f-480912282646 button.colab-df-convert');\n",
              "        buttonEl.style.display =\n",
              "          google.colab.kernel.accessAllowed ? 'block' : 'none';\n",
              "\n",
              "        async function convertToInteractive(key) {\n",
              "          const element = document.querySelector('#df-1aa27519-2f10-464f-a15f-480912282646');\n",
              "          const dataTable =\n",
              "            await google.colab.kernel.invokeFunction('convertToInteractive',\n",
              "                                                     [key], {});\n",
              "          if (!dataTable) return;\n",
              "\n",
              "          const docLinkHtml = 'Like what you see? Visit the ' +\n",
              "            '<a target=\"_blank\" href=https://colab.research.google.com/notebooks/data_table.ipynb>data table notebook</a>'\n",
              "            + ' to learn more about interactive tables.';\n",
              "          element.innerHTML = '';\n",
              "          dataTable['output_type'] = 'display_data';\n",
              "          await google.colab.output.renderOutput(dataTable, element);\n",
              "          const docLink = document.createElement('div');\n",
              "          docLink.innerHTML = docLinkHtml;\n",
              "          element.appendChild(docLink);\n",
              "        }\n",
              "      </script>\n",
              "    </div>\n",
              "  </div>\n",
              "  "
            ]
          },
          "metadata": {},
          "execution_count": 196
        }
      ],
      "source": [
        "df_y.head(3)"
      ],
      "id": "c73a5cc6"
    },
    {
      "cell_type": "code",
      "execution_count": null,
      "metadata": {
        "execution": {
          "iopub.execute_input": "2022-04-23T06:31:16.642194Z",
          "iopub.status.busy": "2022-04-23T06:31:16.641793Z",
          "iopub.status.idle": "2022-04-23T06:31:16.649319Z",
          "shell.execute_reply": "2022-04-23T06:31:16.648507Z"
        },
        "papermill": {
          "duration": 0.095065,
          "end_time": "2022-04-23T06:31:16.650989",
          "exception": false,
          "start_time": "2022-04-23T06:31:16.555924",
          "status": "completed"
        },
        "tags": [],
        "id": "bcb3e595",
        "colab": {
          "base_uri": "https://localhost:8080/"
        },
        "outputId": "647a4682-4ee1-4f66-99e2-70e655d95496"
      },
      "outputs": [
        {
          "output_type": "execute_result",
          "data": {
            "text/plain": [
              "Youtuber_Name          0\n",
              "Channel_Name           0\n",
              "Category             276\n",
              "Subscribers_Count      0\n",
              "Audience_Country     161\n",
              "Avg_Views              0\n",
              "Avg_Likes             38\n",
              "Avg_Comments         209\n",
              "dtype: int64"
            ]
          },
          "metadata": {},
          "execution_count": 197
        }
      ],
      "source": [
        "df_y.isnull().sum()"
      ],
      "id": "bcb3e595"
    },
    {
      "cell_type": "markdown",
      "metadata": {
        "papermill": {
          "duration": 0.086108,
          "end_time": "2022-04-23T06:31:16.822846",
          "exception": false,
          "start_time": "2022-04-23T06:31:16.736738",
          "status": "completed"
        },
        "tags": [],
        "id": "22f50afc"
      },
      "source": [
        "#### Due to nan values we have to remove some data but, in reality you can collect this data easily"
      ],
      "id": "22f50afc"
    },
    {
      "cell_type": "code",
      "execution_count": null,
      "metadata": {
        "execution": {
          "iopub.execute_input": "2022-04-23T06:31:16.993931Z",
          "iopub.status.busy": "2022-04-23T06:31:16.993688Z",
          "iopub.status.idle": "2022-04-23T06:31:17.002847Z",
          "shell.execute_reply": "2022-04-23T06:31:17.002334Z"
        },
        "papermill": {
          "duration": 0.0967,
          "end_time": "2022-04-23T06:31:17.004424",
          "exception": false,
          "start_time": "2022-04-23T06:31:16.907724",
          "status": "completed"
        },
        "tags": [],
        "id": "e84be971",
        "colab": {
          "base_uri": "https://localhost:8080/"
        },
        "outputId": "32e305b4-4c96-4f5e-b251-6cced82d9fe2"
      },
      "outputs": [
        {
          "output_type": "execute_result",
          "data": {
            "text/plain": [
              "Youtuber_Name          0\n",
              "Channel_Name           0\n",
              "Category             215\n",
              "Subscribers_Count      0\n",
              "Audience_Country       0\n",
              "Avg_Views              0\n",
              "Avg_Likes              0\n",
              "Avg_Comments           0\n",
              "dtype: int64"
            ]
          },
          "metadata": {},
          "execution_count": 198
        }
      ],
      "source": [
        "df_y.dropna(axis=0,how='any',subset=['Avg_Likes','Avg_Comments']).isnull().sum()"
      ],
      "id": "e84be971"
    },
    {
      "cell_type": "code",
      "execution_count": null,
      "metadata": {
        "execution": {
          "iopub.execute_input": "2022-04-23T06:31:17.353449Z",
          "iopub.status.busy": "2022-04-23T06:31:17.352949Z",
          "iopub.status.idle": "2022-04-23T06:31:17.358626Z",
          "shell.execute_reply": "2022-04-23T06:31:17.358052Z"
        },
        "papermill": {
          "duration": 0.094193,
          "end_time": "2022-04-23T06:31:17.360446",
          "exception": false,
          "start_time": "2022-04-23T06:31:17.266253",
          "status": "completed"
        },
        "tags": [],
        "id": "4322450a"
      },
      "outputs": [],
      "source": [
        "df_y.dropna(axis=0,how='any',subset=['Avg_Likes','Avg_Comments'],inplace=True)"
      ],
      "id": "4322450a"
    },
    {
      "cell_type": "code",
      "source": [
        "ly=['Subscribers_Count','Avg_Views', 'Avg_Likes', 'Avg_Comments']"
      ],
      "metadata": {
        "id": "EdX9VAuy7a5F"
      },
      "execution_count": null,
      "outputs": [],
      "id": "EdX9VAuy7a5F"
    },
    {
      "cell_type": "code",
      "execution_count": null,
      "metadata": {
        "execution": {
          "iopub.execute_input": "2022-04-23T06:31:17.533124Z",
          "iopub.status.busy": "2022-04-23T06:31:17.532655Z",
          "iopub.status.idle": "2022-04-23T06:31:17.565955Z",
          "shell.execute_reply": "2022-04-23T06:31:17.565412Z"
        },
        "papermill": {
          "duration": 0.121844,
          "end_time": "2022-04-23T06:31:17.567853",
          "exception": false,
          "start_time": "2022-04-23T06:31:17.446009",
          "status": "completed"
        },
        "tags": [],
        "id": "6107e5fe",
        "colab": {
          "base_uri": "https://localhost:8080/",
          "height": 557
        },
        "outputId": "0c80f571-0f33-41a1-fd79-9c77681b7d16"
      },
      "outputs": [
        {
          "output_type": "execute_result",
          "data": {
            "text/plain": [
              "    Youtuber_Name Channel_Name       Category Subscribers_Count  \\\n",
              "0         tseries     T-Series  Music & Dance            212.1M   \n",
              "2        setindia    SET India            NaN            130.4M   \n",
              "3       PewDiePie    PewDiePie      Animation            111.4M   \n",
              "4     MrBeast6000      MrBeast    Video games             92.5M   \n",
              "7    WWEFanNation          WWE    Video games             86.9M   \n",
              "..            ...          ...            ...               ...   \n",
              "995   FutParódias  FutParódias  Music & Dance              9.2M   \n",
              "996       EL GATO      EL GATO           Toys              9.2M   \n",
              "997    CinemaSins   CinemaSins         Movies              9.2M   \n",
              "998    CricketICC          ICC         Sports              9.2M   \n",
              "999       BRKsEDU      BRKsEDU      Animation              9.2M   \n",
              "\n",
              "    Audience_Country Avg_Views Avg_Likes Avg_Comments  newSubscribers_Count  \\\n",
              "0              India    323.7K      9.8K          290           212100000.0   \n",
              "2              India     23.6K       314           21           130400000.0   \n",
              "3      United States      1.4M     80.8K         4.6K           111400000.0   \n",
              "4      United States     30.6M      1.7M        67.7K            92500000.0   \n",
              "7      United States     76.6K      2.8K          163            86900000.0   \n",
              "..               ...       ...       ...          ...                   ...   \n",
              "995           Brazil      1.4M    110.1K         2.5K             9200000.0   \n",
              "996           Brazil    243.8K     30.7K          636             9200000.0   \n",
              "997    United States      296K     10.2K          874             9200000.0   \n",
              "998            India     15.2K       854           58             9200000.0   \n",
              "999           Brazil    112.3K      9.8K          246             9200000.0   \n",
              "\n",
              "     newAvg_Views  newAvg_Likes  newAvg_Comments  \n",
              "0        323700.0        9800.0            290.0  \n",
              "2         23600.0         314.0             21.0  \n",
              "3       1400000.0       80800.0           4600.0  \n",
              "4      30600000.0     1700000.0          67700.0  \n",
              "7         76600.0        2800.0            163.0  \n",
              "..            ...           ...              ...  \n",
              "995     1400000.0      110100.0           2500.0  \n",
              "996      243800.0       30700.0            636.0  \n",
              "997      296000.0       10200.0            874.0  \n",
              "998       15200.0         854.0             58.0  \n",
              "999      112300.0        9800.0            246.0  \n",
              "\n",
              "[786 rows x 12 columns]"
            ],
            "text/html": [
              "\n",
              "  <div id=\"df-3b48bffc-a295-4ad3-b04d-2d5b75a10608\">\n",
              "    <div class=\"colab-df-container\">\n",
              "      <div>\n",
              "<style scoped>\n",
              "    .dataframe tbody tr th:only-of-type {\n",
              "        vertical-align: middle;\n",
              "    }\n",
              "\n",
              "    .dataframe tbody tr th {\n",
              "        vertical-align: top;\n",
              "    }\n",
              "\n",
              "    .dataframe thead th {\n",
              "        text-align: right;\n",
              "    }\n",
              "</style>\n",
              "<table border=\"1\" class=\"dataframe\">\n",
              "  <thead>\n",
              "    <tr style=\"text-align: right;\">\n",
              "      <th></th>\n",
              "      <th>Youtuber_Name</th>\n",
              "      <th>Channel_Name</th>\n",
              "      <th>Category</th>\n",
              "      <th>Subscribers_Count</th>\n",
              "      <th>Audience_Country</th>\n",
              "      <th>Avg_Views</th>\n",
              "      <th>Avg_Likes</th>\n",
              "      <th>Avg_Comments</th>\n",
              "      <th>newSubscribers_Count</th>\n",
              "      <th>newAvg_Views</th>\n",
              "      <th>newAvg_Likes</th>\n",
              "      <th>newAvg_Comments</th>\n",
              "    </tr>\n",
              "  </thead>\n",
              "  <tbody>\n",
              "    <tr>\n",
              "      <th>0</th>\n",
              "      <td>tseries</td>\n",
              "      <td>T-Series</td>\n",
              "      <td>Music &amp; Dance</td>\n",
              "      <td>212.1M</td>\n",
              "      <td>India</td>\n",
              "      <td>323.7K</td>\n",
              "      <td>9.8K</td>\n",
              "      <td>290</td>\n",
              "      <td>212100000.0</td>\n",
              "      <td>323700.0</td>\n",
              "      <td>9800.0</td>\n",
              "      <td>290.0</td>\n",
              "    </tr>\n",
              "    <tr>\n",
              "      <th>2</th>\n",
              "      <td>setindia</td>\n",
              "      <td>SET India</td>\n",
              "      <td>NaN</td>\n",
              "      <td>130.4M</td>\n",
              "      <td>India</td>\n",
              "      <td>23.6K</td>\n",
              "      <td>314</td>\n",
              "      <td>21</td>\n",
              "      <td>130400000.0</td>\n",
              "      <td>23600.0</td>\n",
              "      <td>314.0</td>\n",
              "      <td>21.0</td>\n",
              "    </tr>\n",
              "    <tr>\n",
              "      <th>3</th>\n",
              "      <td>PewDiePie</td>\n",
              "      <td>PewDiePie</td>\n",
              "      <td>Animation</td>\n",
              "      <td>111.4M</td>\n",
              "      <td>United States</td>\n",
              "      <td>1.4M</td>\n",
              "      <td>80.8K</td>\n",
              "      <td>4.6K</td>\n",
              "      <td>111400000.0</td>\n",
              "      <td>1400000.0</td>\n",
              "      <td>80800.0</td>\n",
              "      <td>4600.0</td>\n",
              "    </tr>\n",
              "    <tr>\n",
              "      <th>4</th>\n",
              "      <td>MrBeast6000</td>\n",
              "      <td>MrBeast</td>\n",
              "      <td>Video games</td>\n",
              "      <td>92.5M</td>\n",
              "      <td>United States</td>\n",
              "      <td>30.6M</td>\n",
              "      <td>1.7M</td>\n",
              "      <td>67.7K</td>\n",
              "      <td>92500000.0</td>\n",
              "      <td>30600000.0</td>\n",
              "      <td>1700000.0</td>\n",
              "      <td>67700.0</td>\n",
              "    </tr>\n",
              "    <tr>\n",
              "      <th>7</th>\n",
              "      <td>WWEFanNation</td>\n",
              "      <td>WWE</td>\n",
              "      <td>Video games</td>\n",
              "      <td>86.9M</td>\n",
              "      <td>United States</td>\n",
              "      <td>76.6K</td>\n",
              "      <td>2.8K</td>\n",
              "      <td>163</td>\n",
              "      <td>86900000.0</td>\n",
              "      <td>76600.0</td>\n",
              "      <td>2800.0</td>\n",
              "      <td>163.0</td>\n",
              "    </tr>\n",
              "    <tr>\n",
              "      <th>...</th>\n",
              "      <td>...</td>\n",
              "      <td>...</td>\n",
              "      <td>...</td>\n",
              "      <td>...</td>\n",
              "      <td>...</td>\n",
              "      <td>...</td>\n",
              "      <td>...</td>\n",
              "      <td>...</td>\n",
              "      <td>...</td>\n",
              "      <td>...</td>\n",
              "      <td>...</td>\n",
              "      <td>...</td>\n",
              "    </tr>\n",
              "    <tr>\n",
              "      <th>995</th>\n",
              "      <td>FutParódias</td>\n",
              "      <td>FutParódias</td>\n",
              "      <td>Music &amp; Dance</td>\n",
              "      <td>9.2M</td>\n",
              "      <td>Brazil</td>\n",
              "      <td>1.4M</td>\n",
              "      <td>110.1K</td>\n",
              "      <td>2.5K</td>\n",
              "      <td>9200000.0</td>\n",
              "      <td>1400000.0</td>\n",
              "      <td>110100.0</td>\n",
              "      <td>2500.0</td>\n",
              "    </tr>\n",
              "    <tr>\n",
              "      <th>996</th>\n",
              "      <td>EL GATO</td>\n",
              "      <td>EL GATO</td>\n",
              "      <td>Toys</td>\n",
              "      <td>9.2M</td>\n",
              "      <td>Brazil</td>\n",
              "      <td>243.8K</td>\n",
              "      <td>30.7K</td>\n",
              "      <td>636</td>\n",
              "      <td>9200000.0</td>\n",
              "      <td>243800.0</td>\n",
              "      <td>30700.0</td>\n",
              "      <td>636.0</td>\n",
              "    </tr>\n",
              "    <tr>\n",
              "      <th>997</th>\n",
              "      <td>CinemaSins</td>\n",
              "      <td>CinemaSins</td>\n",
              "      <td>Movies</td>\n",
              "      <td>9.2M</td>\n",
              "      <td>United States</td>\n",
              "      <td>296K</td>\n",
              "      <td>10.2K</td>\n",
              "      <td>874</td>\n",
              "      <td>9200000.0</td>\n",
              "      <td>296000.0</td>\n",
              "      <td>10200.0</td>\n",
              "      <td>874.0</td>\n",
              "    </tr>\n",
              "    <tr>\n",
              "      <th>998</th>\n",
              "      <td>CricketICC</td>\n",
              "      <td>ICC</td>\n",
              "      <td>Sports</td>\n",
              "      <td>9.2M</td>\n",
              "      <td>India</td>\n",
              "      <td>15.2K</td>\n",
              "      <td>854</td>\n",
              "      <td>58</td>\n",
              "      <td>9200000.0</td>\n",
              "      <td>15200.0</td>\n",
              "      <td>854.0</td>\n",
              "      <td>58.0</td>\n",
              "    </tr>\n",
              "    <tr>\n",
              "      <th>999</th>\n",
              "      <td>BRKsEDU</td>\n",
              "      <td>BRKsEDU</td>\n",
              "      <td>Animation</td>\n",
              "      <td>9.2M</td>\n",
              "      <td>Brazil</td>\n",
              "      <td>112.3K</td>\n",
              "      <td>9.8K</td>\n",
              "      <td>246</td>\n",
              "      <td>9200000.0</td>\n",
              "      <td>112300.0</td>\n",
              "      <td>9800.0</td>\n",
              "      <td>246.0</td>\n",
              "    </tr>\n",
              "  </tbody>\n",
              "</table>\n",
              "<p>786 rows × 12 columns</p>\n",
              "</div>\n",
              "      <button class=\"colab-df-convert\" onclick=\"convertToInteractive('df-3b48bffc-a295-4ad3-b04d-2d5b75a10608')\"\n",
              "              title=\"Convert this dataframe to an interactive table.\"\n",
              "              style=\"display:none;\">\n",
              "        \n",
              "  <svg xmlns=\"http://www.w3.org/2000/svg\" height=\"24px\"viewBox=\"0 0 24 24\"\n",
              "       width=\"24px\">\n",
              "    <path d=\"M0 0h24v24H0V0z\" fill=\"none\"/>\n",
              "    <path d=\"M18.56 5.44l.94 2.06.94-2.06 2.06-.94-2.06-.94-.94-2.06-.94 2.06-2.06.94zm-11 1L8.5 8.5l.94-2.06 2.06-.94-2.06-.94L8.5 2.5l-.94 2.06-2.06.94zm10 10l.94 2.06.94-2.06 2.06-.94-2.06-.94-.94-2.06-.94 2.06-2.06.94z\"/><path d=\"M17.41 7.96l-1.37-1.37c-.4-.4-.92-.59-1.43-.59-.52 0-1.04.2-1.43.59L10.3 9.45l-7.72 7.72c-.78.78-.78 2.05 0 2.83L4 21.41c.39.39.9.59 1.41.59.51 0 1.02-.2 1.41-.59l7.78-7.78 2.81-2.81c.8-.78.8-2.07 0-2.86zM5.41 20L4 18.59l7.72-7.72 1.47 1.35L5.41 20z\"/>\n",
              "  </svg>\n",
              "      </button>\n",
              "      \n",
              "  <style>\n",
              "    .colab-df-container {\n",
              "      display:flex;\n",
              "      flex-wrap:wrap;\n",
              "      gap: 12px;\n",
              "    }\n",
              "\n",
              "    .colab-df-convert {\n",
              "      background-color: #E8F0FE;\n",
              "      border: none;\n",
              "      border-radius: 50%;\n",
              "      cursor: pointer;\n",
              "      display: none;\n",
              "      fill: #1967D2;\n",
              "      height: 32px;\n",
              "      padding: 0 0 0 0;\n",
              "      width: 32px;\n",
              "    }\n",
              "\n",
              "    .colab-df-convert:hover {\n",
              "      background-color: #E2EBFA;\n",
              "      box-shadow: 0px 1px 2px rgba(60, 64, 67, 0.3), 0px 1px 3px 1px rgba(60, 64, 67, 0.15);\n",
              "      fill: #174EA6;\n",
              "    }\n",
              "\n",
              "    [theme=dark] .colab-df-convert {\n",
              "      background-color: #3B4455;\n",
              "      fill: #D2E3FC;\n",
              "    }\n",
              "\n",
              "    [theme=dark] .colab-df-convert:hover {\n",
              "      background-color: #434B5C;\n",
              "      box-shadow: 0px 1px 3px 1px rgba(0, 0, 0, 0.15);\n",
              "      filter: drop-shadow(0px 1px 2px rgba(0, 0, 0, 0.3));\n",
              "      fill: #FFFFFF;\n",
              "    }\n",
              "  </style>\n",
              "\n",
              "      <script>\n",
              "        const buttonEl =\n",
              "          document.querySelector('#df-3b48bffc-a295-4ad3-b04d-2d5b75a10608 button.colab-df-convert');\n",
              "        buttonEl.style.display =\n",
              "          google.colab.kernel.accessAllowed ? 'block' : 'none';\n",
              "\n",
              "        async function convertToInteractive(key) {\n",
              "          const element = document.querySelector('#df-3b48bffc-a295-4ad3-b04d-2d5b75a10608');\n",
              "          const dataTable =\n",
              "            await google.colab.kernel.invokeFunction('convertToInteractive',\n",
              "                                                     [key], {});\n",
              "          if (!dataTable) return;\n",
              "\n",
              "          const docLinkHtml = 'Like what you see? Visit the ' +\n",
              "            '<a target=\"_blank\" href=https://colab.research.google.com/notebooks/data_table.ipynb>data table notebook</a>'\n",
              "            + ' to learn more about interactive tables.';\n",
              "          element.innerHTML = '';\n",
              "          dataTable['output_type'] = 'display_data';\n",
              "          await google.colab.output.renderOutput(dataTable, element);\n",
              "          const docLink = document.createElement('div');\n",
              "          docLink.innerHTML = docLinkHtml;\n",
              "          element.appendChild(docLink);\n",
              "        }\n",
              "      </script>\n",
              "    </div>\n",
              "  </div>\n",
              "  "
            ]
          },
          "metadata": {},
          "execution_count": 201
        }
      ],
      "source": [
        "change(df_y,ly)"
      ],
      "id": "6107e5fe"
    },
    {
      "cell_type": "code",
      "execution_count": null,
      "metadata": {
        "execution": {
          "iopub.execute_input": "2022-04-23T06:31:17.742745Z",
          "iopub.status.busy": "2022-04-23T06:31:17.741887Z",
          "iopub.status.idle": "2022-04-23T06:31:17.745828Z",
          "shell.execute_reply": "2022-04-23T06:31:17.745267Z"
        },
        "papermill": {
          "duration": 0.092681,
          "end_time": "2022-04-23T06:31:17.747588",
          "exception": false,
          "start_time": "2022-04-23T06:31:17.654907",
          "status": "completed"
        },
        "tags": [],
        "id": "44510272",
        "colab": {
          "base_uri": "https://localhost:8080/"
        },
        "outputId": "811d9a40-c9fc-408d-ed9b-e0a871b548b8"
      },
      "outputs": [
        {
          "output_type": "execute_result",
          "data": {
            "text/plain": [
              "Video games         2\n",
              "Animation           1\n",
              "DIY & Life Hacks    1\n",
              "Name: Category, dtype: int64"
            ]
          },
          "metadata": {},
          "execution_count": 202
        }
      ],
      "source": [
        "df_y[df_y['Audience_Country']=='Spain']['Category'].value_counts()"
      ],
      "id": "44510272"
    },
    {
      "cell_type": "code",
      "execution_count": null,
      "metadata": {
        "execution": {
          "iopub.execute_input": "2022-04-23T06:31:17.922315Z",
          "iopub.status.busy": "2022-04-23T06:31:17.921567Z",
          "iopub.status.idle": "2022-04-23T06:31:17.925804Z",
          "shell.execute_reply": "2022-04-23T06:31:17.925137Z"
        },
        "papermill": {
          "duration": 0.093659,
          "end_time": "2022-04-23T06:31:17.927821",
          "exception": false,
          "start_time": "2022-04-23T06:31:17.834162",
          "status": "completed"
        },
        "tags": [],
        "id": "15842a8c",
        "colab": {
          "base_uri": "https://localhost:8080/",
          "height": 368
        },
        "outputId": "d99c4f97-c607-4852-b8d4-8a4c3da555f4"
      },
      "outputs": [
        {
          "output_type": "execute_result",
          "data": {
            "text/plain": [
              "       Youtuber_Name      Channel_Name   Category Subscribers_Count  \\\n",
              "249  RobinHoodGamer1  Robin Hood Gamer  Animation             18.4M   \n",
              "265         INCRÍVEL          INCRÍVEL  Animation             17.8M   \n",
              "493       TazerCraft        TazerCraft  Animation             13.3M   \n",
              "584       jazzghost1         Jazzghost  Animation             12.3M   \n",
              "672     FelipeViktor        LipaoGamer  Animation             11.3M   \n",
              "945       BETO GAMER        BETO GAMER  Animation              9.5M   \n",
              "999          BRKsEDU           BRKsEDU  Animation              9.2M   \n",
              "\n",
              "    Audience_Country Avg_Views Avg_Likes Avg_Comments  newSubscribers_Count  \\\n",
              "249           Brazil      1.3M       59K         1.1K            18400000.0   \n",
              "265           Brazil     32.5K      1.8K           47            17800000.0   \n",
              "493           Brazil    352.8K     26.8K          532            13300000.0   \n",
              "584           Brazil    758.7K     55.9K           2K            12300000.0   \n",
              "672           Brazil    164.5K     12.4K          168            11300000.0   \n",
              "945           Brazil    448.9K     28.1K          372             9500000.0   \n",
              "999           Brazil    112.3K      9.8K          246             9200000.0   \n",
              "\n",
              "     newAvg_Views  newAvg_Likes  newAvg_Comments  \n",
              "249     1300000.0       59000.0           1100.0  \n",
              "265       32500.0        1800.0             47.0  \n",
              "493      352800.0       26800.0            532.0  \n",
              "584      758700.0       55900.0           2000.0  \n",
              "672      164500.0       12400.0            168.0  \n",
              "945      448900.0       28100.0            372.0  \n",
              "999      112300.0        9800.0            246.0  "
            ],
            "text/html": [
              "\n",
              "  <div id=\"df-229c79d5-c5e1-4b71-b1d8-d196427147fc\">\n",
              "    <div class=\"colab-df-container\">\n",
              "      <div>\n",
              "<style scoped>\n",
              "    .dataframe tbody tr th:only-of-type {\n",
              "        vertical-align: middle;\n",
              "    }\n",
              "\n",
              "    .dataframe tbody tr th {\n",
              "        vertical-align: top;\n",
              "    }\n",
              "\n",
              "    .dataframe thead th {\n",
              "        text-align: right;\n",
              "    }\n",
              "</style>\n",
              "<table border=\"1\" class=\"dataframe\">\n",
              "  <thead>\n",
              "    <tr style=\"text-align: right;\">\n",
              "      <th></th>\n",
              "      <th>Youtuber_Name</th>\n",
              "      <th>Channel_Name</th>\n",
              "      <th>Category</th>\n",
              "      <th>Subscribers_Count</th>\n",
              "      <th>Audience_Country</th>\n",
              "      <th>Avg_Views</th>\n",
              "      <th>Avg_Likes</th>\n",
              "      <th>Avg_Comments</th>\n",
              "      <th>newSubscribers_Count</th>\n",
              "      <th>newAvg_Views</th>\n",
              "      <th>newAvg_Likes</th>\n",
              "      <th>newAvg_Comments</th>\n",
              "    </tr>\n",
              "  </thead>\n",
              "  <tbody>\n",
              "    <tr>\n",
              "      <th>249</th>\n",
              "      <td>RobinHoodGamer1</td>\n",
              "      <td>Robin Hood Gamer</td>\n",
              "      <td>Animation</td>\n",
              "      <td>18.4M</td>\n",
              "      <td>Brazil</td>\n",
              "      <td>1.3M</td>\n",
              "      <td>59K</td>\n",
              "      <td>1.1K</td>\n",
              "      <td>18400000.0</td>\n",
              "      <td>1300000.0</td>\n",
              "      <td>59000.0</td>\n",
              "      <td>1100.0</td>\n",
              "    </tr>\n",
              "    <tr>\n",
              "      <th>265</th>\n",
              "      <td>INCRÍVEL</td>\n",
              "      <td>INCRÍVEL</td>\n",
              "      <td>Animation</td>\n",
              "      <td>17.8M</td>\n",
              "      <td>Brazil</td>\n",
              "      <td>32.5K</td>\n",
              "      <td>1.8K</td>\n",
              "      <td>47</td>\n",
              "      <td>17800000.0</td>\n",
              "      <td>32500.0</td>\n",
              "      <td>1800.0</td>\n",
              "      <td>47.0</td>\n",
              "    </tr>\n",
              "    <tr>\n",
              "      <th>493</th>\n",
              "      <td>TazerCraft</td>\n",
              "      <td>TazerCraft</td>\n",
              "      <td>Animation</td>\n",
              "      <td>13.3M</td>\n",
              "      <td>Brazil</td>\n",
              "      <td>352.8K</td>\n",
              "      <td>26.8K</td>\n",
              "      <td>532</td>\n",
              "      <td>13300000.0</td>\n",
              "      <td>352800.0</td>\n",
              "      <td>26800.0</td>\n",
              "      <td>532.0</td>\n",
              "    </tr>\n",
              "    <tr>\n",
              "      <th>584</th>\n",
              "      <td>jazzghost1</td>\n",
              "      <td>Jazzghost</td>\n",
              "      <td>Animation</td>\n",
              "      <td>12.3M</td>\n",
              "      <td>Brazil</td>\n",
              "      <td>758.7K</td>\n",
              "      <td>55.9K</td>\n",
              "      <td>2K</td>\n",
              "      <td>12300000.0</td>\n",
              "      <td>758700.0</td>\n",
              "      <td>55900.0</td>\n",
              "      <td>2000.0</td>\n",
              "    </tr>\n",
              "    <tr>\n",
              "      <th>672</th>\n",
              "      <td>FelipeViktor</td>\n",
              "      <td>LipaoGamer</td>\n",
              "      <td>Animation</td>\n",
              "      <td>11.3M</td>\n",
              "      <td>Brazil</td>\n",
              "      <td>164.5K</td>\n",
              "      <td>12.4K</td>\n",
              "      <td>168</td>\n",
              "      <td>11300000.0</td>\n",
              "      <td>164500.0</td>\n",
              "      <td>12400.0</td>\n",
              "      <td>168.0</td>\n",
              "    </tr>\n",
              "    <tr>\n",
              "      <th>945</th>\n",
              "      <td>BETO GAMER</td>\n",
              "      <td>BETO GAMER</td>\n",
              "      <td>Animation</td>\n",
              "      <td>9.5M</td>\n",
              "      <td>Brazil</td>\n",
              "      <td>448.9K</td>\n",
              "      <td>28.1K</td>\n",
              "      <td>372</td>\n",
              "      <td>9500000.0</td>\n",
              "      <td>448900.0</td>\n",
              "      <td>28100.0</td>\n",
              "      <td>372.0</td>\n",
              "    </tr>\n",
              "    <tr>\n",
              "      <th>999</th>\n",
              "      <td>BRKsEDU</td>\n",
              "      <td>BRKsEDU</td>\n",
              "      <td>Animation</td>\n",
              "      <td>9.2M</td>\n",
              "      <td>Brazil</td>\n",
              "      <td>112.3K</td>\n",
              "      <td>9.8K</td>\n",
              "      <td>246</td>\n",
              "      <td>9200000.0</td>\n",
              "      <td>112300.0</td>\n",
              "      <td>9800.0</td>\n",
              "      <td>246.0</td>\n",
              "    </tr>\n",
              "  </tbody>\n",
              "</table>\n",
              "</div>\n",
              "      <button class=\"colab-df-convert\" onclick=\"convertToInteractive('df-229c79d5-c5e1-4b71-b1d8-d196427147fc')\"\n",
              "              title=\"Convert this dataframe to an interactive table.\"\n",
              "              style=\"display:none;\">\n",
              "        \n",
              "  <svg xmlns=\"http://www.w3.org/2000/svg\" height=\"24px\"viewBox=\"0 0 24 24\"\n",
              "       width=\"24px\">\n",
              "    <path d=\"M0 0h24v24H0V0z\" fill=\"none\"/>\n",
              "    <path d=\"M18.56 5.44l.94 2.06.94-2.06 2.06-.94-2.06-.94-.94-2.06-.94 2.06-2.06.94zm-11 1L8.5 8.5l.94-2.06 2.06-.94-2.06-.94L8.5 2.5l-.94 2.06-2.06.94zm10 10l.94 2.06.94-2.06 2.06-.94-2.06-.94-.94-2.06-.94 2.06-2.06.94z\"/><path d=\"M17.41 7.96l-1.37-1.37c-.4-.4-.92-.59-1.43-.59-.52 0-1.04.2-1.43.59L10.3 9.45l-7.72 7.72c-.78.78-.78 2.05 0 2.83L4 21.41c.39.39.9.59 1.41.59.51 0 1.02-.2 1.41-.59l7.78-7.78 2.81-2.81c.8-.78.8-2.07 0-2.86zM5.41 20L4 18.59l7.72-7.72 1.47 1.35L5.41 20z\"/>\n",
              "  </svg>\n",
              "      </button>\n",
              "      \n",
              "  <style>\n",
              "    .colab-df-container {\n",
              "      display:flex;\n",
              "      flex-wrap:wrap;\n",
              "      gap: 12px;\n",
              "    }\n",
              "\n",
              "    .colab-df-convert {\n",
              "      background-color: #E8F0FE;\n",
              "      border: none;\n",
              "      border-radius: 50%;\n",
              "      cursor: pointer;\n",
              "      display: none;\n",
              "      fill: #1967D2;\n",
              "      height: 32px;\n",
              "      padding: 0 0 0 0;\n",
              "      width: 32px;\n",
              "    }\n",
              "\n",
              "    .colab-df-convert:hover {\n",
              "      background-color: #E2EBFA;\n",
              "      box-shadow: 0px 1px 2px rgba(60, 64, 67, 0.3), 0px 1px 3px 1px rgba(60, 64, 67, 0.15);\n",
              "      fill: #174EA6;\n",
              "    }\n",
              "\n",
              "    [theme=dark] .colab-df-convert {\n",
              "      background-color: #3B4455;\n",
              "      fill: #D2E3FC;\n",
              "    }\n",
              "\n",
              "    [theme=dark] .colab-df-convert:hover {\n",
              "      background-color: #434B5C;\n",
              "      box-shadow: 0px 1px 3px 1px rgba(0, 0, 0, 0.15);\n",
              "      filter: drop-shadow(0px 1px 2px rgba(0, 0, 0, 0.3));\n",
              "      fill: #FFFFFF;\n",
              "    }\n",
              "  </style>\n",
              "\n",
              "      <script>\n",
              "        const buttonEl =\n",
              "          document.querySelector('#df-229c79d5-c5e1-4b71-b1d8-d196427147fc button.colab-df-convert');\n",
              "        buttonEl.style.display =\n",
              "          google.colab.kernel.accessAllowed ? 'block' : 'none';\n",
              "\n",
              "        async function convertToInteractive(key) {\n",
              "          const element = document.querySelector('#df-229c79d5-c5e1-4b71-b1d8-d196427147fc');\n",
              "          const dataTable =\n",
              "            await google.colab.kernel.invokeFunction('convertToInteractive',\n",
              "                                                     [key], {});\n",
              "          if (!dataTable) return;\n",
              "\n",
              "          const docLinkHtml = 'Like what you see? Visit the ' +\n",
              "            '<a target=\"_blank\" href=https://colab.research.google.com/notebooks/data_table.ipynb>data table notebook</a>'\n",
              "            + ' to learn more about interactive tables.';\n",
              "          element.innerHTML = '';\n",
              "          dataTable['output_type'] = 'display_data';\n",
              "          await google.colab.output.renderOutput(dataTable, element);\n",
              "          const docLink = document.createElement('div');\n",
              "          docLink.innerHTML = docLinkHtml;\n",
              "          element.appendChild(docLink);\n",
              "        }\n",
              "      </script>\n",
              "    </div>\n",
              "  </div>\n",
              "  "
            ]
          },
          "metadata": {},
          "execution_count": 203
        }
      ],
      "source": [
        "df_y[df_y['Audience_Country']=='Brazil'].groupby('Category').get_group('Animation')"
      ],
      "id": "15842a8c"
    },
    {
      "cell_type": "code",
      "execution_count": null,
      "metadata": {
        "execution": {
          "iopub.execute_input": "2022-04-23T06:31:18.103918Z",
          "iopub.status.busy": "2022-04-23T06:31:18.102936Z",
          "iopub.status.idle": "2022-04-23T06:31:18.109209Z",
          "shell.execute_reply": "2022-04-23T06:31:18.108541Z"
        },
        "papermill": {
          "duration": 0.095889,
          "end_time": "2022-04-23T06:31:18.111209",
          "exception": false,
          "start_time": "2022-04-23T06:31:18.015320",
          "status": "completed"
        },
        "tags": [],
        "id": "3af725cc"
      },
      "outputs": [],
      "source": [
        "df_y['Engagement rate']=round(((df_y['newAvg_Comments']+df_y['newAvg_Likes']+df_y['newAvg_Views'])/df_y['newSubscribers_Count'])*100,3)"
      ],
      "id": "3af725cc"
    },
    {
      "cell_type": "code",
      "execution_count": null,
      "metadata": {
        "execution": {
          "iopub.execute_input": "2022-04-23T06:31:18.285006Z",
          "iopub.status.busy": "2022-04-23T06:31:18.284502Z",
          "iopub.status.idle": "2022-04-23T06:31:18.299642Z",
          "shell.execute_reply": "2022-04-23T06:31:18.298848Z"
        },
        "papermill": {
          "duration": 0.104935,
          "end_time": "2022-04-23T06:31:18.302095",
          "exception": false,
          "start_time": "2022-04-23T06:31:18.197160",
          "status": "completed"
        },
        "tags": [],
        "id": "fae6d465",
        "colab": {
          "base_uri": "https://localhost:8080/",
          "height": 211
        },
        "outputId": "b11c43cb-dcba-469b-d737-db8efa2503d8"
      },
      "outputs": [
        {
          "output_type": "execute_result",
          "data": {
            "text/plain": [
              "  Youtuber_Name Channel_Name       Category Subscribers_Count  \\\n",
              "0       tseries     T-Series  Music & Dance            212.1M   \n",
              "2      setindia    SET India            NaN            130.4M   \n",
              "\n",
              "  Audience_Country Avg_Views Avg_Likes Avg_Comments  newSubscribers_Count  \\\n",
              "0            India    323.7K      9.8K          290           212100000.0   \n",
              "2            India     23.6K       314           21           130400000.0   \n",
              "\n",
              "   newAvg_Views  newAvg_Likes  newAvg_Comments  Engagement rate  \n",
              "0      323700.0        9800.0            290.0            0.157  \n",
              "2       23600.0         314.0             21.0            0.018  "
            ],
            "text/html": [
              "\n",
              "  <div id=\"df-f08ad01e-21a7-4d88-ba67-41192bace28c\">\n",
              "    <div class=\"colab-df-container\">\n",
              "      <div>\n",
              "<style scoped>\n",
              "    .dataframe tbody tr th:only-of-type {\n",
              "        vertical-align: middle;\n",
              "    }\n",
              "\n",
              "    .dataframe tbody tr th {\n",
              "        vertical-align: top;\n",
              "    }\n",
              "\n",
              "    .dataframe thead th {\n",
              "        text-align: right;\n",
              "    }\n",
              "</style>\n",
              "<table border=\"1\" class=\"dataframe\">\n",
              "  <thead>\n",
              "    <tr style=\"text-align: right;\">\n",
              "      <th></th>\n",
              "      <th>Youtuber_Name</th>\n",
              "      <th>Channel_Name</th>\n",
              "      <th>Category</th>\n",
              "      <th>Subscribers_Count</th>\n",
              "      <th>Audience_Country</th>\n",
              "      <th>Avg_Views</th>\n",
              "      <th>Avg_Likes</th>\n",
              "      <th>Avg_Comments</th>\n",
              "      <th>newSubscribers_Count</th>\n",
              "      <th>newAvg_Views</th>\n",
              "      <th>newAvg_Likes</th>\n",
              "      <th>newAvg_Comments</th>\n",
              "      <th>Engagement rate</th>\n",
              "    </tr>\n",
              "  </thead>\n",
              "  <tbody>\n",
              "    <tr>\n",
              "      <th>0</th>\n",
              "      <td>tseries</td>\n",
              "      <td>T-Series</td>\n",
              "      <td>Music &amp; Dance</td>\n",
              "      <td>212.1M</td>\n",
              "      <td>India</td>\n",
              "      <td>323.7K</td>\n",
              "      <td>9.8K</td>\n",
              "      <td>290</td>\n",
              "      <td>212100000.0</td>\n",
              "      <td>323700.0</td>\n",
              "      <td>9800.0</td>\n",
              "      <td>290.0</td>\n",
              "      <td>0.157</td>\n",
              "    </tr>\n",
              "    <tr>\n",
              "      <th>2</th>\n",
              "      <td>setindia</td>\n",
              "      <td>SET India</td>\n",
              "      <td>NaN</td>\n",
              "      <td>130.4M</td>\n",
              "      <td>India</td>\n",
              "      <td>23.6K</td>\n",
              "      <td>314</td>\n",
              "      <td>21</td>\n",
              "      <td>130400000.0</td>\n",
              "      <td>23600.0</td>\n",
              "      <td>314.0</td>\n",
              "      <td>21.0</td>\n",
              "      <td>0.018</td>\n",
              "    </tr>\n",
              "  </tbody>\n",
              "</table>\n",
              "</div>\n",
              "      <button class=\"colab-df-convert\" onclick=\"convertToInteractive('df-f08ad01e-21a7-4d88-ba67-41192bace28c')\"\n",
              "              title=\"Convert this dataframe to an interactive table.\"\n",
              "              style=\"display:none;\">\n",
              "        \n",
              "  <svg xmlns=\"http://www.w3.org/2000/svg\" height=\"24px\"viewBox=\"0 0 24 24\"\n",
              "       width=\"24px\">\n",
              "    <path d=\"M0 0h24v24H0V0z\" fill=\"none\"/>\n",
              "    <path d=\"M18.56 5.44l.94 2.06.94-2.06 2.06-.94-2.06-.94-.94-2.06-.94 2.06-2.06.94zm-11 1L8.5 8.5l.94-2.06 2.06-.94-2.06-.94L8.5 2.5l-.94 2.06-2.06.94zm10 10l.94 2.06.94-2.06 2.06-.94-2.06-.94-.94-2.06-.94 2.06-2.06.94z\"/><path d=\"M17.41 7.96l-1.37-1.37c-.4-.4-.92-.59-1.43-.59-.52 0-1.04.2-1.43.59L10.3 9.45l-7.72 7.72c-.78.78-.78 2.05 0 2.83L4 21.41c.39.39.9.59 1.41.59.51 0 1.02-.2 1.41-.59l7.78-7.78 2.81-2.81c.8-.78.8-2.07 0-2.86zM5.41 20L4 18.59l7.72-7.72 1.47 1.35L5.41 20z\"/>\n",
              "  </svg>\n",
              "      </button>\n",
              "      \n",
              "  <style>\n",
              "    .colab-df-container {\n",
              "      display:flex;\n",
              "      flex-wrap:wrap;\n",
              "      gap: 12px;\n",
              "    }\n",
              "\n",
              "    .colab-df-convert {\n",
              "      background-color: #E8F0FE;\n",
              "      border: none;\n",
              "      border-radius: 50%;\n",
              "      cursor: pointer;\n",
              "      display: none;\n",
              "      fill: #1967D2;\n",
              "      height: 32px;\n",
              "      padding: 0 0 0 0;\n",
              "      width: 32px;\n",
              "    }\n",
              "\n",
              "    .colab-df-convert:hover {\n",
              "      background-color: #E2EBFA;\n",
              "      box-shadow: 0px 1px 2px rgba(60, 64, 67, 0.3), 0px 1px 3px 1px rgba(60, 64, 67, 0.15);\n",
              "      fill: #174EA6;\n",
              "    }\n",
              "\n",
              "    [theme=dark] .colab-df-convert {\n",
              "      background-color: #3B4455;\n",
              "      fill: #D2E3FC;\n",
              "    }\n",
              "\n",
              "    [theme=dark] .colab-df-convert:hover {\n",
              "      background-color: #434B5C;\n",
              "      box-shadow: 0px 1px 3px 1px rgba(0, 0, 0, 0.15);\n",
              "      filter: drop-shadow(0px 1px 2px rgba(0, 0, 0, 0.3));\n",
              "      fill: #FFFFFF;\n",
              "    }\n",
              "  </style>\n",
              "\n",
              "      <script>\n",
              "        const buttonEl =\n",
              "          document.querySelector('#df-f08ad01e-21a7-4d88-ba67-41192bace28c button.colab-df-convert');\n",
              "        buttonEl.style.display =\n",
              "          google.colab.kernel.accessAllowed ? 'block' : 'none';\n",
              "\n",
              "        async function convertToInteractive(key) {\n",
              "          const element = document.querySelector('#df-f08ad01e-21a7-4d88-ba67-41192bace28c');\n",
              "          const dataTable =\n",
              "            await google.colab.kernel.invokeFunction('convertToInteractive',\n",
              "                                                     [key], {});\n",
              "          if (!dataTable) return;\n",
              "\n",
              "          const docLinkHtml = 'Like what you see? Visit the ' +\n",
              "            '<a target=\"_blank\" href=https://colab.research.google.com/notebooks/data_table.ipynb>data table notebook</a>'\n",
              "            + ' to learn more about interactive tables.';\n",
              "          element.innerHTML = '';\n",
              "          dataTable['output_type'] = 'display_data';\n",
              "          await google.colab.output.renderOutput(dataTable, element);\n",
              "          const docLink = document.createElement('div');\n",
              "          docLink.innerHTML = docLinkHtml;\n",
              "          element.appendChild(docLink);\n",
              "        }\n",
              "      </script>\n",
              "    </div>\n",
              "  </div>\n",
              "  "
            ]
          },
          "metadata": {},
          "execution_count": 205
        }
      ],
      "source": [
        "df_y.head(2)"
      ],
      "id": "fae6d465"
    },
    {
      "cell_type": "code",
      "execution_count": null,
      "metadata": {
        "execution": {
          "iopub.execute_input": "2022-04-23T06:31:18.481277Z",
          "iopub.status.busy": "2022-04-23T06:31:18.480769Z",
          "iopub.status.idle": "2022-04-23T06:31:18.486630Z",
          "shell.execute_reply": "2022-04-23T06:31:18.485966Z"
        },
        "papermill": {
          "duration": 0.097876,
          "end_time": "2022-04-23T06:31:18.488437",
          "exception": false,
          "start_time": "2022-04-23T06:31:18.390561",
          "status": "completed"
        },
        "tags": [],
        "id": "942e9687",
        "colab": {
          "base_uri": "https://localhost:8080/"
        },
        "outputId": "585d34b2-8d33-4a0a-e333-301f94533eb2"
      },
      "outputs": [
        {
          "output_type": "execute_result",
          "data": {
            "text/plain": [
              "Index(['Youtuber_Name', 'Channel_Name', 'Category', 'Subscribers_Count',\n",
              "       'Audience_Country', 'Avg_Views', 'Avg_Likes', 'Avg_Comments',\n",
              "       'newSubscribers_Count', 'newAvg_Views', 'newAvg_Likes',\n",
              "       'newAvg_Comments', 'Engagement rate'],\n",
              "      dtype='object')"
            ]
          },
          "metadata": {},
          "execution_count": 206
        }
      ],
      "source": [
        "df_y.columns"
      ],
      "id": "942e9687"
    },
    {
      "cell_type": "code",
      "execution_count": null,
      "metadata": {
        "execution": {
          "iopub.execute_input": "2022-04-23T06:31:18.662920Z",
          "iopub.status.busy": "2022-04-23T06:31:18.662383Z",
          "iopub.status.idle": "2022-04-23T06:31:18.667016Z",
          "shell.execute_reply": "2022-04-23T06:31:18.666385Z"
        },
        "papermill": {
          "duration": 0.094566,
          "end_time": "2022-04-23T06:31:18.669035",
          "exception": false,
          "start_time": "2022-04-23T06:31:18.574469",
          "status": "completed"
        },
        "tags": [],
        "id": "0ba39222"
      },
      "outputs": [],
      "source": [
        "# for convenince\n",
        "df_y['newSubscribers_Count']=df_y['newSubscribers_Count']/1000000"
      ],
      "id": "0ba39222"
    },
    {
      "cell_type": "code",
      "execution_count": null,
      "metadata": {
        "execution": {
          "iopub.execute_input": "2022-04-23T06:31:18.850536Z",
          "iopub.status.busy": "2022-04-23T06:31:18.850024Z",
          "iopub.status.idle": "2022-04-23T06:31:18.854703Z",
          "shell.execute_reply": "2022-04-23T06:31:18.854142Z"
        },
        "papermill": {
          "duration": 0.101091,
          "end_time": "2022-04-23T06:31:18.856489",
          "exception": false,
          "start_time": "2022-04-23T06:31:18.755398",
          "status": "completed"
        },
        "tags": [],
        "id": "742260c0"
      },
      "outputs": [],
      "source": [
        "df_y.drop(labels=['newAvg_Views', 'newAvg_Likes', 'Avg_Comments','newAvg_Comments', 'newAvg_Likes', 'Avg_Likes',\n",
        "       ],axis=1,inplace=True)"
      ],
      "id": "742260c0"
    },
    {
      "cell_type": "code",
      "execution_count": null,
      "metadata": {
        "execution": {
          "iopub.execute_input": "2022-04-23T06:31:19.030264Z",
          "iopub.status.busy": "2022-04-23T06:31:19.029767Z",
          "iopub.status.idle": "2022-04-23T06:31:19.037944Z",
          "shell.execute_reply": "2022-04-23T06:31:19.037168Z"
        },
        "papermill": {
          "duration": 0.097327,
          "end_time": "2022-04-23T06:31:19.039867",
          "exception": false,
          "start_time": "2022-04-23T06:31:18.942540",
          "status": "completed"
        },
        "tags": [],
        "id": "66029d68",
        "colab": {
          "base_uri": "https://localhost:8080/"
        },
        "outputId": "42b8eccc-9b6f-47b1-d0e0-59cbfe2222c5"
      },
      "outputs": [
        {
          "output_type": "execute_result",
          "data": {
            "text/plain": [
              "count    786.000000\n",
              "mean      17.016921\n",
              "std       13.593720\n",
              "min        9.200000\n",
              "25%       10.700000\n",
              "50%       13.000000\n",
              "75%       17.600000\n",
              "max      212.100000\n",
              "Name: newSubscribers_Count, dtype: float64"
            ]
          },
          "metadata": {},
          "execution_count": 209
        }
      ],
      "source": [
        "df_y['newSubscribers_Count'].describe()"
      ],
      "id": "66029d68"
    },
    {
      "cell_type": "code",
      "execution_count": null,
      "metadata": {
        "execution": {
          "iopub.execute_input": "2022-04-23T06:31:19.215012Z",
          "iopub.status.busy": "2022-04-23T06:31:19.214507Z",
          "iopub.status.idle": "2022-04-23T06:31:19.220506Z",
          "shell.execute_reply": "2022-04-23T06:31:19.219891Z"
        },
        "papermill": {
          "duration": 0.095481,
          "end_time": "2022-04-23T06:31:19.222309",
          "exception": false,
          "start_time": "2022-04-23T06:31:19.126828",
          "status": "completed"
        },
        "tags": [],
        "id": "8642ccc8",
        "colab": {
          "base_uri": "https://localhost:8080/"
        },
        "outputId": "316d59da-91f2-423d-e4cc-3d7fce10dcf4"
      },
      "outputs": [
        {
          "output_type": "execute_result",
          "data": {
            "text/plain": [
              "28.25"
            ]
          },
          "metadata": {},
          "execution_count": 210
        }
      ],
      "source": [
        "df_y['newSubscribers_Count'].quantile(0.90)"
      ],
      "id": "8642ccc8"
    },
    {
      "cell_type": "markdown",
      "metadata": {
        "papermill": {
          "duration": 0.092639,
          "end_time": "2022-04-23T06:31:19.402203",
          "exception": false,
          "start_time": "2022-04-23T06:31:19.309564",
          "status": "completed"
        },
        "tags": [],
        "id": "a664bb66"
      },
      "source": [
        "### Threshold can be decided by your choice \n",
        "#### Here i am cosidering that who have >30M subscribers that is coming the category of mega celebrity"
      ],
      "id": "a664bb66"
    },
    {
      "cell_type": "code",
      "execution_count": null,
      "metadata": {
        "execution": {
          "iopub.execute_input": "2022-04-23T06:31:19.576038Z",
          "iopub.status.busy": "2022-04-23T06:31:19.575561Z",
          "iopub.status.idle": "2022-04-23T06:31:19.585731Z",
          "shell.execute_reply": "2022-04-23T06:31:19.585158Z"
        },
        "papermill": {
          "duration": 0.098998,
          "end_time": "2022-04-23T06:31:19.587484",
          "exception": false,
          "start_time": "2022-04-23T06:31:19.488486",
          "status": "completed"
        },
        "tags": [],
        "id": "1e51ec91",
        "colab": {
          "base_uri": "https://localhost:8080/",
          "height": 81
        },
        "outputId": "5ad3d6fc-99d4-4515-c5fd-f3cf94cbc2b4"
      },
      "outputs": [
        {
          "output_type": "execute_result",
          "data": {
            "text/plain": [
              "  Youtuber_Name Channel_Name       Category Subscribers_Count  \\\n",
              "0       tseries     T-Series  Music & Dance            212.1M   \n",
              "\n",
              "  Audience_Country Avg_Views  newSubscribers_Count  Engagement rate  \n",
              "0            India    323.7K                 212.1            0.157  "
            ],
            "text/html": [
              "\n",
              "  <div id=\"df-ac38b7b9-5822-4b9a-9fec-6f200875bce9\">\n",
              "    <div class=\"colab-df-container\">\n",
              "      <div>\n",
              "<style scoped>\n",
              "    .dataframe tbody tr th:only-of-type {\n",
              "        vertical-align: middle;\n",
              "    }\n",
              "\n",
              "    .dataframe tbody tr th {\n",
              "        vertical-align: top;\n",
              "    }\n",
              "\n",
              "    .dataframe thead th {\n",
              "        text-align: right;\n",
              "    }\n",
              "</style>\n",
              "<table border=\"1\" class=\"dataframe\">\n",
              "  <thead>\n",
              "    <tr style=\"text-align: right;\">\n",
              "      <th></th>\n",
              "      <th>Youtuber_Name</th>\n",
              "      <th>Channel_Name</th>\n",
              "      <th>Category</th>\n",
              "      <th>Subscribers_Count</th>\n",
              "      <th>Audience_Country</th>\n",
              "      <th>Avg_Views</th>\n",
              "      <th>newSubscribers_Count</th>\n",
              "      <th>Engagement rate</th>\n",
              "    </tr>\n",
              "  </thead>\n",
              "  <tbody>\n",
              "    <tr>\n",
              "      <th>0</th>\n",
              "      <td>tseries</td>\n",
              "      <td>T-Series</td>\n",
              "      <td>Music &amp; Dance</td>\n",
              "      <td>212.1M</td>\n",
              "      <td>India</td>\n",
              "      <td>323.7K</td>\n",
              "      <td>212.1</td>\n",
              "      <td>0.157</td>\n",
              "    </tr>\n",
              "  </tbody>\n",
              "</table>\n",
              "</div>\n",
              "      <button class=\"colab-df-convert\" onclick=\"convertToInteractive('df-ac38b7b9-5822-4b9a-9fec-6f200875bce9')\"\n",
              "              title=\"Convert this dataframe to an interactive table.\"\n",
              "              style=\"display:none;\">\n",
              "        \n",
              "  <svg xmlns=\"http://www.w3.org/2000/svg\" height=\"24px\"viewBox=\"0 0 24 24\"\n",
              "       width=\"24px\">\n",
              "    <path d=\"M0 0h24v24H0V0z\" fill=\"none\"/>\n",
              "    <path d=\"M18.56 5.44l.94 2.06.94-2.06 2.06-.94-2.06-.94-.94-2.06-.94 2.06-2.06.94zm-11 1L8.5 8.5l.94-2.06 2.06-.94-2.06-.94L8.5 2.5l-.94 2.06-2.06.94zm10 10l.94 2.06.94-2.06 2.06-.94-2.06-.94-.94-2.06-.94 2.06-2.06.94z\"/><path d=\"M17.41 7.96l-1.37-1.37c-.4-.4-.92-.59-1.43-.59-.52 0-1.04.2-1.43.59L10.3 9.45l-7.72 7.72c-.78.78-.78 2.05 0 2.83L4 21.41c.39.39.9.59 1.41.59.51 0 1.02-.2 1.41-.59l7.78-7.78 2.81-2.81c.8-.78.8-2.07 0-2.86zM5.41 20L4 18.59l7.72-7.72 1.47 1.35L5.41 20z\"/>\n",
              "  </svg>\n",
              "      </button>\n",
              "      \n",
              "  <style>\n",
              "    .colab-df-container {\n",
              "      display:flex;\n",
              "      flex-wrap:wrap;\n",
              "      gap: 12px;\n",
              "    }\n",
              "\n",
              "    .colab-df-convert {\n",
              "      background-color: #E8F0FE;\n",
              "      border: none;\n",
              "      border-radius: 50%;\n",
              "      cursor: pointer;\n",
              "      display: none;\n",
              "      fill: #1967D2;\n",
              "      height: 32px;\n",
              "      padding: 0 0 0 0;\n",
              "      width: 32px;\n",
              "    }\n",
              "\n",
              "    .colab-df-convert:hover {\n",
              "      background-color: #E2EBFA;\n",
              "      box-shadow: 0px 1px 2px rgba(60, 64, 67, 0.3), 0px 1px 3px 1px rgba(60, 64, 67, 0.15);\n",
              "      fill: #174EA6;\n",
              "    }\n",
              "\n",
              "    [theme=dark] .colab-df-convert {\n",
              "      background-color: #3B4455;\n",
              "      fill: #D2E3FC;\n",
              "    }\n",
              "\n",
              "    [theme=dark] .colab-df-convert:hover {\n",
              "      background-color: #434B5C;\n",
              "      box-shadow: 0px 1px 3px 1px rgba(0, 0, 0, 0.15);\n",
              "      filter: drop-shadow(0px 1px 2px rgba(0, 0, 0, 0.3));\n",
              "      fill: #FFFFFF;\n",
              "    }\n",
              "  </style>\n",
              "\n",
              "      <script>\n",
              "        const buttonEl =\n",
              "          document.querySelector('#df-ac38b7b9-5822-4b9a-9fec-6f200875bce9 button.colab-df-convert');\n",
              "        buttonEl.style.display =\n",
              "          google.colab.kernel.accessAllowed ? 'block' : 'none';\n",
              "\n",
              "        async function convertToInteractive(key) {\n",
              "          const element = document.querySelector('#df-ac38b7b9-5822-4b9a-9fec-6f200875bce9');\n",
              "          const dataTable =\n",
              "            await google.colab.kernel.invokeFunction('convertToInteractive',\n",
              "                                                     [key], {});\n",
              "          if (!dataTable) return;\n",
              "\n",
              "          const docLinkHtml = 'Like what you see? Visit the ' +\n",
              "            '<a target=\"_blank\" href=https://colab.research.google.com/notebooks/data_table.ipynb>data table notebook</a>'\n",
              "            + ' to learn more about interactive tables.';\n",
              "          element.innerHTML = '';\n",
              "          dataTable['output_type'] = 'display_data';\n",
              "          await google.colab.output.renderOutput(dataTable, element);\n",
              "          const docLink = document.createElement('div');\n",
              "          docLink.innerHTML = docLinkHtml;\n",
              "          element.appendChild(docLink);\n",
              "        }\n",
              "      </script>\n",
              "    </div>\n",
              "  </div>\n",
              "  "
            ]
          },
          "metadata": {},
          "execution_count": 211
        }
      ],
      "source": [
        "df_y.head(1)"
      ],
      "id": "1e51ec91"
    },
    {
      "cell_type": "code",
      "execution_count": null,
      "metadata": {
        "execution": {
          "iopub.execute_input": "2022-04-23T06:31:19.763811Z",
          "iopub.status.busy": "2022-04-23T06:31:19.763343Z",
          "iopub.status.idle": "2022-04-23T06:31:19.767503Z",
          "shell.execute_reply": "2022-04-23T06:31:19.766997Z"
        },
        "papermill": {
          "duration": 0.093844,
          "end_time": "2022-04-23T06:31:19.769188",
          "exception": false,
          "start_time": "2022-04-23T06:31:19.675344",
          "status": "completed"
        },
        "tags": [],
        "id": "effed653"
      },
      "outputs": [],
      "source": [
        "def for_mini_followers_youtube(coun,cat):\n",
        "    df1=df_y[df_y['Audience_Country']==coun]\n",
        "    df1_mini=df1[df1['newSubscribers_Count']<=30]\n",
        "    return df1_mini.sort_values(by='Engagement rate',ascending=False).groupby('Category').get_group(cat).iloc[:,[0,3,-1]]\n",
        "    \n",
        "    "
      ],
      "id": "effed653"
    },
    {
      "cell_type": "code",
      "execution_count": null,
      "metadata": {
        "execution": {
          "iopub.execute_input": "2022-04-23T06:31:20.133810Z",
          "iopub.status.busy": "2022-04-23T06:31:20.133316Z",
          "iopub.status.idle": "2022-04-23T06:31:20.149648Z",
          "shell.execute_reply": "2022-04-23T06:31:20.149067Z"
        },
        "papermill": {
          "duration": 0.108001,
          "end_time": "2022-04-23T06:31:20.151316",
          "exception": false,
          "start_time": "2022-04-23T06:31:20.043315",
          "status": "completed"
        },
        "tags": [],
        "id": "d93b7193",
        "colab": {
          "base_uri": "https://localhost:8080/",
          "height": 1000
        },
        "outputId": "b8e1bdd3-3a9b-4182-b722-0bf3d948cf35"
      },
      "outputs": [
        {
          "output_type": "execute_result",
          "data": {
            "text/plain": [
              "                  Youtuber_Name Subscribers_Count  Engagement rate\n",
              "860                  Juice WRLD               10M           79.277\n",
              "914                Prince Royce              9.6M           74.629\n",
              "717  YoungBoy Never Broke Again             10.9M           72.458\n",
              "861                jordanmatter               10M           50.495\n",
              "607                    Migosatl             11.9M           28.876\n",
              "625                AvrilLavigne             11.7M           25.102\n",
              "656                    Davie504             11.5M           19.094\n",
              "711               YMWayneCarter             11.1M           18.963\n",
              "535             twentyonepilots             12.7M           14.654\n",
              "146            jypentertainment             24.2M           11.461\n",
              "942                      DaBaby              9.5M           10.675\n",
              "104             DisneyMusicVEVO             28.5M            9.001\n",
              "110              ImagineDragons             27.5M            6.180\n",
              "802            Cris Devil Gamer             10.3M            4.671\n",
              "414                  MattyBRaps             14.5M            3.593\n",
              "959            The Voice Global              9.4M            3.457\n",
              "291                   farrukotv             17.3M            2.984\n",
              "225               CharliesVlogs             19.2M            2.602\n",
              "534          skillzaisherebooya             12.7M            2.581\n",
              "678                        MTV2             11.3M            1.999\n",
              "108                  xoxxxoooxo             27.7M            1.379\n",
              "986         Soothing Relaxation              9.2M            1.263\n",
              "364          monstafluffmusicTV             15.3M            1.232\n",
              "522                  MattSDance             12.9M            1.026\n",
              "813                   Lofi Girl             10.3M            0.979\n",
              "520                 50CentMusic             12.9M            0.829\n",
              "347               queenofficial             15.7M            0.815\n",
              "366              Camila Cabello             15.3M            0.809\n",
              "338              littlemixmusic             15.9M            0.719\n",
              "892      Sơn Tùng M-TP Official              9.8M            0.674\n",
              "825                 cleanbandit             10.1M            0.663\n",
              "781             ChillStepNation             10.5M            0.522\n",
              "733              RapGeniusVideo             10.9M            0.499\n",
              "315                 JasonDerulo             16.5M            0.480\n",
              "730                  TygaTygaTV             10.9M            0.448\n",
              "207                        VEVO               20M            0.432\n",
              "428                MartinGarrix             14.3M            0.431\n",
              "934                Talent Recap              9.5M            0.356\n",
              "436            OfficialTrapCity             14.1M            0.328\n",
              "163                ColdplayVEVO             22.8M            0.321\n",
              "218              BeckyGOfficial             19.8M            0.316\n",
              "100                   latenight             29.3M            0.311\n",
              "126           WorldStarHipHopTV             25.8M            0.292\n",
              "99                   SpinninRec             29.5M            0.247\n",
              "345                  DopeLyrics             15.7M            0.206\n",
              "224                        Mnet             19.4M            0.174\n",
              "907             singkingkaraoke              9.7M            0.113\n",
              "105                UltraRecords             28.3M            0.113\n",
              "895                 OneRepublic              9.7M            0.110\n",
              "569              Meghan Trainor             12.3M            0.098\n",
              "886                 htv2channel              9.8M            0.088\n",
              "790                  CJENMMUSIC             10.5M            0.087\n",
              "960                 POPSVIETNAM              9.4M            0.084\n",
              "505              AtlanticVideos             13.1M            0.076\n",
              "848                         MTV             10.1M            0.070"
            ],
            "text/html": [
              "\n",
              "  <div id=\"df-24123f50-9d2a-4282-bce3-c2f321a63346\">\n",
              "    <div class=\"colab-df-container\">\n",
              "      <div>\n",
              "<style scoped>\n",
              "    .dataframe tbody tr th:only-of-type {\n",
              "        vertical-align: middle;\n",
              "    }\n",
              "\n",
              "    .dataframe tbody tr th {\n",
              "        vertical-align: top;\n",
              "    }\n",
              "\n",
              "    .dataframe thead th {\n",
              "        text-align: right;\n",
              "    }\n",
              "</style>\n",
              "<table border=\"1\" class=\"dataframe\">\n",
              "  <thead>\n",
              "    <tr style=\"text-align: right;\">\n",
              "      <th></th>\n",
              "      <th>Youtuber_Name</th>\n",
              "      <th>Subscribers_Count</th>\n",
              "      <th>Engagement rate</th>\n",
              "    </tr>\n",
              "  </thead>\n",
              "  <tbody>\n",
              "    <tr>\n",
              "      <th>860</th>\n",
              "      <td>Juice WRLD</td>\n",
              "      <td>10M</td>\n",
              "      <td>79.277</td>\n",
              "    </tr>\n",
              "    <tr>\n",
              "      <th>914</th>\n",
              "      <td>Prince Royce</td>\n",
              "      <td>9.6M</td>\n",
              "      <td>74.629</td>\n",
              "    </tr>\n",
              "    <tr>\n",
              "      <th>717</th>\n",
              "      <td>YoungBoy Never Broke Again</td>\n",
              "      <td>10.9M</td>\n",
              "      <td>72.458</td>\n",
              "    </tr>\n",
              "    <tr>\n",
              "      <th>861</th>\n",
              "      <td>jordanmatter</td>\n",
              "      <td>10M</td>\n",
              "      <td>50.495</td>\n",
              "    </tr>\n",
              "    <tr>\n",
              "      <th>607</th>\n",
              "      <td>Migosatl</td>\n",
              "      <td>11.9M</td>\n",
              "      <td>28.876</td>\n",
              "    </tr>\n",
              "    <tr>\n",
              "      <th>625</th>\n",
              "      <td>AvrilLavigne</td>\n",
              "      <td>11.7M</td>\n",
              "      <td>25.102</td>\n",
              "    </tr>\n",
              "    <tr>\n",
              "      <th>656</th>\n",
              "      <td>Davie504</td>\n",
              "      <td>11.5M</td>\n",
              "      <td>19.094</td>\n",
              "    </tr>\n",
              "    <tr>\n",
              "      <th>711</th>\n",
              "      <td>YMWayneCarter</td>\n",
              "      <td>11.1M</td>\n",
              "      <td>18.963</td>\n",
              "    </tr>\n",
              "    <tr>\n",
              "      <th>535</th>\n",
              "      <td>twentyonepilots</td>\n",
              "      <td>12.7M</td>\n",
              "      <td>14.654</td>\n",
              "    </tr>\n",
              "    <tr>\n",
              "      <th>146</th>\n",
              "      <td>jypentertainment</td>\n",
              "      <td>24.2M</td>\n",
              "      <td>11.461</td>\n",
              "    </tr>\n",
              "    <tr>\n",
              "      <th>942</th>\n",
              "      <td>DaBaby</td>\n",
              "      <td>9.5M</td>\n",
              "      <td>10.675</td>\n",
              "    </tr>\n",
              "    <tr>\n",
              "      <th>104</th>\n",
              "      <td>DisneyMusicVEVO</td>\n",
              "      <td>28.5M</td>\n",
              "      <td>9.001</td>\n",
              "    </tr>\n",
              "    <tr>\n",
              "      <th>110</th>\n",
              "      <td>ImagineDragons</td>\n",
              "      <td>27.5M</td>\n",
              "      <td>6.180</td>\n",
              "    </tr>\n",
              "    <tr>\n",
              "      <th>802</th>\n",
              "      <td>Cris Devil Gamer</td>\n",
              "      <td>10.3M</td>\n",
              "      <td>4.671</td>\n",
              "    </tr>\n",
              "    <tr>\n",
              "      <th>414</th>\n",
              "      <td>MattyBRaps</td>\n",
              "      <td>14.5M</td>\n",
              "      <td>3.593</td>\n",
              "    </tr>\n",
              "    <tr>\n",
              "      <th>959</th>\n",
              "      <td>The Voice Global</td>\n",
              "      <td>9.4M</td>\n",
              "      <td>3.457</td>\n",
              "    </tr>\n",
              "    <tr>\n",
              "      <th>291</th>\n",
              "      <td>farrukotv</td>\n",
              "      <td>17.3M</td>\n",
              "      <td>2.984</td>\n",
              "    </tr>\n",
              "    <tr>\n",
              "      <th>225</th>\n",
              "      <td>CharliesVlogs</td>\n",
              "      <td>19.2M</td>\n",
              "      <td>2.602</td>\n",
              "    </tr>\n",
              "    <tr>\n",
              "      <th>534</th>\n",
              "      <td>skillzaisherebooya</td>\n",
              "      <td>12.7M</td>\n",
              "      <td>2.581</td>\n",
              "    </tr>\n",
              "    <tr>\n",
              "      <th>678</th>\n",
              "      <td>MTV2</td>\n",
              "      <td>11.3M</td>\n",
              "      <td>1.999</td>\n",
              "    </tr>\n",
              "    <tr>\n",
              "      <th>108</th>\n",
              "      <td>xoxxxoooxo</td>\n",
              "      <td>27.7M</td>\n",
              "      <td>1.379</td>\n",
              "    </tr>\n",
              "    <tr>\n",
              "      <th>986</th>\n",
              "      <td>Soothing Relaxation</td>\n",
              "      <td>9.2M</td>\n",
              "      <td>1.263</td>\n",
              "    </tr>\n",
              "    <tr>\n",
              "      <th>364</th>\n",
              "      <td>monstafluffmusicTV</td>\n",
              "      <td>15.3M</td>\n",
              "      <td>1.232</td>\n",
              "    </tr>\n",
              "    <tr>\n",
              "      <th>522</th>\n",
              "      <td>MattSDance</td>\n",
              "      <td>12.9M</td>\n",
              "      <td>1.026</td>\n",
              "    </tr>\n",
              "    <tr>\n",
              "      <th>813</th>\n",
              "      <td>Lofi Girl</td>\n",
              "      <td>10.3M</td>\n",
              "      <td>0.979</td>\n",
              "    </tr>\n",
              "    <tr>\n",
              "      <th>520</th>\n",
              "      <td>50CentMusic</td>\n",
              "      <td>12.9M</td>\n",
              "      <td>0.829</td>\n",
              "    </tr>\n",
              "    <tr>\n",
              "      <th>347</th>\n",
              "      <td>queenofficial</td>\n",
              "      <td>15.7M</td>\n",
              "      <td>0.815</td>\n",
              "    </tr>\n",
              "    <tr>\n",
              "      <th>366</th>\n",
              "      <td>Camila Cabello</td>\n",
              "      <td>15.3M</td>\n",
              "      <td>0.809</td>\n",
              "    </tr>\n",
              "    <tr>\n",
              "      <th>338</th>\n",
              "      <td>littlemixmusic</td>\n",
              "      <td>15.9M</td>\n",
              "      <td>0.719</td>\n",
              "    </tr>\n",
              "    <tr>\n",
              "      <th>892</th>\n",
              "      <td>Sơn Tùng M-TP Official</td>\n",
              "      <td>9.8M</td>\n",
              "      <td>0.674</td>\n",
              "    </tr>\n",
              "    <tr>\n",
              "      <th>825</th>\n",
              "      <td>cleanbandit</td>\n",
              "      <td>10.1M</td>\n",
              "      <td>0.663</td>\n",
              "    </tr>\n",
              "    <tr>\n",
              "      <th>781</th>\n",
              "      <td>ChillStepNation</td>\n",
              "      <td>10.5M</td>\n",
              "      <td>0.522</td>\n",
              "    </tr>\n",
              "    <tr>\n",
              "      <th>733</th>\n",
              "      <td>RapGeniusVideo</td>\n",
              "      <td>10.9M</td>\n",
              "      <td>0.499</td>\n",
              "    </tr>\n",
              "    <tr>\n",
              "      <th>315</th>\n",
              "      <td>JasonDerulo</td>\n",
              "      <td>16.5M</td>\n",
              "      <td>0.480</td>\n",
              "    </tr>\n",
              "    <tr>\n",
              "      <th>730</th>\n",
              "      <td>TygaTygaTV</td>\n",
              "      <td>10.9M</td>\n",
              "      <td>0.448</td>\n",
              "    </tr>\n",
              "    <tr>\n",
              "      <th>207</th>\n",
              "      <td>VEVO</td>\n",
              "      <td>20M</td>\n",
              "      <td>0.432</td>\n",
              "    </tr>\n",
              "    <tr>\n",
              "      <th>428</th>\n",
              "      <td>MartinGarrix</td>\n",
              "      <td>14.3M</td>\n",
              "      <td>0.431</td>\n",
              "    </tr>\n",
              "    <tr>\n",
              "      <th>934</th>\n",
              "      <td>Talent Recap</td>\n",
              "      <td>9.5M</td>\n",
              "      <td>0.356</td>\n",
              "    </tr>\n",
              "    <tr>\n",
              "      <th>436</th>\n",
              "      <td>OfficialTrapCity</td>\n",
              "      <td>14.1M</td>\n",
              "      <td>0.328</td>\n",
              "    </tr>\n",
              "    <tr>\n",
              "      <th>163</th>\n",
              "      <td>ColdplayVEVO</td>\n",
              "      <td>22.8M</td>\n",
              "      <td>0.321</td>\n",
              "    </tr>\n",
              "    <tr>\n",
              "      <th>218</th>\n",
              "      <td>BeckyGOfficial</td>\n",
              "      <td>19.8M</td>\n",
              "      <td>0.316</td>\n",
              "    </tr>\n",
              "    <tr>\n",
              "      <th>100</th>\n",
              "      <td>latenight</td>\n",
              "      <td>29.3M</td>\n",
              "      <td>0.311</td>\n",
              "    </tr>\n",
              "    <tr>\n",
              "      <th>126</th>\n",
              "      <td>WorldStarHipHopTV</td>\n",
              "      <td>25.8M</td>\n",
              "      <td>0.292</td>\n",
              "    </tr>\n",
              "    <tr>\n",
              "      <th>99</th>\n",
              "      <td>SpinninRec</td>\n",
              "      <td>29.5M</td>\n",
              "      <td>0.247</td>\n",
              "    </tr>\n",
              "    <tr>\n",
              "      <th>345</th>\n",
              "      <td>DopeLyrics</td>\n",
              "      <td>15.7M</td>\n",
              "      <td>0.206</td>\n",
              "    </tr>\n",
              "    <tr>\n",
              "      <th>224</th>\n",
              "      <td>Mnet</td>\n",
              "      <td>19.4M</td>\n",
              "      <td>0.174</td>\n",
              "    </tr>\n",
              "    <tr>\n",
              "      <th>907</th>\n",
              "      <td>singkingkaraoke</td>\n",
              "      <td>9.7M</td>\n",
              "      <td>0.113</td>\n",
              "    </tr>\n",
              "    <tr>\n",
              "      <th>105</th>\n",
              "      <td>UltraRecords</td>\n",
              "      <td>28.3M</td>\n",
              "      <td>0.113</td>\n",
              "    </tr>\n",
              "    <tr>\n",
              "      <th>895</th>\n",
              "      <td>OneRepublic</td>\n",
              "      <td>9.7M</td>\n",
              "      <td>0.110</td>\n",
              "    </tr>\n",
              "    <tr>\n",
              "      <th>569</th>\n",
              "      <td>Meghan Trainor</td>\n",
              "      <td>12.3M</td>\n",
              "      <td>0.098</td>\n",
              "    </tr>\n",
              "    <tr>\n",
              "      <th>886</th>\n",
              "      <td>htv2channel</td>\n",
              "      <td>9.8M</td>\n",
              "      <td>0.088</td>\n",
              "    </tr>\n",
              "    <tr>\n",
              "      <th>790</th>\n",
              "      <td>CJENMMUSIC</td>\n",
              "      <td>10.5M</td>\n",
              "      <td>0.087</td>\n",
              "    </tr>\n",
              "    <tr>\n",
              "      <th>960</th>\n",
              "      <td>POPSVIETNAM</td>\n",
              "      <td>9.4M</td>\n",
              "      <td>0.084</td>\n",
              "    </tr>\n",
              "    <tr>\n",
              "      <th>505</th>\n",
              "      <td>AtlanticVideos</td>\n",
              "      <td>13.1M</td>\n",
              "      <td>0.076</td>\n",
              "    </tr>\n",
              "    <tr>\n",
              "      <th>848</th>\n",
              "      <td>MTV</td>\n",
              "      <td>10.1M</td>\n",
              "      <td>0.070</td>\n",
              "    </tr>\n",
              "  </tbody>\n",
              "</table>\n",
              "</div>\n",
              "      <button class=\"colab-df-convert\" onclick=\"convertToInteractive('df-24123f50-9d2a-4282-bce3-c2f321a63346')\"\n",
              "              title=\"Convert this dataframe to an interactive table.\"\n",
              "              style=\"display:none;\">\n",
              "        \n",
              "  <svg xmlns=\"http://www.w3.org/2000/svg\" height=\"24px\"viewBox=\"0 0 24 24\"\n",
              "       width=\"24px\">\n",
              "    <path d=\"M0 0h24v24H0V0z\" fill=\"none\"/>\n",
              "    <path d=\"M18.56 5.44l.94 2.06.94-2.06 2.06-.94-2.06-.94-.94-2.06-.94 2.06-2.06.94zm-11 1L8.5 8.5l.94-2.06 2.06-.94-2.06-.94L8.5 2.5l-.94 2.06-2.06.94zm10 10l.94 2.06.94-2.06 2.06-.94-2.06-.94-.94-2.06-.94 2.06-2.06.94z\"/><path d=\"M17.41 7.96l-1.37-1.37c-.4-.4-.92-.59-1.43-.59-.52 0-1.04.2-1.43.59L10.3 9.45l-7.72 7.72c-.78.78-.78 2.05 0 2.83L4 21.41c.39.39.9.59 1.41.59.51 0 1.02-.2 1.41-.59l7.78-7.78 2.81-2.81c.8-.78.8-2.07 0-2.86zM5.41 20L4 18.59l7.72-7.72 1.47 1.35L5.41 20z\"/>\n",
              "  </svg>\n",
              "      </button>\n",
              "      \n",
              "  <style>\n",
              "    .colab-df-container {\n",
              "      display:flex;\n",
              "      flex-wrap:wrap;\n",
              "      gap: 12px;\n",
              "    }\n",
              "\n",
              "    .colab-df-convert {\n",
              "      background-color: #E8F0FE;\n",
              "      border: none;\n",
              "      border-radius: 50%;\n",
              "      cursor: pointer;\n",
              "      display: none;\n",
              "      fill: #1967D2;\n",
              "      height: 32px;\n",
              "      padding: 0 0 0 0;\n",
              "      width: 32px;\n",
              "    }\n",
              "\n",
              "    .colab-df-convert:hover {\n",
              "      background-color: #E2EBFA;\n",
              "      box-shadow: 0px 1px 2px rgba(60, 64, 67, 0.3), 0px 1px 3px 1px rgba(60, 64, 67, 0.15);\n",
              "      fill: #174EA6;\n",
              "    }\n",
              "\n",
              "    [theme=dark] .colab-df-convert {\n",
              "      background-color: #3B4455;\n",
              "      fill: #D2E3FC;\n",
              "    }\n",
              "\n",
              "    [theme=dark] .colab-df-convert:hover {\n",
              "      background-color: #434B5C;\n",
              "      box-shadow: 0px 1px 3px 1px rgba(0, 0, 0, 0.15);\n",
              "      filter: drop-shadow(0px 1px 2px rgba(0, 0, 0, 0.3));\n",
              "      fill: #FFFFFF;\n",
              "    }\n",
              "  </style>\n",
              "\n",
              "      <script>\n",
              "        const buttonEl =\n",
              "          document.querySelector('#df-24123f50-9d2a-4282-bce3-c2f321a63346 button.colab-df-convert');\n",
              "        buttonEl.style.display =\n",
              "          google.colab.kernel.accessAllowed ? 'block' : 'none';\n",
              "\n",
              "        async function convertToInteractive(key) {\n",
              "          const element = document.querySelector('#df-24123f50-9d2a-4282-bce3-c2f321a63346');\n",
              "          const dataTable =\n",
              "            await google.colab.kernel.invokeFunction('convertToInteractive',\n",
              "                                                     [key], {});\n",
              "          if (!dataTable) return;\n",
              "\n",
              "          const docLinkHtml = 'Like what you see? Visit the ' +\n",
              "            '<a target=\"_blank\" href=https://colab.research.google.com/notebooks/data_table.ipynb>data table notebook</a>'\n",
              "            + ' to learn more about interactive tables.';\n",
              "          element.innerHTML = '';\n",
              "          dataTable['output_type'] = 'display_data';\n",
              "          await google.colab.output.renderOutput(dataTable, element);\n",
              "          const docLink = document.createElement('div');\n",
              "          docLink.innerHTML = docLinkHtml;\n",
              "          element.appendChild(docLink);\n",
              "        }\n",
              "      </script>\n",
              "    </div>\n",
              "  </div>\n",
              "  "
            ]
          },
          "metadata": {},
          "execution_count": 213
        }
      ],
      "source": [
        "for_mini_followers_youtube('United States','Music & Dance')"
      ],
      "id": "d93b7193"
    },
    {
      "cell_type": "code",
      "execution_count": null,
      "metadata": {
        "execution": {
          "iopub.execute_input": "2022-04-23T06:31:20.329066Z",
          "iopub.status.busy": "2022-04-23T06:31:20.328541Z",
          "iopub.status.idle": "2022-04-23T06:31:20.333151Z",
          "shell.execute_reply": "2022-04-23T06:31:20.332541Z"
        },
        "papermill": {
          "duration": 0.095374,
          "end_time": "2022-04-23T06:31:20.334976",
          "exception": false,
          "start_time": "2022-04-23T06:31:20.239602",
          "status": "completed"
        },
        "tags": [],
        "id": "39f59c4b"
      },
      "outputs": [],
      "source": [
        "def for_mega_followers_youtube(coun,cat):\n",
        "    df1=df_y[df_y['Audience_Country']==coun]\n",
        "    df1_mini=df1[df1['newSubscribers_Count']>30]\n",
        "    return df1_mini.sort_values(by='Engagement rate',ascending=False).groupby('Category').get_group(cat).iloc[:,[0,3,-1]]\n",
        "    \n",
        "    "
      ],
      "id": "39f59c4b"
    },
    {
      "cell_type": "code",
      "execution_count": null,
      "metadata": {
        "execution": {
          "iopub.execute_input": "2022-04-23T06:31:20.516883Z",
          "iopub.status.busy": "2022-04-23T06:31:20.516374Z",
          "iopub.status.idle": "2022-04-23T06:31:20.528772Z",
          "shell.execute_reply": "2022-04-23T06:31:20.527866Z"
        },
        "papermill": {
          "duration": 0.107721,
          "end_time": "2022-04-23T06:31:20.530788",
          "exception": false,
          "start_time": "2022-04-23T06:31:20.423067",
          "status": "completed"
        },
        "tags": [],
        "id": "a9a7b471",
        "colab": {
          "base_uri": "https://localhost:8080/",
          "height": 143
        },
        "outputId": "4abb553c-8328-41db-8a84-6c2fa1a7698b"
      },
      "outputs": [
        {
          "output_type": "execute_result",
          "data": {
            "text/plain": [
              "              Influencer_Name Followers_Count  Engagement Rate\n",
              "676                     NJ 🇧🇷            172M            1.337\n",
              "789  Ronaldo de Assis Moreira           65.1M            0.487\n",
              "177     UEFA Champions League           91.4M            0.377"
            ],
            "text/html": [
              "\n",
              "  <div id=\"df-952d236e-7fa8-4ebd-9c17-b12a2f2531fe\">\n",
              "    <div class=\"colab-df-container\">\n",
              "      <div>\n",
              "<style scoped>\n",
              "    .dataframe tbody tr th:only-of-type {\n",
              "        vertical-align: middle;\n",
              "    }\n",
              "\n",
              "    .dataframe tbody tr th {\n",
              "        vertical-align: top;\n",
              "    }\n",
              "\n",
              "    .dataframe thead th {\n",
              "        text-align: right;\n",
              "    }\n",
              "</style>\n",
              "<table border=\"1\" class=\"dataframe\">\n",
              "  <thead>\n",
              "    <tr style=\"text-align: right;\">\n",
              "      <th></th>\n",
              "      <th>Influencer_Name</th>\n",
              "      <th>Followers_Count</th>\n",
              "      <th>Engagement Rate</th>\n",
              "    </tr>\n",
              "  </thead>\n",
              "  <tbody>\n",
              "    <tr>\n",
              "      <th>676</th>\n",
              "      <td>NJ 🇧🇷</td>\n",
              "      <td>172M</td>\n",
              "      <td>1.337</td>\n",
              "    </tr>\n",
              "    <tr>\n",
              "      <th>789</th>\n",
              "      <td>Ronaldo de Assis Moreira</td>\n",
              "      <td>65.1M</td>\n",
              "      <td>0.487</td>\n",
              "    </tr>\n",
              "    <tr>\n",
              "      <th>177</th>\n",
              "      <td>UEFA Champions League</td>\n",
              "      <td>91.4M</td>\n",
              "      <td>0.377</td>\n",
              "    </tr>\n",
              "  </tbody>\n",
              "</table>\n",
              "</div>\n",
              "      <button class=\"colab-df-convert\" onclick=\"convertToInteractive('df-952d236e-7fa8-4ebd-9c17-b12a2f2531fe')\"\n",
              "              title=\"Convert this dataframe to an interactive table.\"\n",
              "              style=\"display:none;\">\n",
              "        \n",
              "  <svg xmlns=\"http://www.w3.org/2000/svg\" height=\"24px\"viewBox=\"0 0 24 24\"\n",
              "       width=\"24px\">\n",
              "    <path d=\"M0 0h24v24H0V0z\" fill=\"none\"/>\n",
              "    <path d=\"M18.56 5.44l.94 2.06.94-2.06 2.06-.94-2.06-.94-.94-2.06-.94 2.06-2.06.94zm-11 1L8.5 8.5l.94-2.06 2.06-.94-2.06-.94L8.5 2.5l-.94 2.06-2.06.94zm10 10l.94 2.06.94-2.06 2.06-.94-2.06-.94-.94-2.06-.94 2.06-2.06.94z\"/><path d=\"M17.41 7.96l-1.37-1.37c-.4-.4-.92-.59-1.43-.59-.52 0-1.04.2-1.43.59L10.3 9.45l-7.72 7.72c-.78.78-.78 2.05 0 2.83L4 21.41c.39.39.9.59 1.41.59.51 0 1.02-.2 1.41-.59l7.78-7.78 2.81-2.81c.8-.78.8-2.07 0-2.86zM5.41 20L4 18.59l7.72-7.72 1.47 1.35L5.41 20z\"/>\n",
              "  </svg>\n",
              "      </button>\n",
              "      \n",
              "  <style>\n",
              "    .colab-df-container {\n",
              "      display:flex;\n",
              "      flex-wrap:wrap;\n",
              "      gap: 12px;\n",
              "    }\n",
              "\n",
              "    .colab-df-convert {\n",
              "      background-color: #E8F0FE;\n",
              "      border: none;\n",
              "      border-radius: 50%;\n",
              "      cursor: pointer;\n",
              "      display: none;\n",
              "      fill: #1967D2;\n",
              "      height: 32px;\n",
              "      padding: 0 0 0 0;\n",
              "      width: 32px;\n",
              "    }\n",
              "\n",
              "    .colab-df-convert:hover {\n",
              "      background-color: #E2EBFA;\n",
              "      box-shadow: 0px 1px 2px rgba(60, 64, 67, 0.3), 0px 1px 3px 1px rgba(60, 64, 67, 0.15);\n",
              "      fill: #174EA6;\n",
              "    }\n",
              "\n",
              "    [theme=dark] .colab-df-convert {\n",
              "      background-color: #3B4455;\n",
              "      fill: #D2E3FC;\n",
              "    }\n",
              "\n",
              "    [theme=dark] .colab-df-convert:hover {\n",
              "      background-color: #434B5C;\n",
              "      box-shadow: 0px 1px 3px 1px rgba(0, 0, 0, 0.15);\n",
              "      filter: drop-shadow(0px 1px 2px rgba(0, 0, 0, 0.3));\n",
              "      fill: #FFFFFF;\n",
              "    }\n",
              "  </style>\n",
              "\n",
              "      <script>\n",
              "        const buttonEl =\n",
              "          document.querySelector('#df-952d236e-7fa8-4ebd-9c17-b12a2f2531fe button.colab-df-convert');\n",
              "        buttonEl.style.display =\n",
              "          google.colab.kernel.accessAllowed ? 'block' : 'none';\n",
              "\n",
              "        async function convertToInteractive(key) {\n",
              "          const element = document.querySelector('#df-952d236e-7fa8-4ebd-9c17-b12a2f2531fe');\n",
              "          const dataTable =\n",
              "            await google.colab.kernel.invokeFunction('convertToInteractive',\n",
              "                                                     [key], {});\n",
              "          if (!dataTable) return;\n",
              "\n",
              "          const docLinkHtml = 'Like what you see? Visit the ' +\n",
              "            '<a target=\"_blank\" href=https://colab.research.google.com/notebooks/data_table.ipynb>data table notebook</a>'\n",
              "            + ' to learn more about interactive tables.';\n",
              "          element.innerHTML = '';\n",
              "          dataTable['output_type'] = 'display_data';\n",
              "          await google.colab.output.renderOutput(dataTable, element);\n",
              "          const docLink = document.createElement('div');\n",
              "          docLink.innerHTML = docLinkHtml;\n",
              "          element.appendChild(docLink);\n",
              "        }\n",
              "      </script>\n",
              "    </div>\n",
              "  </div>\n",
              "  "
            ]
          },
          "metadata": {},
          "execution_count": 215
        }
      ],
      "source": [
        "for_mega_followers_instagram('Brazil','Sports with a ball')\n",
        "# with country and category"
      ],
      "id": "a9a7b471"
    },
    {
      "cell_type": "code",
      "execution_count": null,
      "metadata": {
        "execution": {
          "iopub.execute_input": "2022-04-23T06:31:20.715023Z",
          "iopub.status.busy": "2022-04-23T06:31:20.714535Z",
          "iopub.status.idle": "2022-04-23T06:31:20.718098Z",
          "shell.execute_reply": "2022-04-23T06:31:20.717306Z"
        },
        "papermill": {
          "duration": 0.098637,
          "end_time": "2022-04-23T06:31:20.720016",
          "exception": false,
          "start_time": "2022-04-23T06:31:20.621379",
          "status": "completed"
        },
        "tags": [],
        "id": "67ead204",
        "colab": {
          "base_uri": "https://localhost:8080/"
        },
        "outputId": "e223debf-4720-473c-8913-c8b2fa26af4c"
      },
      "outputs": [
        {
          "output_type": "execute_result",
          "data": {
            "text/plain": [
              "Music & Dance           184\n",
              "Video games              79\n",
              "Animation                56\n",
              "News & Politics          45\n",
              "Movies                   33\n",
              "Humor                    29\n",
              "Daily vlogs              27\n",
              "Toys                     20\n",
              "Science & Technology     17\n",
              "Food & Drinks            15\n",
              "Education                14\n",
              "DIY & Life Hacks         14\n",
              "Sports                   11\n",
              "Fashion                   7\n",
              "Animals & Pets            4\n",
              "Fitness                   3\n",
              "ASMR                      3\n",
              "Design/art                3\n",
              "Beauty                    2\n",
              "Health & Self Help        2\n",
              "Autos & Vehicles          1\n",
              "Mystery                   1\n",
              "Travel                    1\n",
              "Name: Category, dtype: int64"
            ]
          },
          "metadata": {},
          "execution_count": 216
        }
      ],
      "source": [
        "df_y['Category'].value_counts()"
      ],
      "id": "67ead204"
    },
    {
      "cell_type": "code",
      "execution_count": null,
      "metadata": {
        "execution": {
          "iopub.execute_input": "2022-04-23T06:31:20.907963Z",
          "iopub.status.busy": "2022-04-23T06:31:20.907410Z",
          "iopub.status.idle": "2022-04-23T06:31:20.922897Z",
          "shell.execute_reply": "2022-04-23T06:31:20.921950Z"
        },
        "papermill": {
          "duration": 0.114376,
          "end_time": "2022-04-23T06:31:20.925262",
          "exception": false,
          "start_time": "2022-04-23T06:31:20.810886",
          "status": "completed"
        },
        "tags": [],
        "id": "426e20fc",
        "colab": {
          "base_uri": "https://localhost:8080/",
          "height": 81
        },
        "outputId": "05daea09-fbb9-48c6-9044-811d22da204e"
      },
      "outputs": [
        {
          "output_type": "execute_result",
          "data": {
            "text/plain": [
              "   Youtuber_Name Subscribers_Count  Engagement rate\n",
              "15         sabtv             64.9M            0.073"
            ],
            "text/html": [
              "\n",
              "  <div id=\"df-33bf5caf-3c81-48c7-9b0d-c00e7ded4050\">\n",
              "    <div class=\"colab-df-container\">\n",
              "      <div>\n",
              "<style scoped>\n",
              "    .dataframe tbody tr th:only-of-type {\n",
              "        vertical-align: middle;\n",
              "    }\n",
              "\n",
              "    .dataframe tbody tr th {\n",
              "        vertical-align: top;\n",
              "    }\n",
              "\n",
              "    .dataframe thead th {\n",
              "        text-align: right;\n",
              "    }\n",
              "</style>\n",
              "<table border=\"1\" class=\"dataframe\">\n",
              "  <thead>\n",
              "    <tr style=\"text-align: right;\">\n",
              "      <th></th>\n",
              "      <th>Youtuber_Name</th>\n",
              "      <th>Subscribers_Count</th>\n",
              "      <th>Engagement rate</th>\n",
              "    </tr>\n",
              "  </thead>\n",
              "  <tbody>\n",
              "    <tr>\n",
              "      <th>15</th>\n",
              "      <td>sabtv</td>\n",
              "      <td>64.9M</td>\n",
              "      <td>0.073</td>\n",
              "    </tr>\n",
              "  </tbody>\n",
              "</table>\n",
              "</div>\n",
              "      <button class=\"colab-df-convert\" onclick=\"convertToInteractive('df-33bf5caf-3c81-48c7-9b0d-c00e7ded4050')\"\n",
              "              title=\"Convert this dataframe to an interactive table.\"\n",
              "              style=\"display:none;\">\n",
              "        \n",
              "  <svg xmlns=\"http://www.w3.org/2000/svg\" height=\"24px\"viewBox=\"0 0 24 24\"\n",
              "       width=\"24px\">\n",
              "    <path d=\"M0 0h24v24H0V0z\" fill=\"none\"/>\n",
              "    <path d=\"M18.56 5.44l.94 2.06.94-2.06 2.06-.94-2.06-.94-.94-2.06-.94 2.06-2.06.94zm-11 1L8.5 8.5l.94-2.06 2.06-.94-2.06-.94L8.5 2.5l-.94 2.06-2.06.94zm10 10l.94 2.06.94-2.06 2.06-.94-2.06-.94-.94-2.06-.94 2.06-2.06.94z\"/><path d=\"M17.41 7.96l-1.37-1.37c-.4-.4-.92-.59-1.43-.59-.52 0-1.04.2-1.43.59L10.3 9.45l-7.72 7.72c-.78.78-.78 2.05 0 2.83L4 21.41c.39.39.9.59 1.41.59.51 0 1.02-.2 1.41-.59l7.78-7.78 2.81-2.81c.8-.78.8-2.07 0-2.86zM5.41 20L4 18.59l7.72-7.72 1.47 1.35L5.41 20z\"/>\n",
              "  </svg>\n",
              "      </button>\n",
              "      \n",
              "  <style>\n",
              "    .colab-df-container {\n",
              "      display:flex;\n",
              "      flex-wrap:wrap;\n",
              "      gap: 12px;\n",
              "    }\n",
              "\n",
              "    .colab-df-convert {\n",
              "      background-color: #E8F0FE;\n",
              "      border: none;\n",
              "      border-radius: 50%;\n",
              "      cursor: pointer;\n",
              "      display: none;\n",
              "      fill: #1967D2;\n",
              "      height: 32px;\n",
              "      padding: 0 0 0 0;\n",
              "      width: 32px;\n",
              "    }\n",
              "\n",
              "    .colab-df-convert:hover {\n",
              "      background-color: #E2EBFA;\n",
              "      box-shadow: 0px 1px 2px rgba(60, 64, 67, 0.3), 0px 1px 3px 1px rgba(60, 64, 67, 0.15);\n",
              "      fill: #174EA6;\n",
              "    }\n",
              "\n",
              "    [theme=dark] .colab-df-convert {\n",
              "      background-color: #3B4455;\n",
              "      fill: #D2E3FC;\n",
              "    }\n",
              "\n",
              "    [theme=dark] .colab-df-convert:hover {\n",
              "      background-color: #434B5C;\n",
              "      box-shadow: 0px 1px 3px 1px rgba(0, 0, 0, 0.15);\n",
              "      filter: drop-shadow(0px 1px 2px rgba(0, 0, 0, 0.3));\n",
              "      fill: #FFFFFF;\n",
              "    }\n",
              "  </style>\n",
              "\n",
              "      <script>\n",
              "        const buttonEl =\n",
              "          document.querySelector('#df-33bf5caf-3c81-48c7-9b0d-c00e7ded4050 button.colab-df-convert');\n",
              "        buttonEl.style.display =\n",
              "          google.colab.kernel.accessAllowed ? 'block' : 'none';\n",
              "\n",
              "        async function convertToInteractive(key) {\n",
              "          const element = document.querySelector('#df-33bf5caf-3c81-48c7-9b0d-c00e7ded4050');\n",
              "          const dataTable =\n",
              "            await google.colab.kernel.invokeFunction('convertToInteractive',\n",
              "                                                     [key], {});\n",
              "          if (!dataTable) return;\n",
              "\n",
              "          const docLinkHtml = 'Like what you see? Visit the ' +\n",
              "            '<a target=\"_blank\" href=https://colab.research.google.com/notebooks/data_table.ipynb>data table notebook</a>'\n",
              "            + ' to learn more about interactive tables.';\n",
              "          element.innerHTML = '';\n",
              "          dataTable['output_type'] = 'display_data';\n",
              "          await google.colab.output.renderOutput(dataTable, element);\n",
              "          const docLink = document.createElement('div');\n",
              "          docLink.innerHTML = docLinkHtml;\n",
              "          element.appendChild(docLink);\n",
              "        }\n",
              "      </script>\n",
              "    </div>\n",
              "  </div>\n",
              "  "
            ]
          },
          "metadata": {},
          "execution_count": 217
        }
      ],
      "source": [
        "for_mega_followers_youtube('India','Movies')"
      ],
      "id": "426e20fc"
    },
    {
      "cell_type": "code",
      "source": [],
      "metadata": {
        "id": "xqWhNiQmFkrG"
      },
      "id": "xqWhNiQmFkrG",
      "execution_count": null,
      "outputs": []
    }
  ],
  "metadata": {
    "kernelspec": {
      "display_name": "Python 3",
      "language": "python",
      "name": "python3"
    },
    "language_info": {
      "codemirror_mode": {
        "name": "ipython",
        "version": 3
      },
      "file_extension": ".py",
      "mimetype": "text/x-python",
      "name": "python",
      "nbconvert_exporter": "python",
      "pygments_lexer": "ipython3",
      "version": "3.7.12"
    },
    "papermill": {
      "default_parameters": {},
      "duration": 29.504625,
      "end_time": "2022-04-23T06:31:21.736795",
      "environment_variables": {},
      "exception": null,
      "input_path": "__notebook__.ipynb",
      "output_path": "__notebook__.ipynb",
      "parameters": {},
      "start_time": "2022-04-23T06:30:52.232170",
      "version": "2.3.4"
    },
    "colab": {
      "provenance": []
    }
  },
  "nbformat": 4,
  "nbformat_minor": 5
}